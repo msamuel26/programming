{
 "cells": [
  {
   "cell_type": "markdown",
   "metadata": {},
   "source": [
    "Hari ini mempelajari regex, contoh untuk mempelajari regex yaitu \"https://regex101.com/\""
   ]
  },
  {
   "cell_type": "code",
   "execution_count": 3,
   "metadata": {},
   "outputs": [
    {
     "name": "stdout",
     "output_type": "stream",
     "text": [
      "['9', '9', '1', '0', '1', '2', '1', '2', '8', '3', '8', '8', '2', '8', '3', '8', '8', '2', '9', '0']\n",
      " \n",
      "['m', 'o', 's', 'e', 's', 'p', 'a', 's', 't', 'i', 'b', 'i', 's', 'a']\n"
     ]
    }
   ],
   "source": [
    "import re\n",
    "string = 'm 9 o 9 s 10 e 12 s 12 p 83 a 88 s 283 ti 88 b 2 i 90 sa'\n",
    "pattern = '\\d' # mencari data hanya berupa angka/digit\n",
    "pattern1 = '[a-z]' # mencari data dari huruf a sampai z\n",
    "\n",
    "matches = re.findall(pattern, string)\n",
    "print(matches)\n",
    "print(\" \")\n",
    "\n",
    "matches1 = re.findall(pattern1, string)\n",
    "print(matches1)\n"
   ]
  },
  {
   "cell_type": "markdown",
   "metadata": {},
   "source": [
    "Pada \"https://regex101.com/\", terdapat kolom untuk mengisi kode pattern yang dimana kita bisa mengetahui artinya ketika kita mengarahkan kursor pada kode pattern tersebut.\n",
    "\n",
    "Contoh jika kita mengisi \"\\d\" pada kolom tersebut, maka terdapat penjelasan yaitu \"matches a digit (equivalent to [0-9])"
   ]
  }
 ],
 "metadata": {
  "kernelspec": {
   "display_name": "Python 3",
   "language": "python",
   "name": "python3"
  },
  "language_info": {
   "codemirror_mode": {
    "name": "ipython",
    "version": 3
   },
   "file_extension": ".py",
   "mimetype": "text/x-python",
   "name": "python",
   "nbconvert_exporter": "python",
   "pygments_lexer": "ipython3",
   "version": "3.9.6"
  },
  "orig_nbformat": 4
 },
 "nbformat": 4,
 "nbformat_minor": 2
}
