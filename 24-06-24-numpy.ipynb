{
 "cells": [
  {
   "cell_type": "code",
   "execution_count": 75,
   "id": "37a569ed-cf4b-4850-babd-5140114ba020",
   "metadata": {},
   "outputs": [],
   "source": [
    "import numpy as np"
   ]
  },
  {
   "cell_type": "markdown",
   "id": "33bfa777-309c-424e-a408-10b1c10186f1",
   "metadata": {},
   "source": [
    "Hari ini belajar mengenai Numpy"
   ]
  },
  {
   "cell_type": "code",
   "execution_count": 76,
   "id": "ba4e9d37-d096-475d-b89b-d85c7a839c5a",
   "metadata": {},
   "outputs": [
    {
     "name": "stdout",
     "output_type": "stream",
     "text": [
      "[1 2 3]\n"
     ]
    }
   ],
   "source": [
    "a = np.array([1,2,3])\n",
    "print(a)"
   ]
  },
  {
   "cell_type": "code",
   "execution_count": 77,
   "id": "92e333dc-501b-4145-b910-ae8039f73792",
   "metadata": {},
   "outputs": [
    {
     "data": {
      "text/plain": [
       "(3,)"
      ]
     },
     "execution_count": 77,
     "metadata": {},
     "output_type": "execute_result"
    }
   ],
   "source": [
    "a.shape"
   ]
  },
  {
   "cell_type": "code",
   "execution_count": 78,
   "id": "6720857a-04f0-4cac-955d-f9a060739429",
   "metadata": {},
   "outputs": [
    {
     "name": "stdout",
     "output_type": "stream",
     "text": [
      "[[9. 8. 7.]\n",
      " [6. 5. 4.]]\n"
     ]
    }
   ],
   "source": [
    "b = np.array([[9.0,8.0,7.0],[6.0,5.0,4.0]])\n",
    "print(b)"
   ]
  },
  {
   "cell_type": "markdown",
   "id": "dee4f9f4-6fb7-426b-9dc7-00d8606dd7d2",
   "metadata": {},
   "source": [
    "dari data a yaitu [1,2,3],\n",
    "dapat diketahui bahwa dimensi nya 1"
   ]
  },
  {
   "cell_type": "code",
   "execution_count": 79,
   "id": "57e5a6e5-36e8-40b1-88be-19359350dd8f",
   "metadata": {},
   "outputs": [
    {
     "data": {
      "text/plain": [
       "1"
      ]
     },
     "execution_count": 79,
     "metadata": {},
     "output_type": "execute_result"
    }
   ],
   "source": [
    "# Get Dimension\n",
    "a.ndim"
   ]
  },
  {
   "cell_type": "markdown",
   "id": "f3fdea29-722b-462f-86b7-c05c10cb12e1",
   "metadata": {},
   "source": [
    "dari data b yaitu \n",
    "    [[9. 8. 7.]\n",
    "     [6. 5. 4.]],\n",
    "dapat diketahui bahwa shape nya yaitu (2, 3) dengan keterangan 2 baris dan 3 kolom"
   ]
  },
  {
   "cell_type": "code",
   "execution_count": 80,
   "id": "0076b5a8-a1d0-4a8e-a340-aa003516adb6",
   "metadata": {},
   "outputs": [
    {
     "data": {
      "text/plain": [
       "(2, 3)"
      ]
     },
     "execution_count": 80,
     "metadata": {},
     "output_type": "execute_result"
    }
   ],
   "source": [
    "b.shape"
   ]
  },
  {
   "cell_type": "markdown",
   "id": "5ff979a5-1bf5-4605-ab26-d9df3c7a022a",
   "metadata": {},
   "source": [
    "serta dapat diketahui bahwa dimensi dari b yaitu 2, dengan keterangan:\n",
    "    sebelum akhirnya terdapat elemen angka terdapat 2 kurung siku"
   ]
  },
  {
   "cell_type": "code",
   "execution_count": 81,
   "id": "f6c968ca-7318-4dda-b294-af44248d690e",
   "metadata": {},
   "outputs": [
    {
     "data": {
      "text/plain": [
       "2"
      ]
     },
     "execution_count": 81,
     "metadata": {},
     "output_type": "execute_result"
    }
   ],
   "source": [
    "b.ndim"
   ]
  },
  {
   "cell_type": "markdown",
   "id": "60803a42-742f-4cea-8ab3-d6427cd758ca",
   "metadata": {},
   "source": [
    "jika suatu array bersifat 1 dimensi (1D), shape nya menghasilkan jumlah elemen dari array tersebut"
   ]
  },
  {
   "cell_type": "code",
   "execution_count": 82,
   "id": "e65ffb2f-e459-4da6-bcca-9e8d37213342",
   "metadata": {},
   "outputs": [
    {
     "data": {
      "text/plain": [
       "(array([1, 2, 3]), 1, (3,))"
      ]
     },
     "execution_count": 82,
     "metadata": {},
     "output_type": "execute_result"
    }
   ],
   "source": [
    "a, a.ndim, a.shape"
   ]
  },
  {
   "cell_type": "markdown",
   "id": "e045e941-219b-4d9d-ac69-ce17d0515bf3",
   "metadata": {},
   "source": [
    "sedangkan jika arraynya bersifat 2 dimensi (2D), shape nya menghasilkan jumlah kolom dan baris dari array tersebut"
   ]
  },
  {
   "cell_type": "code",
   "execution_count": 83,
   "id": "83e0c7ed-3dc8-43d2-8c36-ae22643503fa",
   "metadata": {},
   "outputs": [
    {
     "data": {
      "text/plain": [
       "(array([[9., 8., 7.],\n",
       "        [6., 5., 4.]]),\n",
       " 2,\n",
       " (2, 3))"
      ]
     },
     "execution_count": 83,
     "metadata": {},
     "output_type": "execute_result"
    }
   ],
   "source": [
    "b, b.ndim, b.shape"
   ]
  },
  {
   "cell_type": "code",
   "execution_count": 84,
   "id": "63b92fa7-0c96-4ac5-8123-2ac4b04e5a87",
   "metadata": {},
   "outputs": [],
   "source": [
    "y = np.zeros((3))"
   ]
  },
  {
   "cell_type": "code",
   "execution_count": 85,
   "id": "3b23fcda-2635-455c-ad78-e979e8a610a1",
   "metadata": {},
   "outputs": [
    {
     "data": {
      "text/plain": [
       "array([0., 0., 0.])"
      ]
     },
     "execution_count": 85,
     "metadata": {},
     "output_type": "execute_result"
    }
   ],
   "source": [
    "y"
   ]
  },
  {
   "cell_type": "code",
   "execution_count": 86,
   "id": "a9e77aaf-2312-4716-9d9a-3833599cb29a",
   "metadata": {},
   "outputs": [
    {
     "data": {
      "text/plain": [
       "1"
      ]
     },
     "execution_count": 86,
     "metadata": {},
     "output_type": "execute_result"
    }
   ],
   "source": [
    "y.ndim"
   ]
  },
  {
   "cell_type": "code",
   "execution_count": 87,
   "id": "5a4ac1b5-b44c-4c99-bf20-035988fc1aff",
   "metadata": {},
   "outputs": [
    {
     "data": {
      "text/plain": [
       "(3,)"
      ]
     },
     "execution_count": 87,
     "metadata": {},
     "output_type": "execute_result"
    }
   ],
   "source": [
    "y.shape"
   ]
  },
  {
   "cell_type": "code",
   "execution_count": 88,
   "id": "94db70aa-ddeb-48a2-bbb1-e317984fd928",
   "metadata": {},
   "outputs": [],
   "source": [
    "arr = np.array([\n",
    "                 [1, 2, 3, 4], \n",
    "                 [5, 6, 7, 8],\n",
    "                 [6, 5, 6, 7]\n",
    "               ])"
   ]
  },
  {
   "cell_type": "code",
   "execution_count": 89,
   "id": "30d3a2bd-71ba-4f7a-8458-124a94ddb163",
   "metadata": {},
   "outputs": [
    {
     "data": {
      "text/plain": [
       "(3, 4)"
      ]
     },
     "execution_count": 89,
     "metadata": {},
     "output_type": "execute_result"
    }
   ],
   "source": [
    "arr.shape"
   ]
  },
  {
   "cell_type": "code",
   "execution_count": 90,
   "id": "2be6234a-ad3f-4eba-b78d-fc67807b85a7",
   "metadata": {},
   "outputs": [
    {
     "data": {
      "text/plain": [
       "2"
      ]
     },
     "execution_count": 90,
     "metadata": {},
     "output_type": "execute_result"
    }
   ],
   "source": [
    "arr.ndim"
   ]
  },
  {
   "cell_type": "code",
   "execution_count": 91,
   "id": "47ce3009-6b21-4a69-b6c9-3cba2cec2c88",
   "metadata": {},
   "outputs": [],
   "source": [
    "three_dim_array = np.array([[[1, 2, 3],\n",
    "                             [4, 5, 6],\n",
    "                             [7, 8, 9]],\n",
    "\n",
    "                            [[10, 11, 12],\n",
    "                             [13, 14, 15],\n",
    "                             [16, 17, 18]],\n",
    "\n",
    "                            [[19, 20, 21],\n",
    "                             [22, 23, 24],\n",
    "                             [25, 26, 27]]])\n"
   ]
  },
  {
   "cell_type": "code",
   "execution_count": 92,
   "id": "9811af52-98fb-4a99-840e-f41578b7d6e6",
   "metadata": {},
   "outputs": [
    {
     "data": {
      "text/plain": [
       "(3, 3, 3)"
      ]
     },
     "execution_count": 92,
     "metadata": {},
     "output_type": "execute_result"
    }
   ],
   "source": [
    "three_dim_array.shape"
   ]
  },
  {
   "cell_type": "code",
   "execution_count": 93,
   "id": "65ec2d7e-ceb7-49c0-80cf-4577b8cf55d7",
   "metadata": {},
   "outputs": [
    {
     "data": {
      "text/plain": [
       "3"
      ]
     },
     "execution_count": 93,
     "metadata": {},
     "output_type": "execute_result"
    }
   ],
   "source": [
    "three_dim_array.ndim"
   ]
  },
  {
   "cell_type": "code",
   "execution_count": 94,
   "id": "40adfb76-2af2-400a-898c-5016b80161a7",
   "metadata": {},
   "outputs": [],
   "source": [
    "c = np.array([1,2,3,4,5])"
   ]
  },
  {
   "cell_type": "code",
   "execution_count": 95,
   "id": "94c7a22d-2060-49e6-8d4a-4e2e9b889bc9",
   "metadata": {},
   "outputs": [
    {
     "data": {
      "text/plain": [
       "(5,)"
      ]
     },
     "execution_count": 95,
     "metadata": {},
     "output_type": "execute_result"
    }
   ],
   "source": [
    "c.shape"
   ]
  },
  {
   "cell_type": "code",
   "execution_count": 96,
   "id": "1553e879-a332-4dee-aceb-a9872599e067",
   "metadata": {},
   "outputs": [],
   "source": [
    "d = np.array([[3,5,6],\n",
    "              [4,1,9],\n",
    "              [7,4,9]\n",
    "             ])"
   ]
  },
  {
   "cell_type": "code",
   "execution_count": 97,
   "id": "7463d49a-0aee-425c-a6bd-aee280249218",
   "metadata": {},
   "outputs": [
    {
     "data": {
      "text/plain": [
       "2"
      ]
     },
     "execution_count": 97,
     "metadata": {},
     "output_type": "execute_result"
    }
   ],
   "source": [
    "d.ndim"
   ]
  },
  {
   "cell_type": "code",
   "execution_count": 98,
   "id": "0f7b217a-d970-4ca9-848d-d3d749769d3f",
   "metadata": {},
   "outputs": [
    {
     "data": {
      "text/plain": [
       "(3, 3)"
      ]
     },
     "execution_count": 98,
     "metadata": {},
     "output_type": "execute_result"
    }
   ],
   "source": [
    "d.shape"
   ]
  },
  {
   "cell_type": "code",
   "execution_count": 99,
   "id": "de6bd703-9fd8-45d3-a309-674421ac96e1",
   "metadata": {},
   "outputs": [],
   "source": [
    "e = np.array([[3,5,7], [5,6,1]])"
   ]
  },
  {
   "cell_type": "code",
   "execution_count": 100,
   "id": "1319081e-fefa-4e3d-94ea-0b6ac26b8b69",
   "metadata": {},
   "outputs": [
    {
     "data": {
      "text/plain": [
       "(2, 3)"
      ]
     },
     "execution_count": 100,
     "metadata": {},
     "output_type": "execute_result"
    }
   ],
   "source": [
    "e.shape"
   ]
  },
  {
   "cell_type": "code",
   "execution_count": 101,
   "id": "81643349-af00-4a87-8fc7-7cd5a352fe41",
   "metadata": {},
   "outputs": [
    {
     "data": {
      "text/plain": [
       "2"
      ]
     },
     "execution_count": 101,
     "metadata": {},
     "output_type": "execute_result"
    }
   ],
   "source": [
    "e.ndim"
   ]
  },
  {
   "cell_type": "code",
   "execution_count": 122,
   "id": "b867b135-7f0e-42eb-b388-af6114900ee7",
   "metadata": {},
   "outputs": [],
   "source": [
    "z = np.zeros((3,4,5)) # 3 merupakan jumlah blok, 4 merupakan jumlah baris, dan 5 merupakan jumlah kolom"
   ]
  },
  {
   "cell_type": "code",
   "execution_count": 103,
   "id": "1ecee149-ae81-4c67-b24c-588c32df281b",
   "metadata": {},
   "outputs": [
    {
     "data": {
      "text/plain": [
       "array([[[0., 0., 0., 0., 0.],\n",
       "        [0., 0., 0., 0., 0.],\n",
       "        [0., 0., 0., 0., 0.],\n",
       "        [0., 0., 0., 0., 0.]],\n",
       "\n",
       "       [[0., 0., 0., 0., 0.],\n",
       "        [0., 0., 0., 0., 0.],\n",
       "        [0., 0., 0., 0., 0.],\n",
       "        [0., 0., 0., 0., 0.]],\n",
       "\n",
       "       [[0., 0., 0., 0., 0.],\n",
       "        [0., 0., 0., 0., 0.],\n",
       "        [0., 0., 0., 0., 0.],\n",
       "        [0., 0., 0., 0., 0.]]])"
      ]
     },
     "execution_count": 103,
     "metadata": {},
     "output_type": "execute_result"
    }
   ],
   "source": [
    "z"
   ]
  },
  {
   "cell_type": "code",
   "execution_count": 104,
   "id": "5e8bf97d-fb8b-45d8-a9ed-1581bb6fcdc6",
   "metadata": {},
   "outputs": [
    {
     "data": {
      "text/plain": [
       "(3, 4, 5)"
      ]
     },
     "execution_count": 104,
     "metadata": {},
     "output_type": "execute_result"
    }
   ],
   "source": [
    "z.shape"
   ]
  },
  {
   "cell_type": "code",
   "execution_count": 105,
   "id": "32d227c2-6475-4b5b-8c0f-e84aa83cb172",
   "metadata": {},
   "outputs": [
    {
     "data": {
      "text/plain": [
       "3"
      ]
     },
     "execution_count": 105,
     "metadata": {},
     "output_type": "execute_result"
    }
   ],
   "source": [
    "z.ndim"
   ]
  },
  {
   "cell_type": "code",
   "execution_count": 121,
   "id": "d0c13595-46a4-4e70-9a97-16e5dd35af21",
   "metadata": {},
   "outputs": [],
   "source": [
    "x = np.zeros((2,4,5)) # 2 merupakan jumlah blok, 4 merupakan jumlah baris, dan 5 merupakan jumlah kolom"
   ]
  },
  {
   "cell_type": "code",
   "execution_count": 117,
   "id": "99772d10-87d6-4382-8ed6-f0508adc8bb5",
   "metadata": {},
   "outputs": [
    {
     "data": {
      "text/plain": [
       "array([[[0., 0., 0., 0., 0.],\n",
       "        [0., 0., 0., 0., 0.],\n",
       "        [0., 0., 0., 0., 0.],\n",
       "        [0., 0., 0., 0., 0.]],\n",
       "\n",
       "       [[0., 0., 0., 0., 0.],\n",
       "        [0., 0., 0., 0., 0.],\n",
       "        [0., 0., 0., 0., 0.],\n",
       "        [0., 0., 0., 0., 0.]]])"
      ]
     },
     "execution_count": 117,
     "metadata": {},
     "output_type": "execute_result"
    }
   ],
   "source": [
    "x"
   ]
  },
  {
   "cell_type": "code",
   "execution_count": 120,
   "id": "610964d1-49e8-46bb-aff6-a9f9dd91fcce",
   "metadata": {},
   "outputs": [],
   "source": [
    "i = np.zeros((1,3,4)) # 1 merupakan jumlah blok, 3 merupakan jumlah baris, dan 4 merupakan jumlah kolom"
   ]
  },
  {
   "cell_type": "code",
   "execution_count": 119,
   "id": "9b65f9cf-0648-4c82-8924-0976006052ec",
   "metadata": {},
   "outputs": [
    {
     "data": {
      "text/plain": [
       "array([[[0., 0., 0., 0.],\n",
       "        [0., 0., 0., 0.],\n",
       "        [0., 0., 0., 0.]]])"
      ]
     },
     "execution_count": 119,
     "metadata": {},
     "output_type": "execute_result"
    }
   ],
   "source": [
    "i"
   ]
  },
  {
   "cell_type": "code",
   "execution_count": 110,
   "id": "6734690f-efdb-4a77-bd12-91a6bc176d78",
   "metadata": {},
   "outputs": [
    {
     "data": {
      "text/plain": [
       "array([1, 2, 3])"
      ]
     },
     "execution_count": 110,
     "metadata": {},
     "output_type": "execute_result"
    }
   ],
   "source": [
    "a"
   ]
  },
  {
   "cell_type": "code",
   "execution_count": 111,
   "id": "3cc2b97e-d93f-4402-bd6d-e8ec79309ffd",
   "metadata": {},
   "outputs": [
    {
     "data": {
      "text/plain": [
       "dtype('int64')"
      ]
     },
     "execution_count": 111,
     "metadata": {},
     "output_type": "execute_result"
    }
   ],
   "source": [
    "a.dtype"
   ]
  },
  {
   "cell_type": "markdown",
   "id": "c77db46a-0a0d-4868-a1cc-97772852dd31",
   "metadata": {},
   "source": [
    "kita juga dapat menentukan tipe data yang diinginkan dalam pembuatan array"
   ]
  },
  {
   "cell_type": "code",
   "execution_count": 112,
   "id": "a9249ae5-f25b-4b90-8956-77810c8356e1",
   "metadata": {},
   "outputs": [],
   "source": [
    "a = np.array([1,2,3], dtype='int16')"
   ]
  },
  {
   "cell_type": "markdown",
   "id": "b5cfd1db-aab8-4bef-92a5-eabb9ffac520",
   "metadata": {},
   "source": [
    "dibawah ini merupakan cara mengetahui tipe data dari variabel numpy yang telah dibuat"
   ]
  },
  {
   "cell_type": "code",
   "execution_count": 113,
   "id": "08d1d738-b576-4604-8ccf-d87c84db2367",
   "metadata": {},
   "outputs": [
    {
     "data": {
      "text/plain": [
       "dtype('int16')"
      ]
     },
     "execution_count": 113,
     "metadata": {},
     "output_type": "execute_result"
    }
   ],
   "source": [
    "a.dtype"
   ]
  }
 ],
 "metadata": {
  "kernelspec": {
   "display_name": "conda-jupyter-kernel",
   "language": "python",
   "name": "conda-jupyter-kernel"
  },
  "language_info": {
   "codemirror_mode": {
    "name": "ipython",
    "version": 3
   },
   "file_extension": ".py",
   "mimetype": "text/x-python",
   "name": "python",
   "nbconvert_exporter": "python",
   "pygments_lexer": "ipython3",
   "version": "3.12.3"
  }
 },
 "nbformat": 4,
 "nbformat_minor": 5
}
