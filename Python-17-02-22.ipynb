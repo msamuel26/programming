{
 "cells": [
  {
   "cell_type": "markdown",
   "metadata": {},
   "source": [
    "Hari ini mempelajari tenntang filter. Ada 2 cara menggunakan filter,\n",
    "yaitu: menggunakan fungsi (def) dan lambda."
   ]
  },
  {
   "cell_type": "markdown",
   "metadata": {},
   "source": [
    "Dibawah ini merupakan filter dengan menggunakan fungsi (def):"
   ]
  },
  {
   "cell_type": "code",
   "execution_count": 8,
   "metadata": {},
   "outputs": [
    {
     "data": {
      "text/plain": [
       "[4, 2, 12, 10]"
      ]
     },
     "execution_count": 8,
     "metadata": {},
     "output_type": "execute_result"
    }
   ],
   "source": [
    "nilai = [1, 4, 2, 5, 12, 9, 10, 3]\n",
    "def is_even(x):\n",
    "    if x % 2 == 0:\n",
    "        return x\n",
    "\n",
    "list((filter(is_even, nilai)))\n"
   ]
  },
  {
   "cell_type": "markdown",
   "metadata": {},
   "source": [
    "Dan dibawah ini merupakan filter dengan menggunakan lambda:"
   ]
  },
  {
   "cell_type": "code",
   "execution_count": 9,
   "metadata": {},
   "outputs": [
    {
     "data": {
      "text/plain": [
       "[4, 2, 12, 10]"
      ]
     },
     "execution_count": 9,
     "metadata": {},
     "output_type": "execute_result"
    }
   ],
   "source": [
    "nilai = [1, 4, 2, 5, 12, 9, 10, 3]\n",
    "list(filter(lambda i: i % 2 == 0, nilai))"
   ]
  },
  {
   "cell_type": "markdown",
   "metadata": {},
   "source": [
    "Mempelajari tentang cara menginstansi menjalankan suatu \n",
    "code yang ada Classnya"
   ]
  },
  {
   "cell_type": "markdown",
   "metadata": {},
   "source": [
    "Pada kode dibawah yaitu jika pada def __init__ tidak ada\n",
    "parameter selain \"self\", \n",
    "Maka cara mengeksekusi nya seperti dibawah ini\n",
    "yaitu nama Class nya ditampung pada suatu varibel, lalu print nama variabel \n",
    "beserta pilih fungsi (def) mana yang akan dijalankan lalu masukkan data \n",
    "dari parameternya "
   ]
  },
  {
   "cell_type": "code",
   "execution_count": 10,
   "metadata": {},
   "outputs": [
    {
     "name": "stdout",
     "output_type": "stream",
     "text": [
      "[['acong', 'math', 10], ['acong', 'english', 8], ['acong', 'science', 8]]\n"
     ]
    }
   ],
   "source": [
    "class Saring:\n",
    "    def __init__(self):\n",
    "        self.data = []\n",
    "\n",
    "    def saring(self, input, name):\n",
    "        for data in input:\n",
    "            if data[0] == name:\n",
    "                self.data.append(data)\n",
    "        return self.data\n",
    "\n",
    "i = Saring()\n",
    "print(i.saring([[\"acong\", \"math\", 10],\n",
    " [\"badu\", \"english\", 9],\n",
    " [\"amoy\", \"science\", 9],\n",
    " [\"acong\", \"english\", 8],\n",
    " [\"badu\", \"science\", 7],\n",
    " [\"amoy\", \"english\", 8],\n",
    " [\"acong\", \"science\", 8],\n",
    " [\"badu\", \"math\", 7],\n",
    " [\"amoy\", \"math\", 9]], \"acong\"\n",
    "))"
   ]
  },
  {
   "cell_type": "markdown",
   "metadata": {},
   "source": [
    "Pada kode dibawah ini jika di dalam def __init__ \n",
    "terdapat parameter, maka cara mengeksekusi nya seperti di bawah ini"
   ]
  },
  {
   "cell_type": "code",
   "execution_count": 11,
   "metadata": {},
   "outputs": [
    {
     "name": "stdout",
     "output_type": "stream",
     "text": [
      "[['acong', 'math', 10], ['acong', 'english', 8], ['acong', 'science', 8]]\n",
      "[['badu', 'english', 9], ['badu', 'science', 7], ['badu', 'math', 7]]\n"
     ]
    }
   ],
   "source": [
    "class Saring2:\n",
    "    def __init__(self, input):\n",
    "        self.data = []\n",
    "        self.input = input \n",
    "\n",
    "    def saring(self, name):\n",
    "        self.data = []\n",
    "        for data in self.input:\n",
    "            if data[0] == name:\n",
    "                self.data.append(data)\n",
    "        return self.data \n",
    "\n",
    "e = Saring2([[\"acong\", \"math\", 10],\n",
    " [\"badu\", \"english\", 9],\n",
    " [\"amoy\", \"science\", 9],\n",
    " [\"acong\", \"english\", 8],\n",
    " [\"badu\", \"science\", 7],\n",
    " [\"amoy\", \"english\", 8],\n",
    " [\"acong\", \"science\", 8],\n",
    " [\"badu\", \"math\", 7],\n",
    " [\"amoy\", \"math\", 9]])\n",
    "print(e.saring(\"acong\"))\n",
    "print(e.saring(\"badu\")) "
   ]
  },
  {
   "cell_type": "markdown",
   "metadata": {},
   "source": [
    "Hari ini mempelajari tentang mem-filter list"
   ]
  },
  {
   "cell_type": "code",
   "execution_count": 12,
   "metadata": {},
   "outputs": [
    {
     "name": "stdout",
     "output_type": "stream",
     "text": [
      "[['badu', 'english', 9], ['acong', 'english', 8], ['amoy', 'english', 8]]\n",
      "[['acong', 'english', 8], ['amoy', 'english', 8], ['acong', 'science', 8]]\n"
     ]
    }
   ],
   "source": [
    "data = [[\"acong\", \"math\", 10], [\"badu\", \"english\", 9], [\"amoy\", \"science\", 9], \n",
    "[\"acong\", \"english\", 8], [\"badu\", \"science\", 7], [\"amoy\", \"english\", 8], \n",
    "[\"acong\", \"science\", 8], [\"badu\", \"math\", 7], [\"amoy\", \"math\", 9]]\n",
    "\n",
    "class Saring():\n",
    "    def __init__(self):\n",
    "        self.data = []\n",
    "\n",
    "    def saring(self, input, index, value):\n",
    "        self.data = [x for x in input if x[index] == value]\n",
    "        return self.data\n",
    "\n",
    "i = Saring()\n",
    "print(i.saring(data, 1, \"english\"))\n",
    "print(i.saring(data, 2, 8))"
   ]
  },
  {
   "cell_type": "markdown",
   "metadata": {},
   "source": [
    "Hari ini mempelajari mem-filter dict"
   ]
  },
  {
   "cell_type": "code",
   "execution_count": 13,
   "metadata": {},
   "outputs": [
    {
     "name": "stdout",
     "output_type": "stream",
     "text": [
      "{8: 'john', 10: 'riti', 12: 'sachin'}\n"
     ]
    }
   ],
   "source": [
    "dictOfNames = {\n",
    "   7 : 'sam',\n",
    "   8: 'john',\n",
    "   9: 'mathew',\n",
    "   10: 'riti',\n",
    "   11 : 'aadi',\n",
    "   12 : 'sachin'\n",
    "}\n",
    "\n",
    "def even(elem):\n",
    "    if elem[0] % 2 == 0:\n",
    "        return True\n",
    "\n",
    "def filterTheDict(dictObj, callback):\n",
    "    newDict = dict()\n",
    "    # Iterate over all the items in dictionary\n",
    "    for (key, value) in dictObj.items():\n",
    "        # Check if item satisfies the given condition then add to new dict\n",
    "        if callback((key, value)):\n",
    "            newDict[key] = value\n",
    "    return newDict\n",
    "\n",
    "newDict = filterTheDict(dictOfNames, lambda elem : elem[0] % 2 == 0)\n",
    "# print('Filtered Dictionary : ')\n",
    "# print(newDict)\n",
    "\n",
    "newDict1 = filterTheDict(dictOfNames, even)\n",
    "print(newDict1)"
   ]
  },
  {
   "cell_type": "code",
   "execution_count": 14,
   "metadata": {},
   "outputs": [
    {
     "name": "stdout",
     "output_type": "stream",
     "text": [
      "{12: 'sachin'}\n"
     ]
    }
   ],
   "source": [
    "class Saring4():\n",
    "    def __init__(self):\n",
    "        self.dict = {}\n",
    "\n",
    "    def saring(self, input, nilai):\n",
    "        self.dict = {key:value for key, value in input.items() if nilai in value}\n",
    "        return self.dict\n",
    "\n",
    "t = Saring4()\n",
    "print(t.saring(dictOfNames, \"chin\"))"
   ]
  },
  {
   "cell_type": "markdown",
   "metadata": {},
   "source": [
    "Mempelajari filter dict dengan filter() function"
   ]
  },
  {
   "cell_type": "code",
   "execution_count": 15,
   "metadata": {},
   "outputs": [
    {
     "name": "stdout",
     "output_type": "stream",
     "text": [
      "{8: 'john', 10: 'riti', 12: 'sachin'}\n"
     ]
    }
   ],
   "source": [
    "dictOfNames = {\n",
    "   7 : 'sam',\n",
    "   8: 'john',\n",
    "   9: 'mathew',\n",
    "   10: 'riti',\n",
    "   11 : 'aadi',\n",
    "   12 : 'sachin'\n",
    "}\n",
    "\n",
    "newDict = dict(filter(lambda i: i[0] % 2 == 0, dictOfNames.items()))\n",
    "print(newDict)"
   ]
  },
  {
   "cell_type": "markdown",
   "metadata": {},
   "source": [
    "Hari ini mempelajari cara split setiap 3 karakter/data\n",
    "pada string,\n",
    "Untuk angka nya bebas sesuai yang dibutuhkan"
   ]
  },
  {
   "cell_type": "code",
   "execution_count": 16,
   "metadata": {},
   "outputs": [
    {
     "name": "stdout",
     "output_type": "stream",
     "text": [
      "['UAG', 'UGI']\n"
     ]
    }
   ],
   "source": [
    "strand = \"UAGUGI\"\n",
    "n = 3 # Untuk angkanya bebas sesuai yang dibutuhkan\n",
    "x = [strand[i: i + n] for i in range(0, len(strand), n)]\n",
    "print(x)"
   ]
  },
  {
   "cell_type": "markdown",
   "metadata": {},
   "source": [
    "Hari ini belajar tentang proses menggunakan recursion (pengulangan), \n",
    "recursion yaitu metode yang memanggil fungsinya sendiri "
   ]
  },
  {
   "cell_type": "code",
   "execution_count": 17,
   "metadata": {},
   "outputs": [
    {
     "name": "stdout",
     "output_type": "stream",
     "text": [
      "6\n",
      " \n",
      "9\n",
      "8\n",
      "7\n",
      "6\n",
      "5\n",
      "4\n",
      "3\n",
      "2\n",
      "1\n",
      "0\n",
      "None\n",
      " \n",
      "[1, 3, 5, 7, 9]\n",
      " \n",
      "[2, 4, 8, 14]\n",
      " \n"
     ]
    }
   ],
   "source": [
    "def tri_recursion(value):\n",
    "    if value > 0 :\n",
    "        result = value + tri_recursion(value - 1)\n",
    "    else:\n",
    "        result = 0\n",
    "    return result\n",
    "\n",
    "print(tri_recursion(3))\n",
    "print(\" \")\n",
    "\n",
    "def countdown(value):\n",
    "    print(value)\n",
    "    if value == 0:\n",
    "        return\n",
    "    else:\n",
    "        countdown(value - 1)\n",
    "\n",
    "print(countdown(9))\n",
    "print(\" \") \n",
    "\n",
    "def process_1(value, n, data):\n",
    "    if n <= value:\n",
    "        data.append(n)\n",
    "        process_1(value, n + 2, data)\n",
    "\n",
    "def test(nilai):\n",
    "    n, data = 1, []\n",
    "    process_1(nilai, n, data)\n",
    "    return data\n",
    "\n",
    "print(test(10))\n",
    "print(\" \") \n",
    "\n",
    "def logic(data, a, i, inc):\n",
    "    if a <= data:\n",
    "        i.append(a * 2)\n",
    "        logic(data, a + inc, i, inc + 1)\n",
    "\n",
    "def logic_1(input):\n",
    "    a, i = 1, []\n",
    "    logic(input, a, i, a)\n",
    "    return i \n",
    "\n",
    "print(logic_1(10)) \n",
    "print(\" \") "
   ]
  },
  {
   "cell_type": "markdown",
   "metadata": {},
   "source": [
    "Contoh data real atas penggunaan list dan dict yaitu list berisi dict, dict berisi list yang berisi dict"
   ]
  },
  {
   "cell_type": "code",
   "execution_count": 18,
   "metadata": {},
   "outputs": [
    {
     "name": "stdout",
     "output_type": "stream",
     "text": [
      "INV/PDG/2022/01/0051\n",
      "INV/PDG/2022/01/0003\n"
     ]
    }
   ],
   "source": [
    "x = [\n",
    "{'name': 'INV/PDG/2022/01/0051', 'currency': 'IDR', 'partner': 'TANI MAJU | PDG-T002 (IDR)', 'partner_ori': 'TANI MAJU', 'debit': '14,419,500.00', 'credit': '0.00', 'saldo_akhir': '14,419,500.00', 'total_debit': '293,538,059.00', 'total_credit': '79,699,819.00', 'total_saldo': '213,838,240.00', 'is_last': True, \n",
    "'list_line': [\n",
    "    {'date': '18-01-2022', 'noref': 'INV/PDG/2022/01/0051', 'jatuh_tempo': '19-03-2022', 'currency': 'IDR', 'debit': '2,173,000.00', 'credit': '0.00', 'saldo': '2,173,000.00', 'is_sum': False}, \n",
    "    {'date': '', 'noref': 'INV/PDG/2022/01/0051', 'jatuh_tempo': None, 'currency': 'IDR', 'debit': '2,173,000.00', 'credit': '0.00', 'saldo': '2,173,000.00', 'is_sum': True}, \n",
    "    {'date': '24-02-2022', 'noref': 'INV/PDG/2022/02/0032', 'jatuh_tempo': '25-04-2022', 'currency': 'IDR', 'debit': '8,302,500.00', 'credit': '0.00', 'saldo': '10,475,500.00', 'is_sum': False}, \n",
    "    {'date': '', 'noref': 'INV/PDG/2022/02/0032', 'jatuh_tempo': None, 'currency': 'IDR', 'debit': '8,302,500.00', 'credit': '0.00', 'saldo': '8,302,500.00', 'is_sum': True}, \n",
    "    {'date': '24-11-2021', 'noref': 'INV-1202', 'jatuh_tempo': '24-11-2021', 'currency': 'IDR', 'debit': '3,944,000.00', 'credit': '0.00', 'saldo': '14,419,500.00', 'is_sum': False}, \n",
    "    {'date': '', 'noref': 'INV-1202', 'jatuh_tempo': None, 'currency': 'IDR', 'debit': '3,944,000.00', 'credit': '0.00', 'saldo': '3,944,000.00', 'is_sum': True}]\n",
    "},\n",
    "{'name': 'INV/PDG/2022/01/0003', 'currency': 'IDR', 'partner': 'TANI SINAR PAGI | PDG-T010 (IDR)', 'partner_ori': 'TANI SINAR PAGI', 'debit': '12,375,000.00', 'credit': '2,375,000.00', 'saldo_akhir': '10,000,000.00', 'total_debit': '207,500,559.00', 'total_credit': '34,824,819.00', 'total_saldo': '172,675,740.00', 'is_last': False, \n",
    "'list_line': [\n",
    "    {'date': '10-01-2022', 'noref': 'INV/PDG/2022/01/0003', 'jatuh_tempo': '24-02-2022', 'currency': 'IDR', 'debit': '12,375,000.00', 'credit': '0.00', 'saldo': '12,375,000.00', 'is_sum': False}, \n",
    "    {'date': '25-02-2022', 'noref': 'CK501/2022/02/0079', 'jatuh_tempo': None, 'currency': 'IDR', 'debit': '0.00', 'credit': '2,375,000.00', 'saldo': '10,000,000.00', 'is_sum': False}, \n",
    "    {'date': '', 'noref': 'INV/PDG/2022/01/0003', 'jatuh_tempo': None, 'currency': 'IDR', 'debit': '12,375,000.00', 'credit': '2,375,000.00', 'saldo': '10,000,000.00', 'is_sum': True}\n",
    "    ]\n",
    "}] \n",
    "\n",
    "print(x[0][\"list_line\"][0][\"noref\"])\n",
    "print(x[1][\"list_line\"][0][\"noref\"])"
   ]
  },
  {
   "cell_type": "markdown",
   "metadata": {},
   "source": [
    "Hari ini mengulas kembali tentang cara sorting dict \n",
    "dengan menggunakan key lambda, termasuk menggunakan reverse=True (dibalik) atau \n",
    "nilai integer yang dinegasikan"
   ]
  },
  {
   "cell_type": "code",
   "execution_count": 19,
   "metadata": {},
   "outputs": [
    {
     "name": "stdout",
     "output_type": "stream",
     "text": [
      "[[8, 'Ajax', 4, 3, 2, 1], [3, 'Atletico', 6, 4, 2, 1], [12, 'Barca', 5, 4, 0, 1], [10, 'Bayern', 8, 5, 6, 3], [8, 'Benfica', 5, 3, 1, 2], [9, 'City', 7, 5, 4, 2], [3, 'Juve', 5, 1, 0, 4]]\n"
     ]
    }
   ],
   "source": [
    "teams = {'Barca': [12, 5, 4, 0, 1], 'Juve': [3, 5, 1, 0, 4],\n",
    "\t\t\t'Ajax': [8, 4, 3, 2, 1], \n",
    "\t\t\t'Benfica': [8, 5, 3, 1, 2],\n",
    "\t\t\t'Atletico': [3, 6, 4, 2, 1],\n",
    "\t\t\t'City': [9, 7, 5, 4, 2],\n",
    "\t\t\t'Bayern': [10, 8, 5, 6, 3]}\n",
    "\n",
    "x = sorted([[p, name, mp, w, d, l] \n",
    "                for name, (p, mp, w, d, l) in teams.items()], \n",
    "                    key=lambda i: (i[1]))\n",
    "print(x)"
   ]
  },
  {
   "cell_type": "markdown",
   "metadata": {},
   "source": [
    "Suatu variabel berisi string yang didalam nya terdapat angka,\n",
    "variabel tersebut dapat di-integer-kan, setelah itu di-negasi-kan"
   ]
  },
  {
   "cell_type": "code",
   "execution_count": 20,
   "metadata": {},
   "outputs": [
    {
     "name": "stdout",
     "output_type": "stream",
     "text": [
      "-5\n"
     ]
    }
   ],
   "source": [
    "i = '5'\n",
    "print(-int(i))"
   ]
  },
  {
   "cell_type": "code",
   "execution_count": 21,
   "metadata": {},
   "outputs": [
    {
     "name": "stdout",
     "output_type": "stream",
     "text": [
      "[['12', 'Barca', 5, 4, 0, 1], ['10', 'Bayern', 8, 5, 6, 3], ['9', 'City', 7, 5, 4, 2], ['8', 'Ajax', 4, 3, 2, 1], ['8', 'Benfica', 5, 3, 1, 2], ['3', 'Juve', 5, 1, 0, 4], ['3', 'Atletico', 6, 4, 2, 1]]\n"
     ]
    }
   ],
   "source": [
    "teams = {'Barca': ['12', 5, 4, 0, 1], 'Juve': ['3', 5, 1, 0, 4],\n",
    "\t\t\t'Ajax': ['8', 4, 3, 2, 1], \n",
    "\t\t\t'Benfica': ['8', 5, 3, 1, 2],\n",
    "\t\t\t'Atletico': ['3', 6, 4, 2, 1],\n",
    "\t\t\t'City': ['9', 7, 5, 4, 2],\n",
    "\t\t\t'Bayern': ['10', 8, 5, 6, 3]}\n",
    "\n",
    "y = sorted([[p, name, mp, w, d, l] for name, (p, mp, w, d, l) in teams.items()], key=lambda i: (-int(i[0])))\n",
    "print(y)"
   ]
  },
  {
   "cell_type": "markdown",
   "metadata": {},
   "source": [
    "Hari ini mempelajari tentang cara me-reverse (membalikkan)\n",
    "suatu string"
   ]
  },
  {
   "cell_type": "code",
   "execution_count": 22,
   "metadata": {},
   "outputs": [
    {
     "name": "stdout",
     "output_type": "stream",
     "text": [
      "54321\n",
      "98765\n"
     ]
    }
   ],
   "source": [
    "x = \"12345\"\n",
    "i = x[::-1]\n",
    "print(i)\n",
    "\n",
    "# atau bisa juga dengan \n",
    "\n",
    "l = \"56789\"[::-1]\n",
    "print(l)"
   ]
  },
  {
   "cell_type": "markdown",
   "metadata": {},
   "source": [
    "Hari ini mempelajari suatu fungsi zip(),\n",
    "yaitu suatu fungsi yang membuat semacam dictionary (tetapi tidak \n",
    "menggunakan kurung)"
   ]
  },
  {
   "cell_type": "code",
   "execution_count": 23,
   "metadata": {},
   "outputs": [
    {
     "name": "stdout",
     "output_type": "stream",
     "text": [
      "ice cream 9\n",
      "fried chicken 9\n",
      "pork 8\n",
      "burger 9\n",
      " \n",
      "{'ice cream': '9', 'fried chicken': '9', 'pork': '8', 'burger': '9'}\n"
     ]
    }
   ],
   "source": [
    "sentences = [\"ice cream\", \"fried chicken\", \"pork\", \"burger\"]\n",
    "i = \"9989\"\n",
    "for food, rate in zip(sentences, i):\n",
    "    print(food, rate)\n",
    "print(\" \")\n",
    "\n",
    "# Membuat dict langsung dari sebuah list dan string \n",
    "    # dengan menggunakan fungsi zip()\n",
    "a = dict(zip(sentences, i))\n",
    "print(a)\n"
   ]
  },
  {
   "cell_type": "markdown",
   "metadata": {},
   "source": [
    "Hari ini mempelajari cara mengurangi/menghilangkan \n",
    "suatu data/karakter dalam string mulai dari data/karakter terakhir"
   ]
  },
  {
   "cell_type": "code",
   "execution_count": 24,
   "metadata": {},
   "outputs": [
    {
     "name": "stdout",
     "output_type": "stream",
     "text": [
      "1234\n",
      "123\n",
      "12\n",
      "1\n"
     ]
    }
   ],
   "source": [
    "x = \"12345\"[:-1] # berarti mengurangi/menghilangkan 1 data terakhir\n",
    "print(x)\n",
    "\n",
    "y = \"12345\" # berarti mengurangi/menghilangkan 2 data terakhir\n",
    "y = y[:-2]\n",
    "print(y)\n",
    "\n",
    "z = \"12345\"[:-3] # berarti mengurangi/menghilangkan 3 data terakhir\n",
    "print(z)\n",
    "\n",
    "a = \"12345\"[:-4] # berarti mengurangi/menghilangkan 4 data terakhir\n",
    "print(a)"
   ]
  },
  {
   "cell_type": "markdown",
   "metadata": {},
   "source": [
    "Mempelajari status truthy value atas list atau dict kosongan"
   ]
  },
  {
   "cell_type": "code",
   "execution_count": 25,
   "metadata": {},
   "outputs": [
    {
     "name": "stdout",
     "output_type": "stream",
     "text": [
      "True\n",
      "True\n"
     ]
    }
   ],
   "source": [
    "# Code dibawah ini menyatakan bahwa jika tidak ada isi dalam suatu list/dict\n",
    "    # atau tipe data apapun itu \n",
    "    # dan disertai keterangan \"not\", maka hasilnya True\n",
    "x, y = [], {}\n",
    "print(not x)\n",
    "print(not y)"
   ]
  },
  {
   "cell_type": "code",
   "execution_count": 26,
   "metadata": {},
   "outputs": [
    {
     "name": "stdout",
     "output_type": "stream",
     "text": [
      "False\n",
      "False\n"
     ]
    }
   ],
   "source": [
    "# Code dibawah ini menyatakan bahwa jika ada isi dalam suatu list/dict \n",
    "    # atau tipe data apapun itu \n",
    "    # dan disertai keterangan \"not\", maka hasilnya False\n",
    "\n",
    "a, b = [\"chicken\"], {\"fish\": 2}\n",
    "print(not a)\n",
    "print(not b)"
   ]
  },
  {
   "cell_type": "markdown",
   "metadata": {},
   "source": [
    "Mempelajari cara menggabungkan int yang terpisah pada list"
   ]
  },
  {
   "cell_type": "code",
   "execution_count": 27,
   "metadata": {},
   "outputs": [
    {
     "name": "stdout",
     "output_type": "stream",
     "text": [
      "678\n"
     ]
    }
   ],
   "source": [
    "x = [6, 7, 8]\n",
    "y = [str(value) for value in x]\n",
    "z = ''.join(y)\n",
    "print(z)"
   ]
  },
  {
   "cell_type": "markdown",
   "metadata": {},
   "source": [
    "Mempelajari bool (True or False) dengan statement \"if\",\n",
    "jika if True maka akan mengeksekusi perintah dari code (mengetahui suatu kebenaran), namun jika if False, \n",
    "maka tidak akan mengeksekusi perintah dari code"
   ]
  },
  {
   "cell_type": "code",
   "execution_count": 33,
   "metadata": {},
   "outputs": [
    {
     "name": "stdout",
     "output_type": "stream",
     "text": [
      "Hello\n"
     ]
    }
   ],
   "source": [
    "x = True\n",
    "if x:\n",
    "    print(\"Hello\")\n",
    "\n",
    "y = False # Hasil code ini kosong karena if False, maka tidak akan \n",
    "if y:          # tidak akan mengeksekusi code\n",
    "    print(\"Hi\")"
   ]
  },
  {
   "cell_type": "markdown",
   "metadata": {},
   "source": [
    "Pada kode dibawah ini, \n",
    "    statement \"if check_all_zero: \" itu sama dengan \n",
    "            \"if check_all_zero == True: \"\n",
    "\n",
    "In the code below,\n",
    "    statement \"if check_all_zero: \" equals to\n",
    "            \"if check_all_zero == True: \" \n"
   ]
  },
  {
   "cell_type": "code",
   "execution_count": 34,
   "metadata": {},
   "outputs": [
    {
     "name": "stdout",
     "output_type": "stream",
     "text": [
      "[0]\n"
     ]
    }
   ],
   "source": [
    "digits = [0,0,0]\n",
    "def check(list):\n",
    "    check_all_zero = True\n",
    "    for data in list:\n",
    "        if data != 0:\n",
    "            check_all_zero = False\n",
    "            break\n",
    "\n",
    "    if check_all_zero: # if check_all_zero == True:\n",
    "        return [0]\n",
    "\n",
    "print(check(digits))"
   ]
  },
  {
   "cell_type": "markdown",
   "metadata": {},
   "source": [
    "Hari ini mempelajari tentang fungsi\n",
    "combinations_with_replacement(), yaitu\n",
    "    semua kombinasi data pada suatu tipe data tertentu\n",
    "        dengan jumlah digit tertentu yang diinginkan "
   ]
  },
  {
   "cell_type": "code",
   "execution_count": 10,
   "metadata": {},
   "outputs": [
    {
     "name": "stdout",
     "output_type": "stream",
     "text": [
      "fungsi combinations_with_replacement dengan 2 digit: \n",
      "[(1, 1), (1, 2), (1, 3), (2, 2), (2, 3), (3, 3)]\n",
      " \n",
      "fungsi combinations_with_replacement dengan 3 digit: \n",
      "[('a', 'a', 'a'), ('a', 'a', 'b'), ('a', 'a', 'c'), ('a', 'b', 'b'), ('a', 'b', 'c'), ('a', 'c', 'c'), ('b', 'b', 'b'), ('b', 'b', 'c'), ('b', 'c', 'c'), ('c', 'c', 'c')]\n",
      " \n",
      "fungsi combinations_with_replacement dengan 4 digit: \n",
      "[(8, 8, 8, 8), (8, 8, 8, 6), (8, 8, 8, 7), (8, 8, 6, 6), (8, 8, 6, 7), (8, 8, 7, 7), (8, 6, 6, 6), (8, 6, 6, 7), (8, 6, 7, 7), (8, 7, 7, 7), (6, 6, 6, 6), (6, 6, 6, 7), (6, 6, 7, 7), (6, 7, 7, 7), (7, 7, 7, 7)]\n"
     ]
    }
   ],
   "source": [
    "from itertools import combinations_with_replacement\n",
    "x = [1,2,3]\n",
    "y = list(combinations_with_replacement(x, 2)) # 2 merupakan jumlah digit \n",
    "print(\"fungsi combinations_with_replacement dengan 2 digit: \")\n",
    "print(y)\n",
    "print(\" \")\n",
    "\n",
    "i = (\"a\",\"b\",\"c\")\n",
    "z = list(combinations_with_replacement(i, 3)) # 3 merupakan jumlah digit\n",
    "print(\"fungsi combinations_with_replacement dengan 3 digit: \")\n",
    "print(z)\n",
    "print(\" \")\n",
    "\n",
    "a = {6,7,8}\n",
    "c = list(combinations_with_replacement(a, 4)) # 4 merupakan jumlah digit \n",
    "print(\"fungsi combinations_with_replacement dengan 4 digit: \")\n",
    "print(c)"
   ]
  },
  {
   "cell_type": "markdown",
   "metadata": {},
   "source": [
    "Mempelajari cara meng-eksekusi suatu lambda \n",
    "yang terdapat dalam suatu variabel\n",
    "(yang diproses yaitu isi/data dalam list atau tipe data apapun)"
   ]
  },
  {
   "cell_type": "code",
   "execution_count": 6,
   "metadata": {},
   "outputs": [
    {
     "name": "stdout",
     "output_type": "stream",
     "text": [
      "[7, 9, 12, 14]\n",
      "[25, 49, 100, 144]\n"
     ]
    }
   ],
   "source": [
    "function, function_1 = lambda i: i + 2, lambda x: x ** 2\n",
    "list = [5, 7, 10, 12]\n",
    "x = []\n",
    "for value in list:\n",
    "    x.append(function(value))\n",
    "print(x)\n",
    "\n",
    "a = [function_1(value) for value in list]\n",
    "print(a)"
   ]
  },
  {
   "cell_type": "code",
   "execution_count": 3,
   "metadata": {},
   "outputs": [
    {
     "name": "stdout",
     "output_type": "stream",
     "text": [
      "[1, 3]\n",
      "[5, 7, 9]\n",
      "[6, 8, 10]\n"
     ]
    }
   ],
   "source": [
    "function_2, function_3 = lambda x: x % 2 == 1, lambda x: x % 2 == 0\n",
    "list, list_1, x = [5,6,7,8,9,10], [1,2,3], []\n",
    "\n",
    "for data in list_1:\n",
    "    if function_2(data):\n",
    "        x.append(data)\n",
    "print(x)\n",
    "\n",
    "y = [item for item in list if function_2(item)]\n",
    "z = [value for value in list if function_3(value)]\n",
    "print(y)\n",
    "print(z)"
   ]
  },
  {
   "cell_type": "markdown",
   "metadata": {},
   "source": [
    "Hari ini mempelajari cara menampung beberapa/banyak data\n",
    "    yang terdapat dalam 1 list \n",
    "        pada variabel yang jumlahnya lebih sedikit dari jumlah\n",
    "            data dalam 1 list tersebut, \n",
    "    dimana variabel terakhir (yang diberi tanda bintang) menampung semua sisa\n",
    "        data dalam 1 list tersebut"
   ]
  },
  {
   "cell_type": "code",
   "execution_count": 3,
   "metadata": {},
   "outputs": [
    {
     "name": "stdout",
     "output_type": "stream",
     "text": [
      "1\n",
      "2\n",
      "[3, 3, 4, 7, 7]\n"
     ]
    }
   ],
   "source": [
    "x = [1, 2, 3, 3, 4, 7, 7]\n",
    "i, y, *remain = x\n",
    "print(i)\n",
    "print(y)\n",
    "print(remain)"
   ]
  },
  {
   "cell_type": "markdown",
   "metadata": {},
   "source": [
    "Hari ini mempelajari cara meng-kalkulasi data\n",
    "(menambah, mengurang, membagi, meng-kali, me-mangkatkan/pangkat)\n",
    "menggunakan fungsi int yang terdapat underscore ('__')"
   ]
  },
  {
   "cell_type": "code",
   "execution_count": 8,
   "metadata": {},
   "outputs": [
    {
     "name": "stdout",
     "output_type": "stream",
     "text": [
      "70\n",
      "20\n",
      "2\n",
      "2000\n",
      "32\n"
     ]
    }
   ],
   "source": [
    "val1, val2, val3, val4, val5, val6 = 30.0, 40.0, 50.0, 60.0, 2.0, 5.0\n",
    "# menambah ( + )\n",
    "x = int(val1).__add__(int(val2))\n",
    "# same as: int(val1).__getattribute__('__add__')(int(val2))\n",
    "print(x)\n",
    "\n",
    "# mengurang ( - )\n",
    "y = int(val3).__sub__(int(val1))\n",
    "# same as: int(val3).__getattribute__('__sub__')(int(val1))\n",
    "print(y)\n",
    "\n",
    "# membagi ( // )\n",
    "z = int(val4).__truediv__(int(val1))\n",
    "# same as: int(val4).__getattribute__('__truediv__')(int(val1))\n",
    "print(int(z))\n",
    "\n",
    "# meng-kali ( * )\n",
    "i = int(val2).__mul__(int(val3))\n",
    "# same as: int(val2).__getattribute__('__mul__')(int(val3))\n",
    "print(i)\n",
    "\n",
    "# me-mangkatkan/pangkat ( ** )\n",
    "a = int(val5).__pow__(int(val6))\n",
    "# same as: int(val5).__getattribute__('__pow__')(int(val6))\n",
    "print(a) \n"
   ]
  },
  {
   "cell_type": "markdown",
   "metadata": {},
   "source": [
    "Hari ini mempelajari statement try dan except"
   ]
  },
  {
   "cell_type": "markdown",
   "metadata": {},
   "source": [
    "Pada kode dibawah ini akan meng-eksekusi blok except yaitu \n",
    " \"an exception occurred\" karena variabel n tidak ada isinya atau \n",
    "    variabel n tidak terdefinisi"
   ]
  },
  {
   "cell_type": "code",
   "execution_count": 14,
   "metadata": {},
   "outputs": [
    {
     "name": "stdout",
     "output_type": "stream",
     "text": [
      "an exception occurred\n"
     ]
    }
   ],
   "source": [
    "try:\n",
    "    print(n)\n",
    "except:\n",
    "    print(\"an exception occurred\")\n"
   ]
  },
  {
   "cell_type": "markdown",
   "metadata": {},
   "source": [
    "Pada kode dibawah ini, program akan meng-eksekusi blok try\n",
    " dan tidak meng-eksekusi blok except karena variabel x dikenali\n",
    "   atau ada isinya  "
   ]
  },
  {
   "cell_type": "code",
   "execution_count": 15,
   "metadata": {},
   "outputs": [
    {
     "name": "stdout",
     "output_type": "stream",
     "text": [
      "10\n"
     ]
    }
   ],
   "source": [
    "x = 10\n",
    "try:\n",
    "    print(x)\n",
    "except:\n",
    "    print(\"an exception occurred\")"
   ]
  },
  {
   "cell_type": "markdown",
   "metadata": {},
   "source": [
    "Hari ini mempelajari fungsi isinstance(), yaitu\n",
    "fungsi yang mengecek apakah objek atau variabel adalah instance\n",
    "dari suatu tipe data atau kelas"
   ]
  },
  {
   "cell_type": "code",
   "execution_count": 2,
   "metadata": {},
   "outputs": [
    {
     "name": "stdout",
     "output_type": "stream",
     "text": [
      "True\n"
     ]
    }
   ],
   "source": [
    "i = [\"empriti\"]\n",
    "# jika parameter kedua dari fungsi isinstance() hanya 1, \n",
    "#   maka tidak perlu diberi kurung\n",
    "for value in i:\n",
    "    print(isinstance(value, str))"
   ]
  },
  {
   "cell_type": "code",
   "execution_count": 1,
   "metadata": {},
   "outputs": [
    {
     "name": "stdout",
     "output_type": "stream",
     "text": [
      "True\n",
      "True\n",
      "True\n",
      "True\n",
      " \n",
      "True\n",
      "False\n",
      "True\n",
      "True\n"
     ]
    }
   ],
   "source": [
    "x = [\"setipi\", 100, [1], {9.5}]\n",
    "# jika parameter kedua dari fungsi isinstance() lebih dari 1, \n",
    "#    maka perlu diberi kurung\n",
    "for something in x:\n",
    "    print(isinstance(something, (str, int, list, set)))\n",
    "print(\" \")\n",
    "for data in x:\n",
    "    print(isinstance(data, (str, list, tuple, set)))"
   ]
  },
  {
   "cell_type": "markdown",
   "metadata": {},
   "source": [
    "Hari ini mempelajari tentang yield (alternatif return), yaitu\n",
    " suatu keyword python yang menghasilkan generator yang digunakan\n",
    "    untuk menyimpan suatu data dimana untuk meng-eksekusinya ditaruh di\n",
    "        suatu variabel atau di-looping lalu \n",
    "          eksekusi pertama akan ada hasilnya namun untuk \n",
    "            eksekusi selanjut-lanjutnya tidak akan ada hasil "
   ]
  },
  {
   "cell_type": "markdown",
   "metadata": {},
   "source": [
    "Contoh untuk statement: \"eksekusi pertama akan ada hasilnya\n",
    "namun untuk eksekusi selanjut-lanjutnya tidak akan ada hasilnya\""
   ]
  },
  {
   "cell_type": "code",
   "execution_count": 30,
   "metadata": {},
   "outputs": [
    {
     "name": "stdout",
     "output_type": "stream",
     "text": [
      "value\n",
      "This is printed first\n",
      "1\n",
      "This is printed second\n",
      "2\n",
      "This is printed at last\n",
      "3\n"
     ]
    },
    {
     "ename": "StopIteration",
     "evalue": "",
     "output_type": "error",
     "traceback": [
      "\u001b[1;31m---------------------------------------------------------------------------\u001b[0m",
      "\u001b[1;31mStopIteration\u001b[0m                             Traceback (most recent call last)",
      "\u001b[1;32m~\\AppData\\Local\\Temp/ipykernel_9696/1954091118.py\u001b[0m in \u001b[0;36m<module>\u001b[1;34m\u001b[0m\n\u001b[0;32m     25\u001b[0m \u001b[1;31m#   dan jika eksekusi selanjut-lanjutnya menggunakan statement \"next\",\u001b[0m\u001b[1;33m\u001b[0m\u001b[1;33m\u001b[0m\u001b[1;33m\u001b[0m\u001b[0m\n\u001b[0;32m     26\u001b[0m \u001b[1;31m#       maka akan menghasilkan statement \"StopIteration\"\u001b[0m\u001b[1;33m\u001b[0m\u001b[1;33m\u001b[0m\u001b[1;33m\u001b[0m\u001b[0m\n\u001b[1;32m---> 27\u001b[1;33m \u001b[0mprint\u001b[0m\u001b[1;33m(\u001b[0m\u001b[0mnext\u001b[0m\u001b[1;33m(\u001b[0m\u001b[0mx\u001b[0m\u001b[1;33m)\u001b[0m\u001b[1;33m)\u001b[0m\u001b[1;33m\u001b[0m\u001b[1;33m\u001b[0m\u001b[0m\n\u001b[0m\u001b[0;32m     28\u001b[0m \u001b[0mprint\u001b[0m\u001b[1;33m(\u001b[0m\u001b[0mnext\u001b[0m\u001b[1;33m(\u001b[0m\u001b[0mx\u001b[0m\u001b[1;33m)\u001b[0m\u001b[1;33m)\u001b[0m\u001b[1;33m\u001b[0m\u001b[1;33m\u001b[0m\u001b[0m\n\u001b[0;32m     29\u001b[0m \u001b[0mprint\u001b[0m\u001b[1;33m(\u001b[0m\u001b[0mnext\u001b[0m\u001b[1;33m(\u001b[0m\u001b[0mx\u001b[0m\u001b[1;33m)\u001b[0m\u001b[1;33m)\u001b[0m\u001b[1;33m\u001b[0m\u001b[1;33m\u001b[0m\u001b[0m\n",
      "\u001b[1;31mStopIteration\u001b[0m: "
     ]
    }
   ],
   "source": [
    "def my_gen():\n",
    "    n = 1\n",
    "    print(\"This is printed first\")\n",
    "    yield n\n",
    "\n",
    "    n += 1\n",
    "    print(\"This is printed second\")\n",
    "    yield n\n",
    "\n",
    "    n += 1\n",
    "    print(\"This is printed at last\")\n",
    "    yield n\n",
    "\n",
    "x = my_gen()\n",
    "# eksekusi pertama: akan menghasilkan sesuatu\n",
    "print(\"value\")\n",
    "for value in x:\n",
    "    print(value)\n",
    "    \n",
    "# eksekusi kedua: tidak akan menghasilkan apa-apa\n",
    "for data in x:\n",
    "    print(data)\n",
    "\n",
    "# eksekusi selanjut-lanjutnya tidak akan menghasilkan apa-apa\n",
    "#   dan jika eksekusi selanjut-lanjutnya menggunakan statement \"next\", \n",
    "#       maka akan menghasilkan statement \"StopIteration\"\n",
    "print(next(x))\n",
    "print(next(x))\n",
    "print(next(x))"
   ]
  },
  {
   "cell_type": "markdown",
   "metadata": {},
   "source": [
    "Hari ini mempelajari tentang \"yield from\", yaitu\n",
    "  \"yield from\" akan mengambil nilai/data yield pada\n",
    "    suatu fungsi yang dipanggil "
   ]
  },
  {
   "cell_type": "code",
   "execution_count": 29,
   "metadata": {},
   "outputs": [
    {
     "name": "stdout",
     "output_type": "stream",
     "text": [
      "[1, 2, 3, 4, 5]\n"
     ]
    }
   ],
   "source": [
    "def one():\n",
    "    yield 1\n",
    "    yield 2\n",
    "\n",
    "def two():\n",
    "    yield 3\n",
    "    yield 4\n",
    "\n",
    "def execute():\n",
    "    yield from one()\n",
    "    yield from two()\n",
    "    yield 5\n",
    "\n",
    "i = execute()\n",
    "y = list(i)\n",
    "print(y)\n"
   ]
  },
  {
   "cell_type": "code",
   "execution_count": 28,
   "metadata": {},
   "outputs": [
    {
     "name": "stdout",
     "output_type": "stream",
     "text": [
      "[0, 2, 2, 3, 8, 100, 4, 50, -2]\n"
     ]
    }
   ],
   "source": [
    "# untuk cleaning up suatu list\n",
    "# flatten_array.py\n",
    "\n",
    "def flatten_helper(iterable):\n",
    "    for item in iterable:\n",
    "        if isinstance(item, (list, tuple)):\n",
    "            yield from flatten_helper(item)\n",
    "        elif item is not None:\n",
    "            yield item\n",
    "\n",
    "def flatten(iterable):\n",
    "    return list(flatten_helper(iterable))\n",
    "\n",
    "print(flatten([0, 2, [[2, 3], 8, 100, 4, [[[50]]]], -2]))"
   ]
  },
  {
   "cell_type": "markdown",
   "metadata": {},
   "source": [
    "Hari ini mempelajari tentang luhn algorithm, yaitu \n",
    "menentukan valid atau tidaknya suatu nomor kredit\n",
    "\n",
    "Caranya:\n",
    "1. Kalikan dua (double) setiap digit kedua, mulai dari kanan\n",
    "2. Jika mengkalikan dua (double) angka tersebut menghasilkan\n",
    "    angka lebih dari 9, maka kurangi 9\n",
    "3. Jumlahkan seluruh angka tersebut\n",
    "4. Jika hasil penjumlahan tersebut habis dibagi 10, maka nomor kredit \n",
    "    tersebut valid, jika tidak, maka nomor kredit tersebut tidak valid"
   ]
  },
  {
   "cell_type": "code",
   "execution_count": 3,
   "metadata": {},
   "outputs": [
    {
     "name": "stdout",
     "output_type": "stream",
     "text": [
      "True\n"
     ]
    }
   ],
   "source": [
    "import string\n",
    "\n",
    "class Luhn:\n",
    "    def __init__(self, card_num):\n",
    "        self.card_num = card_num\n",
    "        self.punctuation = string.punctuation\n",
    "\n",
    "    def valid(self):\n",
    "        if len(self.card_num) <= 1:\n",
    "            return False\n",
    "        \n",
    "        if self.card_num.startswith(\" \"):\n",
    "            return False\n",
    "\n",
    "        for something in self.card_num:\n",
    "            if something.isalpha():\n",
    "                return False\n",
    "\n",
    "        for char in self.card_num:\n",
    "            for value in self.punctuation:\n",
    "                if char in value:\n",
    "                    return False\n",
    "        \n",
    "        x = ''\n",
    "        for chr in self.card_num:\n",
    "            if chr.isdigit():\n",
    "                x += chr\n",
    "        x = reversed(x)\n",
    "\n",
    "        i = ''\n",
    "        for index, data in enumerate(x):\n",
    "            if index % 2 == 1:\n",
    "                if int(data) * 2 > 9:\n",
    "                    val = int(data) * 2 - 9\n",
    "                    i += str(val)\n",
    "                else:\n",
    "                    val = int(data) * 2\n",
    "                    i += str(val)\n",
    "            else:\n",
    "                i += str(data)\n",
    "\n",
    "        digit = 0\n",
    "        for number in i:\n",
    "            digit += int(number)\n",
    "        return digit % 10 == 0\n",
    "\n",
    "            \n",
    "v = Luhn(\"055 444 285\")\n",
    "print(v.valid())"
   ]
  },
  {
   "cell_type": "markdown",
   "metadata": {},
   "source": [
    "Hari ini mempelajari salah satu fungsi pada itertools, groupby():\n",
    "  yaitu suatu pengelompok-an data pada suatu input, fungsi ini\n",
    "    meng-return key dan seluruh key yang ada pada input satu per satu.\n",
    "\n",
    "Fungsi ini bersifat memory-efficient, dimana hanya dapat dieksekusi sekali"
   ]
  },
  {
   "cell_type": "code",
   "execution_count": 2,
   "metadata": {},
   "outputs": [
    {
     "name": "stdout",
     "output_type": "stream",
     "text": [
      "A ['A', 'A']\n",
      "B ['B', 'B']\n",
      "C ['C', 'C', 'C']\n",
      " \n",
      "a ['a', 'a']\n",
      "b ['b', 'b']\n",
      "d ['d', 'd']\n",
      "a ['a', 'a']\n"
     ]
    }
   ],
   "source": [
    "import itertools\n",
    "input = 'AABBCCC'\n",
    "input_1 = 'aabbddaa'\n",
    "\n",
    "groups = itertools.groupby(input)\n",
    "groups_1 = itertools.groupby(input_1)\n",
    "\n",
    "for value, grouping in groups:\n",
    "    print(value, list(grouping)) \n",
    "print(\" \")\n",
    "\n",
    "for char, grouping in groups_1:\n",
    "    print(char, list(grouping))\n"
   ]
  },
  {
   "cell_type": "markdown",
   "metadata": {},
   "source": [
    "Hari ini mempelajari salah satu karakterisitik \n",
    "    dari salah satu fungsi pada RegEx"
   ]
  },
  {
   "cell_type": "markdown",
   "metadata": {},
   "source": [
    "Code dibawah menunjukkan bahwa sistem diperintah untuk \n",
    "    menampilkan seluruh data dalam string selain \"a\" dan \"b\""
   ]
  },
  {
   "cell_type": "code",
   "execution_count": 8,
   "metadata": {},
   "outputs": [
    {
     "name": "stdout",
     "output_type": "stream",
     "text": [
      "['T', 'h', 'e', ' ', 'r', 'i', 'n', ' ', 'i', 'n', ' ', 'S', 'p', 'i', 'n']\n"
     ]
    }
   ],
   "source": [
    "import re\n",
    "y = \"The rain in Spain\"\n",
    "x = re.findall(\"[^a-b]\", y)\n",
    "print(x)"
   ]
  },
  {
   "cell_type": "markdown",
   "metadata": {},
   "source": [
    "Pemahaman tentang RegEx pada task Pig Latin yang terdapat pada community solutions"
   ]
  },
  {
   "cell_type": "code",
   "execution_count": 5,
   "metadata": {},
   "outputs": [
    {
     "name": "stdout",
     "output_type": "stream",
     "text": [
      "ellowyay\n",
      "ythmrhay\n"
     ]
    }
   ],
   "source": [
    "import re\n",
    "\n",
    "def word_split(word):\n",
    "    if re.match(\"^squ.*\", word):\n",
    "    # Kode di atas berarti mencari kecocokan suatu string\n",
    "        # dengan ketentuan: string diawali \"squ\" \n",
    "            # dan sisanya karakter apa saja yang berjumlah\n",
    "                # nol atau lebih\n",
    "\n",
    "        return re.findall('^(squ)(.*)', word)[0]\n",
    "\n",
    "    elif re.match(\"^qu.*\", word): \n",
    "    # Kode di atas berarti mencari kecocokan suatu string\n",
    "        # dengan ketentuan: string diawali \"qu\" \n",
    "            # dan sisanya karakter apa saja yang berjumlah\n",
    "                # nol atau lebih\n",
    "\n",
    "        return re.findall('^(qu)(.*)', word)[0]\n",
    "\n",
    "    elif re.match(\"^xr.*\", word):\n",
    "    # Kode di atas berarti mencari kecocokan suatu string \n",
    "        # dengan ketentuan: string diawali \"xr\"\n",
    "            # dan sisanya karakter apa saja yang berjumlah \n",
    "                # nol atau lebih \n",
    "\n",
    "        return '', word\n",
    "\n",
    "    elif re.match(\"^yt.*\", word):\n",
    "    # Kode di atas berarti mencari kecocokan suatu string\n",
    "        # dengan ketentuan: string diawali \"yt\"\n",
    "            # dan sisanya karakter apa saja yang berjumlah\n",
    "             # nol atau lebih\n",
    "\n",
    "        return '', word\n",
    "\n",
    "    elif re.match(\"[^aeiou]+y.*\", word):\n",
    "    # Kode di atas berarti mencari kecocokan suatu string\n",
    "        # dengan ketentuan: string diawali selain karakter \"a\", \"e\", \"i\", \"o\", \"u\"\n",
    "            # yang berjumlah satu atau lebih, dilanjut \n",
    "                # dengan karakter \"y\" dan sisanya karakter apa saja\n",
    "                    # yang berjumlah nol atau lebih\n",
    "\n",
    "        return re.findall('^([^aeiou]+)(y.*)', word)[0]\n",
    "\n",
    "    elif re.match(\"[^aeiou]+.*\", word):\n",
    "    # Kode di atas berarti mencari kecocokan suatu string\n",
    "        # dengan ketentuan: string diawali selain karakter \"a\", \"e\", \"i\", \"o\", \"u\"\n",
    "            # yang berjumlah satu atau lebih dan\n",
    "                # sisanya karakter apa saja yang berjumlah\n",
    "                    # nol atau lebih\n",
    "                    \n",
    "        return re.findall('^([^aeiou]+)(.*)', word)[0]\n",
    "    else:\n",
    "        return '', word\n",
    "\n",
    "def translate(text):\n",
    "    words_parts = [word_split(w) for w in text.split()]\n",
    "    words_pig_latin = [ws + wp + 'ay' for wp, ws in words_parts]\n",
    "    return ' '.join(words_pig_latin)\n",
    "\n",
    "print(translate(\"yellow\"))\n",
    "print(translate(\"rhythm\"))"
   ]
  },
  {
   "cell_type": "markdown",
   "metadata": {},
   "source": [
    "Hari ini mempelajari cara memberi spasi (space)\n",
    "di string pada posisi tertentu"
   ]
  },
  {
   "cell_type": "code",
   "execution_count": 2,
   "metadata": {},
   "outputs": [
    {
     "name": "stdout",
     "output_type": "stream",
     "text": [
      "imtgdvs fearwer mayoogo anouuio ntnnlvt wttddes aohghn  sseoau \n"
     ]
    }
   ],
   "source": [
    "x = 'imtgdvsfearwermayoogoanouuiontnnlvtwttddesaohghn sseoau '\n",
    "c, r = 8, 7\n",
    "\n",
    "output = ''\n",
    "for num in range(0, c):\n",
    "    output += x[:r] + \" \" \n",
    "    x = x[r:]\n",
    "\n",
    "if output.endswith(\" \"):\n",
    "    output = output.removesuffix(\" \")\n",
    "print(output)"
   ]
  }
 ],
 "metadata": {
  "interpreter": {
   "hash": "0fc52b9ca535ae9defbda4d1f90e3d4c3efaaf9659aa5fe637ae22612edc8a42"
  },
  "kernelspec": {
   "display_name": "Python 3.9.6 64-bit",
   "language": "python",
   "name": "python3"
  },
  "language_info": {
   "codemirror_mode": {
    "name": "ipython",
    "version": 3
   },
   "file_extension": ".py",
   "mimetype": "text/x-python",
   "name": "python",
   "nbconvert_exporter": "python",
   "pygments_lexer": "ipython3",
   "version": "3.9.6"
  },
  "orig_nbformat": 4
 },
 "nbformat": 4,
 "nbformat_minor": 2
}
