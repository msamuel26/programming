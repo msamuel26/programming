{
 "cells": [
  {
   "cell_type": "markdown",
   "metadata": {},
   "source": [
    "Hari ini mempelajari tenntang filter. Ada 2 cara menggunakan filter,\n",
    "yaitu: menggunakan fungsi (def) dan lambda."
   ]
  },
  {
   "cell_type": "markdown",
   "metadata": {},
   "source": [
    "Dibawah ini merupakan filter dengan menggunakan fungsi (def):"
   ]
  },
  {
   "cell_type": "code",
   "execution_count": 6,
   "metadata": {},
   "outputs": [
    {
     "data": {
      "text/plain": [
       "[4, 2, 12, 10]"
      ]
     },
     "execution_count": 6,
     "metadata": {},
     "output_type": "execute_result"
    }
   ],
   "source": [
    "nilai = [1, 4, 2, 5, 12, 9, 10, 3]\n",
    "def is_even(x):\n",
    "    if x % 2 == 0:\n",
    "        return x\n",
    "\n",
    "list((filter(is_even, nilai)))\n"
   ]
  },
  {
   "cell_type": "markdown",
   "metadata": {},
   "source": [
    "Dan dibawah ini merupakan filter dengan menggunakan lambda:"
   ]
  },
  {
   "cell_type": "code",
   "execution_count": 2,
   "metadata": {},
   "outputs": [
    {
     "data": {
      "text/plain": [
       "[4, 2, 12, 10]"
      ]
     },
     "execution_count": 2,
     "metadata": {},
     "output_type": "execute_result"
    }
   ],
   "source": [
    "nilai = [1, 4, 2, 5, 12, 9, 10, 3]\n",
    "list(filter(lambda i: i % 2 == 0, nilai))"
   ]
  },
  {
   "cell_type": "markdown",
   "metadata": {},
   "source": [
    "Mempelajari tentang cara menginstansi menjalankan suatu \n",
    "code yang ada Classnya"
   ]
  },
  {
   "cell_type": "markdown",
   "metadata": {},
   "source": [
    "Pada kode dibawah yaitu jika pada def __init__ tidak ada\n",
    "parameter selain \"self\", \n",
    "Maka cara mengeksekusi nya seperti dibawah ini\n",
    "yaitu nama Class nya ditampung pada suatu varibel, lalu print nama variabel \n",
    "beserta pilih fungsi (def) mana yang akan dijalankan lalu masukkan data \n",
    "dari parameternya "
   ]
  },
  {
   "cell_type": "code",
   "execution_count": null,
   "metadata": {},
   "outputs": [],
   "source": [
    "class Saring:\n",
    "    def __init__(self):\n",
    "        self.data = []\n",
    "\n",
    "    def saring(self, input, name):\n",
    "        for data in input:\n",
    "            if data[0] == name:\n",
    "                self.data.append(data)\n",
    "        return self.data\n",
    "\n",
    "i = Saring()\n",
    "print(i.saring([[\"acong\", \"math\", 10],\n",
    " [\"badu\", \"english\", 9],\n",
    " [\"amoy\", \"science\", 9],\n",
    " [\"acong\", \"english\", 8],\n",
    " [\"badu\", \"science\", 7],\n",
    " [\"amoy\", \"english\", 8],\n",
    " [\"acong\", \"science\", 8],\n",
    " [\"badu\", \"math\", 7],\n",
    " [\"amoy\", \"math\", 9]], \"acong\"\n",
    "))"
   ]
  },
  {
   "cell_type": "markdown",
   "metadata": {},
   "source": [
    "Pada kode dibawah ini jika di dalam def __init__ \n",
    "terdapat parameter, maka cara mengeksekusi nya seperti di bawah ini"
   ]
  },
  {
   "cell_type": "code",
   "execution_count": 4,
   "metadata": {},
   "outputs": [
    {
     "name": "stdout",
     "output_type": "stream",
     "text": [
      "[['acong', 'math', 10], ['acong', 'english', 8], ['acong', 'science', 8]]\n",
      "[['badu', 'english', 9], ['badu', 'science', 7], ['badu', 'math', 7]]\n"
     ]
    }
   ],
   "source": [
    "class Saring2:\n",
    "    def __init__(self, input):\n",
    "        self.data = []\n",
    "        self.input = input \n",
    "\n",
    "    def saring(self, name):\n",
    "        self.data = []\n",
    "        for data in self.input:\n",
    "            if data[0] == name:\n",
    "                self.data.append(data)\n",
    "        return self.data \n",
    "\n",
    "e = Saring2([[\"acong\", \"math\", 10],\n",
    " [\"badu\", \"english\", 9],\n",
    " [\"amoy\", \"science\", 9],\n",
    " [\"acong\", \"english\", 8],\n",
    " [\"badu\", \"science\", 7],\n",
    " [\"amoy\", \"english\", 8],\n",
    " [\"acong\", \"science\", 8],\n",
    " [\"badu\", \"math\", 7],\n",
    " [\"amoy\", \"math\", 9]])\n",
    "print(e.saring(\"acong\"))\n",
    "print(e.saring(\"badu\")) "
   ]
  },
  {
   "cell_type": "markdown",
   "metadata": {},
   "source": [
    "Hari ini mempelajari tentang mem-filter list"
   ]
  },
  {
   "cell_type": "code",
   "execution_count": 14,
   "metadata": {},
   "outputs": [
    {
     "name": "stdout",
     "output_type": "stream",
     "text": [
      "[['badu', 'english', 9], ['acong', 'english', 8], ['amoy', 'english', 8]]\n",
      "[['acong', 'english', 8], ['amoy', 'english', 8], ['acong', 'science', 8]]\n"
     ]
    }
   ],
   "source": [
    "data = [[\"acong\", \"math\", 10], [\"badu\", \"english\", 9], [\"amoy\", \"science\", 9], \n",
    "[\"acong\", \"english\", 8], [\"badu\", \"science\", 7], [\"amoy\", \"english\", 8], \n",
    "[\"acong\", \"science\", 8], [\"badu\", \"math\", 7], [\"amoy\", \"math\", 9]]\n",
    "\n",
    "class Saring():\n",
    "    def __init__(self):\n",
    "        self.data = []\n",
    "\n",
    "    def saring(self, input, index, value):\n",
    "        self.data = [x for x in input if x[index] == value]\n",
    "        return self.data\n",
    "\n",
    "i = Saring()\n",
    "print(i.saring(data, 1, \"english\"))\n",
    "print(i.saring(data, 2, 8))"
   ]
  },
  {
   "cell_type": "markdown",
   "metadata": {},
   "source": [
    "Hari ini mempelajari mem-filter dict"
   ]
  },
  {
   "cell_type": "code",
   "execution_count": 15,
   "metadata": {},
   "outputs": [
    {
     "name": "stdout",
     "output_type": "stream",
     "text": [
      "{8: 'john', 10: 'riti', 12: 'sachin'}\n"
     ]
    }
   ],
   "source": [
    "dictOfNames = {\n",
    "   7 : 'sam',\n",
    "   8: 'john',\n",
    "   9: 'mathew',\n",
    "   10: 'riti',\n",
    "   11 : 'aadi',\n",
    "   12 : 'sachin'\n",
    "}\n",
    "\n",
    "def even(elem):\n",
    "    if elem[0] % 2 == 0:\n",
    "        return True\n",
    "\n",
    "def filterTheDict(dictObj, callback):\n",
    "    newDict = dict()\n",
    "    # Iterate over all the items in dictionary\n",
    "    for (key, value) in dictObj.items():\n",
    "        # Check if item satisfies the given condition then add to new dict\n",
    "        if callback((key, value)):\n",
    "            newDict[key] = value\n",
    "    return newDict\n",
    "\n",
    "newDict = filterTheDict(dictOfNames, lambda elem : elem[0] % 2 == 0)\n",
    "# print('Filtered Dictionary : ')\n",
    "# print(newDict)\n",
    "\n",
    "newDict1 = filterTheDict(dictOfNames, even)\n",
    "print(newDict1)"
   ]
  },
  {
   "cell_type": "code",
   "execution_count": 16,
   "metadata": {},
   "outputs": [
    {
     "name": "stdout",
     "output_type": "stream",
     "text": [
      "{12: 'sachin'}\n"
     ]
    }
   ],
   "source": [
    "class Saring4():\n",
    "    def __init__(self):\n",
    "        self.dict = {}\n",
    "\n",
    "    def saring(self, input, nilai):\n",
    "        self.dict = {key:value for key, value in input.items() if nilai in value}\n",
    "        return self.dict\n",
    "\n",
    "t = Saring4()\n",
    "print(t.saring(dictOfNames, \"chin\"))"
   ]
  },
  {
   "cell_type": "markdown",
   "metadata": {},
   "source": [
    "Mempelajari filter dict dengan filter() function"
   ]
  },
  {
   "cell_type": "code",
   "execution_count": 18,
   "metadata": {},
   "outputs": [
    {
     "name": "stdout",
     "output_type": "stream",
     "text": [
      "{8: 'john', 10: 'riti', 12: 'sachin'}\n"
     ]
    }
   ],
   "source": [
    "dictOfNames = {\n",
    "   7 : 'sam',\n",
    "   8: 'john',\n",
    "   9: 'mathew',\n",
    "   10: 'riti',\n",
    "   11 : 'aadi',\n",
    "   12 : 'sachin'\n",
    "}\n",
    "\n",
    "newDict = dict(filter(lambda i: i[0] % 2 == 0, dictOfNames.items()))\n",
    "print(newDict)"
   ]
  },
  {
   "cell_type": "markdown",
   "metadata": {},
   "source": [
    "Hari ini mempelajari cara split setiap 3 karakter/data\n",
    "pada string,\n",
    "Untuk angka nya bebas sesuai yang dibutuhkan"
   ]
  },
  {
   "cell_type": "code",
   "execution_count": 2,
   "metadata": {},
   "outputs": [
    {
     "name": "stdout",
     "output_type": "stream",
     "text": [
      "['UAG', 'UGI']\n"
     ]
    }
   ],
   "source": [
    "strand = \"UAGUGI\"\n",
    "n = 3 # Untuk angkanya bebas sesuai yang dibutuhkan\n",
    "x = [strand[i: i + n] for i in range(0, len(strand), n)]\n",
    "print(x)"
   ]
  }
 ],
 "metadata": {
  "interpreter": {
   "hash": "693170f424a7f4a017d4f00c44936e53149e34729fff7bf7bbe520821e30c403"
  },
  "kernelspec": {
   "display_name": "Python 3.9.6 ('belajar')",
   "language": "python",
   "name": "python3"
  },
  "language_info": {
   "codemirror_mode": {
    "name": "ipython",
    "version": 3
   },
   "file_extension": ".py",
   "mimetype": "text/x-python",
   "name": "python",
   "nbconvert_exporter": "python",
   "pygments_lexer": "ipython3",
   "version": "3.9.6"
  },
  "orig_nbformat": 4
 },
 "nbformat": 4,
 "nbformat_minor": 2
}
