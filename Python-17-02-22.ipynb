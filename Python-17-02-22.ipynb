{
 "cells": [
  {
   "cell_type": "markdown",
   "metadata": {},
   "source": [
    "Hari ini mempelajari tenntang filter. Ada 2 cara menggunakan filter,\n",
    "yaitu: menggunakan fungsi (def) dan lambda."
   ]
  },
  {
   "cell_type": "markdown",
   "metadata": {},
   "source": [
    "Dibawah ini merupakan filter dengan menggunakan fungsi (def):"
   ]
  },
  {
   "cell_type": "code",
   "execution_count": 1,
   "metadata": {},
   "outputs": [
    {
     "data": {
      "text/plain": [
       "[4, 2, 12, 10]"
      ]
     },
     "execution_count": 1,
     "metadata": {},
     "output_type": "execute_result"
    }
   ],
   "source": [
    "nilai = [1, 4, 2, 5, 12, 9, 10, 3]\n",
    "def is_even(x):\n",
    "    if x % 2 == 0:\n",
    "        return x\n",
    "\n",
    "list(filter(is_even, nilai))\n"
   ]
  },
  {
   "cell_type": "markdown",
   "metadata": {},
   "source": [
    "Dan dibawah ini merupakan filter dengan menggunakan lambda:"
   ]
  },
  {
   "cell_type": "code",
   "execution_count": 2,
   "metadata": {},
   "outputs": [
    {
     "data": {
      "text/plain": [
       "[4, 2, 12, 10]"
      ]
     },
     "execution_count": 2,
     "metadata": {},
     "output_type": "execute_result"
    }
   ],
   "source": [
    "nilai = [1, 4, 2, 5, 12, 9, 10, 3]\n",
    "list(filter(lambda i: i % 2 == 0, nilai))"
   ]
  }
 ],
 "metadata": {
  "interpreter": {
   "hash": "693170f424a7f4a017d4f00c44936e53149e34729fff7bf7bbe520821e30c403"
  },
  "kernelspec": {
   "display_name": "Python 3.9.6 ('belajar')",
   "language": "python",
   "name": "python3"
  },
  "language_info": {
   "codemirror_mode": {
    "name": "ipython",
    "version": 3
   },
   "file_extension": ".py",
   "mimetype": "text/x-python",
   "name": "python",
   "nbconvert_exporter": "python",
   "pygments_lexer": "ipython3",
   "version": "3.9.6"
  },
  "orig_nbformat": 4
 },
 "nbformat": 4,
 "nbformat_minor": 2
}
