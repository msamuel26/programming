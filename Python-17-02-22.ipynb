{
 "cells": [
  {
   "cell_type": "markdown",
   "metadata": {},
   "source": [
    "Hari ini mempelajari tenntang filter. Ada 2 cara menggunakan filter,\n",
    "yaitu: menggunakan fungsi (def) dan lambda."
   ]
  },
  {
   "cell_type": "markdown",
   "metadata": {},
   "source": [
    "Dibawah ini merupakan filter dengan menggunakan fungsi (def):"
   ]
  },
  {
   "cell_type": "code",
   "execution_count": 1,
   "metadata": {},
   "outputs": [
    {
     "data": {
      "text/plain": [
       "[4, 2, 12, 10]"
      ]
     },
     "execution_count": 1,
     "metadata": {},
     "output_type": "execute_result"
    }
   ],
   "source": [
    "nilai = [1, 4, 2, 5, 12, 9, 10, 3]\n",
    "def is_even(x):\n",
    "    if x % 2 == 0:\n",
    "        return x\n",
    "\n",
    "list(filter(is_even, nilai))\n"
   ]
  },
  {
   "cell_type": "markdown",
   "metadata": {},
   "source": [
    "Dan dibawah ini merupakan filter dengan menggunakan lambda:"
   ]
  },
  {
   "cell_type": "code",
   "execution_count": 2,
   "metadata": {},
   "outputs": [
    {
     "data": {
      "text/plain": [
       "[4, 2, 12, 10]"
      ]
     },
     "execution_count": 2,
     "metadata": {},
     "output_type": "execute_result"
    }
   ],
   "source": [
    "nilai = [1, 4, 2, 5, 12, 9, 10, 3]\n",
    "list(filter(lambda i: i % 2 == 0, nilai))"
   ]
  },
  {
   "cell_type": "markdown",
   "metadata": {},
   "source": [
    "Mempelajari tentang cara menginstansi menjalankan suatu \n",
    "code yang ada Classnya"
   ]
  },
  {
   "cell_type": "markdown",
   "metadata": {},
   "source": [
    "Pada kode dibawah yaitu jika pada def __init__ tidak ada\n",
    "parameter selain \"self\", \n",
    "Maka cara mengeksekusi nya seperti dibawah ini\n",
    "yaitu nama Class nya ditampung pada suatu varibel, lalu print nama variabel \n",
    "beserta pilih fungsi (def) mana yang akan dijalankan lalu masukkan data \n",
    "dari parameternya "
   ]
  },
  {
   "cell_type": "code",
   "execution_count": null,
   "metadata": {},
   "outputs": [],
   "source": [
    "class Saring:\n",
    "    def __init__(self):\n",
    "        self.data = []\n",
    "\n",
    "    def saring(self, input, name):\n",
    "        for data in input:\n",
    "            if data[0] == name:\n",
    "                self.data.append(data)\n",
    "        return self.data\n",
    "\n",
    "i = Saring()\n",
    "print(i.saring([[\"acong\", \"math\", 10],\n",
    " [\"badu\", \"english\", 9],\n",
    " [\"amoy\", \"science\", 9],\n",
    " [\"acong\", \"english\", 8],\n",
    " [\"badu\", \"science\", 7],\n",
    " [\"amoy\", \"english\", 8],\n",
    " [\"acong\", \"science\", 8],\n",
    " [\"badu\", \"math\", 7],\n",
    " [\"amoy\", \"math\", 9]], \"acong\"\n",
    "))"
   ]
  },
  {
   "cell_type": "markdown",
   "metadata": {},
   "source": [
    "Pada kode dibawah ini jika di dalam def __init__ \n",
    "terdapat parameter, maka cara mengeksekusi nya seperti di bawah ini"
   ]
  },
  {
   "cell_type": "code",
   "execution_count": 4,
   "metadata": {},
   "outputs": [
    {
     "name": "stdout",
     "output_type": "stream",
     "text": [
      "[['acong', 'math', 10], ['acong', 'english', 8], ['acong', 'science', 8]]\n",
      "[['badu', 'english', 9], ['badu', 'science', 7], ['badu', 'math', 7]]\n"
     ]
    }
   ],
   "source": [
    "class Saring2:\n",
    "    def __init__(self, input):\n",
    "        self.data = []\n",
    "        self.input = input \n",
    "\n",
    "    def saring(self, name):\n",
    "        self.data = []\n",
    "        for data in self.input:\n",
    "            if data[0] == name:\n",
    "                self.data.append(data)\n",
    "        return self.data \n",
    "\n",
    "e = Saring2([[\"acong\", \"math\", 10],\n",
    " [\"badu\", \"english\", 9],\n",
    " [\"amoy\", \"science\", 9],\n",
    " [\"acong\", \"english\", 8],\n",
    " [\"badu\", \"science\", 7],\n",
    " [\"amoy\", \"english\", 8],\n",
    " [\"acong\", \"science\", 8],\n",
    " [\"badu\", \"math\", 7],\n",
    " [\"amoy\", \"math\", 9]])\n",
    "print(e.saring(\"acong\"))\n",
    "print(e.saring(\"badu\")) "
   ]
  }
 ],
 "metadata": {
  "interpreter": {
   "hash": "693170f424a7f4a017d4f00c44936e53149e34729fff7bf7bbe520821e30c403"
  },
  "kernelspec": {
   "display_name": "Python 3.9.6 ('belajar')",
   "language": "python",
   "name": "python3"
  },
  "language_info": {
   "codemirror_mode": {
    "name": "ipython",
    "version": 3
   },
   "file_extension": ".py",
   "mimetype": "text/x-python",
   "name": "python",
   "nbconvert_exporter": "python",
   "pygments_lexer": "ipython3",
   "version": "3.9.6"
  },
  "orig_nbformat": 4
 },
 "nbformat": 4,
 "nbformat_minor": 2
}
