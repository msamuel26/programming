{
 "cells": [
  {
   "cell_type": "markdown",
   "metadata": {},
   "source": [
    "Hari ini mempelajari tenntang filter. Ada 2 cara menggunakan filter,\n",
    "yaitu: menggunakan fungsi (def) dan lambda."
   ]
  },
  {
   "cell_type": "markdown",
   "metadata": {},
   "source": [
    "Dibawah ini merupakan filter dengan menggunakan fungsi (def):"
   ]
  },
  {
   "cell_type": "code",
   "execution_count": 6,
   "metadata": {},
   "outputs": [
    {
     "data": {
      "text/plain": [
       "[4, 2, 12, 10]"
      ]
     },
     "execution_count": 6,
     "metadata": {},
     "output_type": "execute_result"
    }
   ],
   "source": [
    "nilai = [1, 4, 2, 5, 12, 9, 10, 3]\n",
    "def is_even(x):\n",
    "    if x % 2 == 0:\n",
    "        return x\n",
    "\n",
    "list((filter(is_even, nilai)))\n"
   ]
  },
  {
   "cell_type": "markdown",
   "metadata": {},
   "source": [
    "Dan dibawah ini merupakan filter dengan menggunakan lambda:"
   ]
  },
  {
   "cell_type": "code",
   "execution_count": 2,
   "metadata": {},
   "outputs": [
    {
     "data": {
      "text/plain": [
       "[4, 2, 12, 10]"
      ]
     },
     "execution_count": 2,
     "metadata": {},
     "output_type": "execute_result"
    }
   ],
   "source": [
    "nilai = [1, 4, 2, 5, 12, 9, 10, 3]\n",
    "list(filter(lambda i: i % 2 == 0, nilai))"
   ]
  },
  {
   "cell_type": "markdown",
   "metadata": {},
   "source": [
    "Mempelajari tentang cara menginstansi menjalankan suatu \n",
    "code yang ada Classnya"
   ]
  },
  {
   "cell_type": "markdown",
   "metadata": {},
   "source": [
    "Pada kode dibawah yaitu jika pada def __init__ tidak ada\n",
    "parameter selain \"self\", \n",
    "Maka cara mengeksekusi nya seperti dibawah ini\n",
    "yaitu nama Class nya ditampung pada suatu varibel, lalu print nama variabel \n",
    "beserta pilih fungsi (def) mana yang akan dijalankan lalu masukkan data \n",
    "dari parameternya "
   ]
  },
  {
   "cell_type": "code",
   "execution_count": null,
   "metadata": {},
   "outputs": [],
   "source": [
    "class Saring:\n",
    "    def __init__(self):\n",
    "        self.data = []\n",
    "\n",
    "    def saring(self, input, name):\n",
    "        for data in input:\n",
    "            if data[0] == name:\n",
    "                self.data.append(data)\n",
    "        return self.data\n",
    "\n",
    "i = Saring()\n",
    "print(i.saring([[\"acong\", \"math\", 10],\n",
    " [\"badu\", \"english\", 9],\n",
    " [\"amoy\", \"science\", 9],\n",
    " [\"acong\", \"english\", 8],\n",
    " [\"badu\", \"science\", 7],\n",
    " [\"amoy\", \"english\", 8],\n",
    " [\"acong\", \"science\", 8],\n",
    " [\"badu\", \"math\", 7],\n",
    " [\"amoy\", \"math\", 9]], \"acong\"\n",
    "))"
   ]
  },
  {
   "cell_type": "markdown",
   "metadata": {},
   "source": [
    "Pada kode dibawah ini jika di dalam def __init__ \n",
    "terdapat parameter, maka cara mengeksekusi nya seperti di bawah ini"
   ]
  },
  {
   "cell_type": "code",
   "execution_count": 4,
   "metadata": {},
   "outputs": [
    {
     "name": "stdout",
     "output_type": "stream",
     "text": [
      "[['acong', 'math', 10], ['acong', 'english', 8], ['acong', 'science', 8]]\n",
      "[['badu', 'english', 9], ['badu', 'science', 7], ['badu', 'math', 7]]\n"
     ]
    }
   ],
   "source": [
    "class Saring2:\n",
    "    def __init__(self, input):\n",
    "        self.data = []\n",
    "        self.input = input \n",
    "\n",
    "    def saring(self, name):\n",
    "        self.data = []\n",
    "        for data in self.input:\n",
    "            if data[0] == name:\n",
    "                self.data.append(data)\n",
    "        return self.data \n",
    "\n",
    "e = Saring2([[\"acong\", \"math\", 10],\n",
    " [\"badu\", \"english\", 9],\n",
    " [\"amoy\", \"science\", 9],\n",
    " [\"acong\", \"english\", 8],\n",
    " [\"badu\", \"science\", 7],\n",
    " [\"amoy\", \"english\", 8],\n",
    " [\"acong\", \"science\", 8],\n",
    " [\"badu\", \"math\", 7],\n",
    " [\"amoy\", \"math\", 9]])\n",
    "print(e.saring(\"acong\"))\n",
    "print(e.saring(\"badu\")) "
   ]
  },
  {
   "cell_type": "markdown",
   "metadata": {},
   "source": [
    "Hari ini mempelajari tentang mem-filter list"
   ]
  },
  {
   "cell_type": "code",
   "execution_count": 14,
   "metadata": {},
   "outputs": [
    {
     "name": "stdout",
     "output_type": "stream",
     "text": [
      "[['badu', 'english', 9], ['acong', 'english', 8], ['amoy', 'english', 8]]\n",
      "[['acong', 'english', 8], ['amoy', 'english', 8], ['acong', 'science', 8]]\n"
     ]
    }
   ],
   "source": [
    "data = [[\"acong\", \"math\", 10], [\"badu\", \"english\", 9], [\"amoy\", \"science\", 9], \n",
    "[\"acong\", \"english\", 8], [\"badu\", \"science\", 7], [\"amoy\", \"english\", 8], \n",
    "[\"acong\", \"science\", 8], [\"badu\", \"math\", 7], [\"amoy\", \"math\", 9]]\n",
    "\n",
    "class Saring():\n",
    "    def __init__(self):\n",
    "        self.data = []\n",
    "\n",
    "    def saring(self, input, index, value):\n",
    "        self.data = [x for x in input if x[index] == value]\n",
    "        return self.data\n",
    "\n",
    "i = Saring()\n",
    "print(i.saring(data, 1, \"english\"))\n",
    "print(i.saring(data, 2, 8))"
   ]
  },
  {
   "cell_type": "markdown",
   "metadata": {},
   "source": [
    "Hari ini mempelajari mem-filter dict"
   ]
  },
  {
   "cell_type": "code",
   "execution_count": 15,
   "metadata": {},
   "outputs": [
    {
     "name": "stdout",
     "output_type": "stream",
     "text": [
      "{8: 'john', 10: 'riti', 12: 'sachin'}\n"
     ]
    }
   ],
   "source": [
    "dictOfNames = {\n",
    "   7 : 'sam',\n",
    "   8: 'john',\n",
    "   9: 'mathew',\n",
    "   10: 'riti',\n",
    "   11 : 'aadi',\n",
    "   12 : 'sachin'\n",
    "}\n",
    "\n",
    "def even(elem):\n",
    "    if elem[0] % 2 == 0:\n",
    "        return True\n",
    "\n",
    "def filterTheDict(dictObj, callback):\n",
    "    newDict = dict()\n",
    "    # Iterate over all the items in dictionary\n",
    "    for (key, value) in dictObj.items():\n",
    "        # Check if item satisfies the given condition then add to new dict\n",
    "        if callback((key, value)):\n",
    "            newDict[key] = value\n",
    "    return newDict\n",
    "\n",
    "newDict = filterTheDict(dictOfNames, lambda elem : elem[0] % 2 == 0)\n",
    "# print('Filtered Dictionary : ')\n",
    "# print(newDict)\n",
    "\n",
    "newDict1 = filterTheDict(dictOfNames, even)\n",
    "print(newDict1)"
   ]
  },
  {
   "cell_type": "code",
   "execution_count": 16,
   "metadata": {},
   "outputs": [
    {
     "name": "stdout",
     "output_type": "stream",
     "text": [
      "{12: 'sachin'}\n"
     ]
    }
   ],
   "source": [
    "class Saring4():\n",
    "    def __init__(self):\n",
    "        self.dict = {}\n",
    "\n",
    "    def saring(self, input, nilai):\n",
    "        self.dict = {key:value for key, value in input.items() if nilai in value}\n",
    "        return self.dict\n",
    "\n",
    "t = Saring4()\n",
    "print(t.saring(dictOfNames, \"chin\"))"
   ]
  },
  {
   "cell_type": "markdown",
   "metadata": {},
   "source": [
    "Mempelajari filter dict dengan filter() function"
   ]
  },
  {
   "cell_type": "code",
   "execution_count": 18,
   "metadata": {},
   "outputs": [
    {
     "name": "stdout",
     "output_type": "stream",
     "text": [
      "{8: 'john', 10: 'riti', 12: 'sachin'}\n"
     ]
    }
   ],
   "source": [
    "dictOfNames = {\n",
    "   7 : 'sam',\n",
    "   8: 'john',\n",
    "   9: 'mathew',\n",
    "   10: 'riti',\n",
    "   11 : 'aadi',\n",
    "   12 : 'sachin'\n",
    "}\n",
    "\n",
    "newDict = dict(filter(lambda i: i[0] % 2 == 0, dictOfNames.items()))\n",
    "print(newDict)"
   ]
  },
  {
   "cell_type": "markdown",
   "metadata": {},
   "source": [
    "Hari ini mempelajari cara split setiap 3 karakter/data\n",
    "pada string,\n",
    "Untuk angka nya bebas sesuai yang dibutuhkan"
   ]
  },
  {
   "cell_type": "code",
   "execution_count": 2,
   "metadata": {},
   "outputs": [
    {
     "name": "stdout",
     "output_type": "stream",
     "text": [
      "['UAG', 'UGI']\n"
     ]
    }
   ],
   "source": [
    "strand = \"UAGUGI\"\n",
    "n = 3 # Untuk angkanya bebas sesuai yang dibutuhkan\n",
    "x = [strand[i: i + n] for i in range(0, len(strand), n)]\n",
    "print(x)"
   ]
  },
  {
   "cell_type": "markdown",
   "metadata": {},
   "source": [
    "Hari ini belajar tentang proses menggunakan recursion (pengulangan), \n",
    "recursion yaitu metode yang memanggil fungsinya sendiri "
   ]
  },
  {
   "cell_type": "code",
   "execution_count": 2,
   "metadata": {},
   "outputs": [
    {
     "name": "stdout",
     "output_type": "stream",
     "text": [
      "6\n",
      " \n",
      "9\n",
      "8\n",
      "7\n",
      "6\n",
      "5\n",
      "4\n",
      "3\n",
      "2\n",
      "1\n",
      "0\n",
      "None\n",
      " \n",
      "[1, 3, 5, 7, 9]\n",
      " \n",
      "[2, 4, 8, 14]\n",
      " \n"
     ]
    }
   ],
   "source": [
    "def tri_recursion(value):\n",
    "    if value > 0 :\n",
    "        result = value + tri_recursion(value - 1)\n",
    "    else:\n",
    "        result = 0\n",
    "    return result\n",
    "\n",
    "print(tri_recursion(3))\n",
    "print(\" \")\n",
    "\n",
    "def countdown(value):\n",
    "    print(value)\n",
    "    if value == 0:\n",
    "        return\n",
    "    else:\n",
    "        countdown(value - 1)\n",
    "\n",
    "print(countdown(9))\n",
    "print(\" \") \n",
    "\n",
    "def process_1(value, n, data):\n",
    "    if n <= value:\n",
    "        data.append(n)\n",
    "        process_1(value, n + 2, data)\n",
    "\n",
    "def test(nilai):\n",
    "    n, data = 1, []\n",
    "    process_1(nilai, n, data)\n",
    "    return data\n",
    "\n",
    "print(test(10))\n",
    "print(\" \") \n",
    "\n",
    "def logic(data, a, i, inc):\n",
    "    if a <= data:\n",
    "        i.append(a * 2)\n",
    "        logic(data, a + inc, i, inc + 1)\n",
    "\n",
    "def logic_1(input):\n",
    "    a, i = 1, []\n",
    "    logic(input, a, i, a)\n",
    "    return i \n",
    "\n",
    "print(logic_1(10)) \n",
    "print(\" \") "
   ]
  },
  {
   "cell_type": "markdown",
   "metadata": {},
   "source": [
    "Contoh data real atas penggunaan list dan dict yaitu list berisi dict, dict berisi list yang berisi dict"
   ]
  },
  {
   "cell_type": "code",
   "execution_count": 24,
   "metadata": {},
   "outputs": [
    {
     "name": "stdout",
     "output_type": "stream",
     "text": [
      "INV/PDG/2022/01/0051\n",
      "INV/PDG/2022/01/0003\n"
     ]
    }
   ],
   "source": [
    "x = [\n",
    "{'name': 'INV/PDG/2022/01/0051', 'currency': 'IDR', 'partner': 'TANI MAJU | PDG-T002 (IDR)', 'partner_ori': 'TANI MAJU', 'debit': '14,419,500.00', 'credit': '0.00', 'saldo_akhir': '14,419,500.00', 'total_debit': '293,538,059.00', 'total_credit': '79,699,819.00', 'total_saldo': '213,838,240.00', 'is_last': True, \n",
    "'list_line': [\n",
    "    {'date': '18-01-2022', 'noref': 'INV/PDG/2022/01/0051', 'jatuh_tempo': '19-03-2022', 'currency': 'IDR', 'debit': '2,173,000.00', 'credit': '0.00', 'saldo': '2,173,000.00', 'is_sum': False}, \n",
    "    {'date': '', 'noref': 'INV/PDG/2022/01/0051', 'jatuh_tempo': None, 'currency': 'IDR', 'debit': '2,173,000.00', 'credit': '0.00', 'saldo': '2,173,000.00', 'is_sum': True}, \n",
    "    {'date': '24-02-2022', 'noref': 'INV/PDG/2022/02/0032', 'jatuh_tempo': '25-04-2022', 'currency': 'IDR', 'debit': '8,302,500.00', 'credit': '0.00', 'saldo': '10,475,500.00', 'is_sum': False}, \n",
    "    {'date': '', 'noref': 'INV/PDG/2022/02/0032', 'jatuh_tempo': None, 'currency': 'IDR', 'debit': '8,302,500.00', 'credit': '0.00', 'saldo': '8,302,500.00', 'is_sum': True}, \n",
    "    {'date': '24-11-2021', 'noref': 'INV-1202', 'jatuh_tempo': '24-11-2021', 'currency': 'IDR', 'debit': '3,944,000.00', 'credit': '0.00', 'saldo': '14,419,500.00', 'is_sum': False}, \n",
    "    {'date': '', 'noref': 'INV-1202', 'jatuh_tempo': None, 'currency': 'IDR', 'debit': '3,944,000.00', 'credit': '0.00', 'saldo': '3,944,000.00', 'is_sum': True}]\n",
    "},\n",
    "{'name': 'INV/PDG/2022/01/0003', 'currency': 'IDR', 'partner': 'TANI SINAR PAGI | PDG-T010 (IDR)', 'partner_ori': 'TANI SINAR PAGI', 'debit': '12,375,000.00', 'credit': '2,375,000.00', 'saldo_akhir': '10,000,000.00', 'total_debit': '207,500,559.00', 'total_credit': '34,824,819.00', 'total_saldo': '172,675,740.00', 'is_last': False, \n",
    "'list_line': [\n",
    "    {'date': '10-01-2022', 'noref': 'INV/PDG/2022/01/0003', 'jatuh_tempo': '24-02-2022', 'currency': 'IDR', 'debit': '12,375,000.00', 'credit': '0.00', 'saldo': '12,375,000.00', 'is_sum': False}, \n",
    "    {'date': '25-02-2022', 'noref': 'CK501/2022/02/0079', 'jatuh_tempo': None, 'currency': 'IDR', 'debit': '0.00', 'credit': '2,375,000.00', 'saldo': '10,000,000.00', 'is_sum': False}, \n",
    "    {'date': '', 'noref': 'INV/PDG/2022/01/0003', 'jatuh_tempo': None, 'currency': 'IDR', 'debit': '12,375,000.00', 'credit': '2,375,000.00', 'saldo': '10,000,000.00', 'is_sum': True}\n",
    "    ]\n",
    "}] \n",
    "\n",
    "print(x[0][\"list_line\"][0][\"noref\"])\n",
    "print(x[1][\"list_line\"][0][\"noref\"])"
   ]
  },
  {
   "cell_type": "markdown",
   "metadata": {},
   "source": [
    "Hari ini mengulas kembali tentang cara sorting dict \n",
    "dengan menggunakan key lambda, termasuk menggunakan reverse=True (dibalik) atau \n",
    "nilai integer yang dinegasikan"
   ]
  },
  {
   "cell_type": "code",
   "execution_count": 2,
   "metadata": {},
   "outputs": [
    {
     "name": "stdout",
     "output_type": "stream",
     "text": [
      "[[8, 'Ajax', 4, 3, 2, 1], [3, 'Atletico', 6, 4, 2, 1], [12, 'Barca', 5, 4, 0, 1], [10, 'Bayern', 8, 5, 6, 3], [8, 'Benfica', 5, 3, 1, 2], [9, 'City', 7, 5, 4, 2], [3, 'Juve', 5, 1, 0, 4]]\n"
     ]
    }
   ],
   "source": [
    "teams = {'Barca': [12, 5, 4, 0, 1], 'Juve': [3, 5, 1, 0, 4],\n",
    "\t\t\t'Ajax': [8, 4, 3, 2, 1], \n",
    "\t\t\t'Benfica': [8, 5, 3, 1, 2],\n",
    "\t\t\t'Atletico': [3, 6, 4, 2, 1],\n",
    "\t\t\t'City': [9, 7, 5, 4, 2],\n",
    "\t\t\t'Bayern': [10, 8, 5, 6, 3]}\n",
    "\n",
    "x = sorted([[p, name, mp, w, d, l] \n",
    "                for name, (p, mp, w, d, l) in teams.items()], \n",
    "                    key=lambda i: (i[1]))\n",
    "print(x)"
   ]
  },
  {
   "cell_type": "markdown",
   "metadata": {},
   "source": [
    "Suatu variabel berisi string yang didalam nya terdapat angka,\n",
    "variabel tersebut dapat di-integer-kan, setelah itu di-negasi-kan"
   ]
  },
  {
   "cell_type": "code",
   "execution_count": 6,
   "metadata": {},
   "outputs": [
    {
     "name": "stdout",
     "output_type": "stream",
     "text": [
      "-5\n"
     ]
    }
   ],
   "source": [
    "i = '5'\n",
    "print(-int(i))"
   ]
  },
  {
   "cell_type": "code",
   "execution_count": 4,
   "metadata": {},
   "outputs": [
    {
     "name": "stdout",
     "output_type": "stream",
     "text": [
      "[['12', 'Barca', 5, 4, 0, 1], ['10', 'Bayern', 8, 5, 6, 3], ['9', 'City', 7, 5, 4, 2], ['8', 'Ajax', 4, 3, 2, 1], ['8', 'Benfica', 5, 3, 1, 2], ['3', 'Juve', 5, 1, 0, 4], ['3', 'Atletico', 6, 4, 2, 1]]\n"
     ]
    }
   ],
   "source": [
    "teams = {'Barca': ['12', 5, 4, 0, 1], 'Juve': ['3', 5, 1, 0, 4],\n",
    "\t\t\t'Ajax': ['8', 4, 3, 2, 1], \n",
    "\t\t\t'Benfica': ['8', 5, 3, 1, 2],\n",
    "\t\t\t'Atletico': ['3', 6, 4, 2, 1],\n",
    "\t\t\t'City': ['9', 7, 5, 4, 2],\n",
    "\t\t\t'Bayern': ['10', 8, 5, 6, 3]}\n",
    "\n",
    "y = sorted([[p, name, mp, w, d, l] for name, (p, mp, w, d, l) in teams.items()], key=lambda i: (-int(i[0])))\n",
    "print(y)"
   ]
  },
  {
   "cell_type": "markdown",
   "metadata": {},
   "source": [
    "Hari ini mempelajari tentang cara me-reverse (membalikkan)\n",
    "suatu string"
   ]
  },
  {
   "cell_type": "code",
   "execution_count": 2,
   "metadata": {},
   "outputs": [
    {
     "name": "stdout",
     "output_type": "stream",
     "text": [
      "54321\n",
      "98765\n"
     ]
    }
   ],
   "source": [
    "x = \"12345\"\n",
    "i = x[::-1]\n",
    "print(i)\n",
    "\n",
    "# atau bisa juga dengan \n",
    "\n",
    "l = \"56789\"[::-1]\n",
    "print(l)"
   ]
  },
  {
   "cell_type": "markdown",
   "metadata": {},
   "source": [
    "Hari ini mempelajari suatu fungsi zip(),\n",
    "yaitu suatu fungsi yang membuat semacam dictionary (tetapi tidak \n",
    "menggunakan kurung)"
   ]
  },
  {
   "cell_type": "code",
   "execution_count": 3,
   "metadata": {},
   "outputs": [
    {
     "name": "stdout",
     "output_type": "stream",
     "text": [
      "ice cream 9\n",
      "fried chicken 9\n",
      "pork 8\n",
      "burger 9\n",
      " \n",
      "{'ice cream': '9', 'fried chicken': '9', 'pork': '8', 'burger': '9'}\n"
     ]
    }
   ],
   "source": [
    "sentences = [\"ice cream\", \"fried chicken\", \"pork\", \"burger\"]\n",
    "i = \"9989\"\n",
    "for food, rate in zip(sentences, i):\n",
    "    print(food, rate)\n",
    "print(\" \")\n",
    "\n",
    "# Membuat dict langsung dari sebuah list dan string \n",
    "    # dengan menggunakan fungsi zip()\n",
    "a = dict(zip(sentences, i))\n",
    "print(a)\n"
   ]
  },
  {
   "cell_type": "markdown",
   "metadata": {},
   "source": [
    "Hari ini mempelajari cara mengurangi/menghilangkan \n",
    "suatu data/karakter dalam string mulai dari data/karakter terakhir"
   ]
  },
  {
   "cell_type": "code",
   "execution_count": 12,
   "metadata": {},
   "outputs": [
    {
     "name": "stdout",
     "output_type": "stream",
     "text": [
      "1234\n",
      "123\n",
      "12\n",
      "1\n"
     ]
    }
   ],
   "source": [
    "x = \"12345\"[:-1] # berarti mengurangi/menghilangkan 1 data terakhir\n",
    "print(x)\n",
    "\n",
    "y = \"12345\" # berarti mengurangi/menghilangkan 2 data terakhir\n",
    "y = y[:-2]\n",
    "print(y)\n",
    "\n",
    "z = \"12345\"[:-3] # berarti mengurangi/menghilangkan 3 data terakhir\n",
    "print(z)\n",
    "\n",
    "a = \"12345\"[:-4] # berarti mengurangi/menghilangkan 4 data terakhir\n",
    "print(a)"
   ]
  }
 ],
 "metadata": {
  "interpreter": {
   "hash": "693170f424a7f4a017d4f00c44936e53149e34729fff7bf7bbe520821e30c403"
  },
  "kernelspec": {
   "display_name": "Python 3.9.6 ('belajar')",
   "language": "python",
   "name": "python3"
  },
  "language_info": {
   "codemirror_mode": {
    "name": "ipython",
    "version": 3
   },
   "file_extension": ".py",
   "mimetype": "text/x-python",
   "name": "python",
   "nbconvert_exporter": "python",
   "pygments_lexer": "ipython3",
   "version": "3.9.6"
  },
  "orig_nbformat": 4
 },
 "nbformat": 4,
 "nbformat_minor": 2
}
