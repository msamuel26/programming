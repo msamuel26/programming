{
 "cells": [
  {
   "cell_type": "code",
   "execution_count": null,
   "source": [
    "contoh pembuatan fungsi dengan multi operation aritmatika dengan 3 parameter yaitu tambah, kurang, dan pangkat"
   ],
   "outputs": [],
   "metadata": {}
  },
  {
   "cell_type": "code",
   "execution_count": 1,
   "source": [
    "def hitunganku(x, y, z, u):\r\n",
    "    return (x + y - z ** u)\r\n",
    "\r\n",
    "hitunganku(5, 2, 3, 4)\r\n"
   ],
   "outputs": [
    {
     "output_type": "execute_result",
     "data": {
      "text/plain": [
       "-74"
      ]
     },
     "metadata": {},
     "execution_count": 1
    }
   ],
   "metadata": {}
  },
  {
   "cell_type": "markdown",
   "source": [
    "untuk menguji fungsi kita sudah bekerja dengan benar, maka kita akan menggunakan mekanisme assert"
   ],
   "metadata": {}
  },
  {
   "cell_type": "code",
   "execution_count": 3,
   "source": [
    "assert hitunganku (1, 2, 2, 2) == -1"
   ],
   "outputs": [],
   "metadata": {}
  },
  {
   "cell_type": "markdown",
   "source": [
    "kalau kita membuat isi fungsi yang salah atau perkiraan yang salah, maka akan muncul error"
   ],
   "metadata": {}
  },
  {
   "cell_type": "code",
   "execution_count": 4,
   "source": [
    "assert hitunganku(1, 2, 2, 2) == 1"
   ],
   "outputs": [
    {
     "output_type": "error",
     "ename": "AssertionError",
     "evalue": "",
     "traceback": [
      "\u001b[1;31m---------------------------------------------------------------------------\u001b[0m",
      "\u001b[1;31mAssertionError\u001b[0m                            Traceback (most recent call last)",
      "\u001b[1;32m<ipython-input-4-e3a62e27deaa>\u001b[0m in \u001b[0;36m<module>\u001b[1;34m\u001b[0m\n\u001b[1;32m----> 1\u001b[1;33m \u001b[1;32massert\u001b[0m \u001b[0mhitunganku\u001b[0m\u001b[1;33m(\u001b[0m\u001b[1;36m1\u001b[0m\u001b[1;33m,\u001b[0m \u001b[1;36m2\u001b[0m\u001b[1;33m,\u001b[0m \u001b[1;36m2\u001b[0m\u001b[1;33m,\u001b[0m \u001b[1;36m2\u001b[0m\u001b[1;33m)\u001b[0m \u001b[1;33m==\u001b[0m \u001b[1;36m1\u001b[0m\u001b[1;33m\u001b[0m\u001b[1;33m\u001b[0m\u001b[0m\n\u001b[0m",
      "\u001b[1;31mAssertionError\u001b[0m: "
     ]
    }
   ],
   "metadata": {}
  },
  {
   "cell_type": "markdown",
   "source": [
    "membuat fungsi yang isinya fungsi nya lebih dari 1 baris, dalam hal ini, logika yang digunakan adalah if then else. Kemudian memanggil atau mengeksekusi fungsi tersebut di program"
   ],
   "metadata": {}
  },
  {
   "cell_type": "code",
   "execution_count": 2,
   "source": [
    "def nilai_ganjil(value):\r\n",
    "    if value % 2 == 1:\r\n",
    "        return True\r\n",
    "    else:\r\n",
    "        return False\r\n",
    "\r\n",
    "if nilai_ganjil(101):\r\n",
    "    print(\"nilai tersebut adalah ganjil\")\r\n",
    "else:\r\n",
    "    print(\"nilai tersebut adalah genap\")"
   ],
   "outputs": [
    {
     "output_type": "stream",
     "name": "stdout",
     "text": [
      "nilai tersebut adalah ganjil\n"
     ]
    }
   ],
   "metadata": {}
  },
  {
   "cell_type": "markdown",
   "source": [
    "melakukan pengujian terhadap fungsi yang baru saja dibuat"
   ],
   "metadata": {}
  },
  {
   "cell_type": "code",
   "execution_count": 6,
   "source": [
    "assert nilai_ganjil(1) == True"
   ],
   "outputs": [],
   "metadata": {}
  },
  {
   "cell_type": "code",
   "execution_count": 7,
   "source": [
    "assert nilai_ganjil(3) == True"
   ],
   "outputs": [],
   "metadata": {}
  },
  {
   "cell_type": "code",
   "execution_count": 8,
   "source": [
    "assert nilai_ganjil(2) == False"
   ],
   "outputs": [],
   "metadata": {}
  },
  {
   "cell_type": "markdown",
   "source": [
    "contoh file testing.py, melakukan debug (step over dan step into)"
   ],
   "metadata": {}
  },
  {
   "cell_type": "code",
   "execution_count": 3,
   "source": [
    "def nilai_ganjil(value):\r\n",
    "    if value % 2 == 1:\r\n",
    "        return True\r\n",
    "    else:\r\n",
    "        return False\r\n",
    "\r\n",
    "if nilai_ganjil(101):\r\n",
    "    print(\"nilai tersebut adalah ganjil\")\r\n",
    "else:\r\n",
    "    print(\"nilai tersebut adalah genap\")"
   ],
   "outputs": [
    {
     "output_type": "stream",
     "name": "stdout",
     "text": [
      "nilai tersebut adalah ganjil\n"
     ]
    }
   ],
   "metadata": {}
  },
  {
   "cell_type": "markdown",
   "source": [
    "hari ini juga mempelajari tentang operasi matematika modulus yaitu untukk mengetahui sisa pembagian"
   ],
   "metadata": {}
  },
  {
   "cell_type": "markdown",
   "source": [
    "malam ini mempelajari nilai dalam format input (manual) lalu di debug kemudian fungsi yang awal nya 4 baris, sekarang 7 baris"
   ],
   "metadata": {}
  },
  {
   "cell_type": "code",
   "execution_count": 8,
   "source": [
    "def nilai_ganjil(value):\r\n",
    "    hasil_cek = False\r\n",
    "\r\n",
    "    if value % 2 == 1:\r\n",
    "        hasil_cek = True\r\n",
    "    else:\r\n",
    "        hasil_cek = False\r\n",
    "\r\n",
    "    return hasil_cek\r\n",
    "\r\n",
    "nilai = int(input('Nilai berapa yang akan dicek? : '))\r\n",
    "\r\n",
    "if nilai_ganjil(nilai):\r\n",
    "    print(\"nilai tersebut adalah ganjil\")\r\n",
    "else:\r\n",
    "    print(\"nilai tersebut adalah genap\")"
   ],
   "outputs": [
    {
     "output_type": "stream",
     "name": "stdout",
     "text": [
      "nilai tersebut adalah ganjil\n"
     ]
    }
   ],
   "metadata": {}
  }
 ],
 "metadata": {
  "orig_nbformat": 4,
  "language_info": {
   "name": "python",
   "version": "3.8.8",
   "mimetype": "text/x-python",
   "codemirror_mode": {
    "name": "ipython",
    "version": 3
   },
   "pygments_lexer": "ipython3",
   "nbconvert_exporter": "python",
   "file_extension": ".py"
  },
  "kernelspec": {
   "name": "python3",
   "display_name": "Python 3.8.8 64-bit ('base': conda)"
  },
  "interpreter": {
   "hash": "dbb356785411bb90f51a39a98b4eeb0e18a4f0bf1eae5e246faed5d4bd7da4d6"
  }
 },
 "nbformat": 4,
 "nbformat_minor": 2
}