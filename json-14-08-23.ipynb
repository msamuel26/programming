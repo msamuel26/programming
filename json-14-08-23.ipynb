{
 "cells": [
  {
   "cell_type": "markdown",
   "metadata": {},
   "source": [
    "Hari ini mempelajari cara membuat JSON baru dari JSON existing dengan mengambil data/key tertentu yang dibutuhkan"
   ]
  },
  {
   "cell_type": "code",
   "execution_count": 7,
   "metadata": {},
   "outputs": [
    {
     "name": "stdout",
     "output_type": "stream",
     "text": [
      "{\n",
      "  \"ReplicationTaskIdentifier\": \"trial-migrasi-cmsdb-hris\",\n",
      "  \"ReplicationTaskArn\": \"arn:aws:dms:ap-southeast-3:290352014392:task:SBK57SMMOHVNIMGX75AERXR356ATQA7S627VFRY\",\n",
      "  \"SourceEndpointArn\": \"arn:aws:dms:ap-southeast-3:290352014392:endpoint:VZ6U5HU5AQZULWCULR3HNOHGJM4ZUYBMVYNDYNA\",\n",
      "  \"SourceEndpointInfo\": {\n",
      "    \"EndpointIdentifier\": \"s-cmsdb-10-62-6-148\",\n",
      "    \"EndpointType\": \"SOURCE\",\n",
      "    \"EngineName\": \"oracle\",\n",
      "    \"ServerName\": \"10.62.6.148\",\n",
      "    \"Status\": \"active\",\n",
      "    \"OracleSettings\": {\n",
      "      \"ExtraArchivedLogDestIds\": [],\n",
      "      \"DatabaseName\": \"cmsdb\",\n",
      "      \"Port\": 1521,\n",
      "      \"ServerName\": \"10.62.6.148\",\n",
      "      \"Username\": \"replatform\",\n",
      "      \"UseBFile\": true,\n",
      "      \"UseLogminerReader\": false\n",
      "    }\n",
      "  },\n",
      "  \"TargetEndpointArn\": \"arn:aws:dms:ap-southeast-3:290352014392:endpoint:745B42TEQNNWW45FQWLIERGWRRMA7HZCVY72CMY\",\n",
      "  \"TargetEndpointInfo\": {\n",
      "    \"EndpointIdentifier\": \"t-hris-10-62-19-143\",\n",
      "    \"EndpointType\": \"TARGET\",\n",
      "    \"EngineName\": \"postgres\",\n",
      "    \"ServerName\": \"10.62.19.143\",\n",
      "    \"Status\": \"active\",\n",
      "    \"PostgreSQLSettings\": {\n",
      "      \"DatabaseName\": \"hris-cdc\",\n",
      "      \"Port\": 5432,\n",
      "      \"ServerName\": \"10.62.19.143\",\n",
      "      \"Username\": \"postgresdb\"\n",
      "    }\n",
      "  },\n",
      "  \"ReplicationInstanceArn\": \"arn:aws:dms:ap-southeast-3:290352014392:rep:dms-replatform-2\",\n",
      "  \"MigrationType\": \"full-load\",\n",
      "  \"ReplicationTaskSettings\": {\n",
      "    \"TargetMetadata\": {\n",
      "      \"SupportLobs\": true,\n",
      "      \"FullLobMode\": false,\n",
      "      \"LobMaxSize\": 64\n",
      "    },\n",
      "    \"FullLoadSettings\": {\n",
      "      \"TargetTablePrepMode\": \"TRUNCATE_BEFORE_LOAD\"\n",
      "    },\n",
      "    \"Logging\": {\n",
      "      \"EnableLogging\": true\n",
      "    },\n",
      "    \"ValidationSettings\": {\n",
      "      \"EnableValidation\": true,\n",
      "      \"ValidationOnly\": false\n",
      "    }\n",
      "  },\n",
      "  \"Status\": \"stopped\",\n",
      "  \"StopReason\": \"Stop Reason FULL_LOAD_ONLY_FINISHED\"\n",
      "}\n"
     ]
    }
   ],
   "source": [
    "import json\n",
    "\n",
    "# Ini contoh data JSON\n",
    "data = '{\\n  \"ReplicationTaskIdentifier\": \"trial-migrasi-cmsdb-hris\",\\n  \"ReplicationTaskArn\": \"arn:aws:dms:ap-southeast-3:290352014392:task:SBK57SMMOHVNIMGX75AERXR356ATQA7S627VFRY\",\\n  \"SourceEndpointArn\": \"arn:aws:dms:ap-southeast-3:290352014392:endpoint:VZ6U5HU5AQZULWCULR3HNOHGJM4ZUYBMVYNDYNA\",\\n  \"SourceEndpointInfo\": {\\n    \"EndpointIdentifier\": \"s-cmsdb-10-62-6-148\",\\n    \"EndpointType\": \"SOURCE\",\\n    \"EngineName\": \"oracle\",\\n    \"ServerName\": \"10.62.6.148\",\\n    \"Status\": \"active\",\\n    \"OracleSettings\": {\\n      \"ExtraArchivedLogDestIds\": [],\\n      \"DatabaseName\": \"cmsdb\",\\n      \"Port\": 1521,\\n      \"ServerName\": \"10.62.6.148\",\\n      \"Username\": \"replatform\",\\n      \"UseBFile\": true,\\n      \"UseLogminerReader\": false\\n    }\\n  },\\n  \"TargetEndpointArn\": \"arn:aws:dms:ap-southeast-3:290352014392:endpoint:745B42TEQNNWW45FQWLIERGWRRMA7HZCVY72CMY\",\\n  \"TargetEndpointInfo\": {\\n    \"EndpointIdentifier\": \"t-hris-10-62-19-143\",\\n    \"EndpointType\": \"TARGET\",\\n    \"EngineName\": \"postgres\",\\n    \"ServerName\": \"10.62.19.143\",\\n    \"Status\": \"active\",\\n    \"PostgreSQLSettings\": {\\n      \"DatabaseName\": \"hris-cdc\",\\n      \"Port\": 5432,\\n      \"ServerName\": \"10.62.19.143\",\\n      \"Username\": \"postgresdb\"\\n    }\\n  },\\n  \"ReplicationInstanceArn\": \"arn:aws:dms:ap-southeast-3:290352014392:rep:dms-replatform-2\",\\n  \"MigrationType\": \"full-load\",\\n  \"ReplicationTaskSettings\": {\\n    \"TargetMetadata\": {\\n      \"SupportLobs\": true,\\n      \"FullLobMode\": false,\\n      \"LobMaxSize\": 64\\n    },\\n    \"FullLoadSettings\": {\\n      \"TargetTablePrepMode\": \"TRUNCATE_BEFORE_LOAD\"\\n    },\\n    \"Logging\": {\\n      \"EnableLogging\": true\\n    },\\n    \"ValidationSettings\": {\\n      \"EnableValidation\": true,\\n      \"ValidationOnly\": false\\n    }\\n  },\\n  \"Status\": \"stopped\",\\n  \"StopReason\": \"Stop Reason FULL_LOAD_ONLY_FINISHED\"\\n}'\n",
    "\n",
    "d_data = json.loads(data) # bertujuan untuk meng-konversi data string menjadi JSON atau dictionary\n",
    "\n",
    "result = json.dumps(d_data, indent=2, default=str) # bertujuan untuk meng-format JSON dalam text yang mudah dibaca \n",
    "print(result)"
   ]
  },
  {
   "cell_type": "markdown",
   "metadata": {},
   "source": [
    "Buatlah code yang menghasilkan seperti dibawah ini:\n",
    "\n",
    "{\n",
    "  \"ReplicationTaskIdentifier\": \"trial-migrasi-cmsdb-hris\",\n",
    "  \"ReplicationTaskSettings\": {\n",
    "    \"TargetMetadata\": {\n",
    "      \"SupportLobs\": true,\n",
    "      \"FullLobMode\": false,\n",
    "      \"LobMaxSize\": 64\n",
    "    },\n",
    "  },\n",
    "  \"Status\": \"stopped\",\n",
    "  \"StopReason\": \"Stop Reason FULL_LOAD_ONLY_FINISHED\"\n",
    "}"
   ]
  },
  {
   "cell_type": "code",
   "execution_count": 21,
   "metadata": {},
   "outputs": [
    {
     "name": "stdout",
     "output_type": "stream",
     "text": [
      "{\n",
      "  \"ReplicationTaskIdentifier\": \"trial-migrasi-cmsdb-hris\",\n",
      "  \"ReplicationTaskSettings\": {\n",
      "    \"TargetMetadata\": {\n",
      "      \"SupportLobs\": true,\n",
      "      \"FullLobMode\": false,\n",
      "      \"LobMaxSize\": 64\n",
      "    }\n",
      "  },\n",
      "  \"Status\": \"stopped\",\n",
      "  \"StopReason\": \"Stop Reason FULL_LOAD_ONLY_FINISHED\"\n",
      "}\n"
     ]
    }
   ],
   "source": [
    "output = {}\n",
    "\n",
    "output['ReplicationTaskIdentifier'] = d_data['ReplicationTaskIdentifier']\n",
    "output['ReplicationTaskSettings'] = {}\n",
    "output['ReplicationTaskSettings'][\"TargetMetadata\"] = {}\n",
    "output['ReplicationTaskSettings'][\"TargetMetadata\"][\"SupportLobs\"] = d_data['ReplicationTaskSettings'][\"TargetMetadata\"][\"SupportLobs\"]\n",
    "output['ReplicationTaskSettings'][\"TargetMetadata\"][\"FullLobMode\"] = d_data['ReplicationTaskSettings'][\"TargetMetadata\"][\"FullLobMode\"]\n",
    "output['ReplicationTaskSettings'][\"TargetMetadata\"][\"LobMaxSize\"] = d_data['ReplicationTaskSettings'][\"TargetMetadata\"][\"LobMaxSize\"]\n",
    "output['Status'] = d_data[\"Status\"]\n",
    "output['StopReason'] = d_data[\"StopReason\"]\n",
    "\n",
    "output1 = json.dumps(output, indent=2, default=str)\n",
    "print(output1)"
   ]
  }
 ],
 "metadata": {
  "kernelspec": {
   "display_name": "belajar",
   "language": "python",
   "name": "python3"
  },
  "language_info": {
   "codemirror_mode": {
    "name": "ipython",
    "version": 3
   },
   "file_extension": ".py",
   "mimetype": "text/x-python",
   "name": "python",
   "nbconvert_exporter": "python",
   "pygments_lexer": "ipython3",
   "version": "3.9.6"
  },
  "orig_nbformat": 4
 },
 "nbformat": 4,
 "nbformat_minor": 2
}
