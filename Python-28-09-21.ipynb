{
 "cells": [
  {
   "cell_type": "markdown",
   "metadata": {},
   "source": [
    "malam ini belajar tipe data list. List adalah tipe data yang menampung multi atau banyak data dengan tipe data yang beragam (bisa semuanya itu float, bisa semuanya itu int, bisa perpaduan antara float dengan int, dan sebagainya). Untuk mengakses nilai dalam list, gunakan index. Dimana index dimulai dari 0."
   ]
  },
  {
   "cell_type": "code",
   "execution_count": 1,
   "metadata": {},
   "outputs": [
    {
     "data": {
      "text/plain": [
       "'Emprit'"
      ]
     },
     "execution_count": 1,
     "metadata": {},
     "output_type": "execute_result"
    }
   ],
   "source": [
    "b = [23, False, 'Emprit']\n",
    "b[2]"
   ]
  },
  {
   "cell_type": "code",
   "execution_count": 2,
   "metadata": {},
   "outputs": [
    {
     "name": "stdout",
     "output_type": "stream",
     "text": [
      "23\n",
      "False\n",
      "Emprit\n"
     ]
    }
   ],
   "source": [
    "for value in b:\n",
    "    print(value)\n",
    "    "
   ]
  },
  {
   "cell_type": "markdown",
   "metadata": {},
   "source": [
    "mengambil nilai list dari index tertentu. Info: index dimulai dari 0"
   ]
  },
  {
   "cell_type": "code",
   "execution_count": 1,
   "metadata": {},
   "outputs": [
    {
     "name": "stdout",
     "output_type": "stream",
     "text": [
      "True\n",
      "20\n"
     ]
    }
   ],
   "source": [
    "z = [20, 'Cinguri', 29.5, True]\n",
    "print(z[3])\n",
    "print(z[0])"
   ]
  },
  {
   "cell_type": "markdown",
   "metadata": {},
   "source": [
    "untuk mengganti dalam list, bisa dengan melakukan assignment ke index suatu list"
   ]
  },
  {
   "cell_type": "code",
   "execution_count": 3,
   "metadata": {},
   "outputs": [
    {
     "data": {
      "text/plain": [
       "[100, 'Cinguri', 29.5, True]"
      ]
     },
     "execution_count": 3,
     "metadata": {},
     "output_type": "execute_result"
    }
   ],
   "source": [
    "z[0] = 100\n",
    "z"
   ]
  },
  {
   "cell_type": "markdown",
   "metadata": {},
   "source": [
    "proses menambahkan data di list, bisa menggunakan append (data akan ditaruh dalam posisi belakang), atau insert (membutuhkan parameter yang pertama adalah index dimana data akan di insert, parameter ke 2 merupakan data yang akan di insert)"
   ]
  },
  {
   "cell_type": "code",
   "execution_count": 8,
   "metadata": {},
   "outputs": [
    {
     "name": "stdout",
     "output_type": "stream",
     "text": [
      "[100, 'Cinguri', 29.5, True]\n",
      "['Moses', 100, 'Cinguri', 29.5, True]\n"
     ]
    },
    {
     "data": {
      "text/plain": [
       "['Moses', 'Samuel', 100, 'Cinguri', 29.5, True]"
      ]
     },
     "execution_count": 8,
     "metadata": {},
     "output_type": "execute_result"
    }
   ],
   "source": [
    "z = [100, 'Cinguri', 29.5, True]\n",
    "print(z)\n",
    "z.insert(0, 'Moses')\n",
    "print(z)\n",
    "z.insert(1, 'Samuel')\n",
    "z"
   ]
  },
  {
   "cell_type": "markdown",
   "metadata": {},
   "source": [
    "fungsi pop adalah untuk mengambil suatu data dari list, pop ada yang menggunakan parameter dan ada yang tidak menggunakan parameter, yang tidak menggunakan parameter: maka akan diambil data terakhir, yang menggunakan parameter : maka akan diambil data yang diiinginkan"
   ]
  },
  {
   "cell_type": "code",
   "execution_count": 14,
   "metadata": {},
   "outputs": [
    {
     "name": "stdout",
     "output_type": "stream",
     "text": [
      "[100, 'Cinguri', 29.5]\n",
      "[100, 29.5]\n"
     ]
    }
   ],
   "source": [
    "z = [100, 'Cinguri', 29.5, True]\n",
    "z.pop()\n",
    "print(z)\n",
    "z.pop(1)\n",
    "print(z)"
   ]
  },
  {
   "cell_type": "markdown",
   "metadata": {},
   "source": [
    "remove list itu hanya menghapus 1 data yang ada di list, berikut ini, kita buatkan fungsi remove_all dengan parameter pertama adalah list dan parameter ke 2 adalah data yang akan dihapus"
   ]
  },
  {
   "cell_type": "code",
   "execution_count": 1,
   "metadata": {},
   "outputs": [
    {
     "name": "stdout",
     "output_type": "stream",
     "text": [
      "jumlah  4  adalah  4\n",
      "[4, 5, 6, 7, 9, 4, 4]\n",
      "[5, 6, 7, 9, 4, 4]\n",
      "[5, 6, 7, 9, 4]\n",
      "[5, 6, 7, 9]\n"
     ]
    },
    {
     "data": {
      "text/plain": [
       "[5, 6, 7, 9]"
      ]
     },
     "execution_count": 1,
     "metadata": {},
     "output_type": "execute_result"
    }
   ],
   "source": [
    "def remove_all(list, value):\n",
    "    total_data = list.count(value)\n",
    "    print(\"jumlah \", value, \" adalah \", total_data)\n",
    "    while total_data > 0:\n",
    "        list.remove(value)\n",
    "        print(list)\n",
    "        total_data = total_data - 1\n",
    "    return list\n",
    "\n",
    "a = [4, 4, 5, 6, 7, 9, 4, 4]\n",
    "\n",
    "remove_all(a, 4)"
   ]
  },
  {
   "cell_type": "code",
   "execution_count": 21,
   "metadata": {},
   "outputs": [
    {
     "name": "stdout",
     "output_type": "stream",
     "text": [
      "jumlah  2  adalah  3\n",
      "isi list saat ini adalah  [4, 3, 5, 7, 2, 2, 3]\n",
      "total data saat ini adalah 2\n",
      "isi list saat ini adalah  [4, 3, 5, 7, 2, 3]\n",
      "total data saat ini adalah 1\n",
      "isi list saat ini adalah  [4, 3, 5, 7, 3]\n",
      "total data saat ini adalah 0\n"
     ]
    },
    {
     "data": {
      "text/plain": [
       "[4, 3, 5, 7, 3]"
      ]
     },
     "execution_count": 21,
     "metadata": {},
     "output_type": "execute_result"
    }
   ],
   "source": [
    "def remove_all(data, value):\n",
    "    total_data = data.count(value)\n",
    "    print(\"jumlah \", value, \" adalah \", total_data)\n",
    "    while total_data > 0:\n",
    "        data.remove(value)\n",
    "        print(\"isi list saat ini adalah \", data)\n",
    "        total_data = total_data - 1\n",
    "        print('total data saat ini adalah', total_data)\n",
    "    return data\n",
    "\n",
    "# a = [4, 4, 5, 6, 7, 9, 4, 4]\n",
    "\n",
    "# remove_all(a, 4)\n",
    "\n",
    "x = [2, 4, 3, 5, 7, 2, 2, 3]\n",
    "remove_all(x, 2)"
   ]
  },
  {
   "cell_type": "markdown",
   "metadata": {},
   "source": [
    "Hari ini belajar set. Set adalah tipe data yang diawali dan diakhiri dengan kurung kurawal: {} dengan banyak tipe data dan tidak dapat berisi nilai yang duplicate/ganda"
   ]
  },
  {
   "cell_type": "code",
   "execution_count": 2,
   "metadata": {},
   "outputs": [
    {
     "name": "stdout",
     "output_type": "stream",
     "text": [
      "{1, 'a', 3, 4}\n"
     ]
    }
   ],
   "source": [
    "x = {1, 1, 3, 3, \"a\", \"a\", 4}\n",
    "print(x)"
   ]
  },
  {
   "cell_type": "markdown",
   "metadata": {},
   "source": [
    "Hari ini belajar tentang tuple. Tuple adalah tipe data yang dapat diurutkan, tidak dapat diubah, dan diperbolehkan men-duplicate atau men-gandakan suatu nilai dalam tipe data tersebut. Dapat diakses dengan index."
   ]
  },
  {
   "cell_type": "code",
   "execution_count": 5,
   "metadata": {},
   "outputs": [
    {
     "data": {
      "text/plain": [
       "tuple"
      ]
     },
     "execution_count": 5,
     "metadata": {},
     "output_type": "execute_result"
    }
   ],
   "source": [
    "b = (1, 1, 2, \"nilai\", \"value\", 3, 3)\n",
    "type(b)"
   ]
  },
  {
   "cell_type": "code",
   "execution_count": 6,
   "metadata": {},
   "outputs": [
    {
     "data": {
      "text/plain": [
       "'nilai'"
      ]
     },
     "execution_count": 6,
     "metadata": {},
     "output_type": "execute_result"
    }
   ],
   "source": [
    "b = (1, 1, 2, \"nilai\", \"value\", 3, 3)\n",
    "b[3]"
   ]
  },
  {
   "cell_type": "markdown",
   "metadata": {},
   "source": [
    "Isi dari tuple tidak dapat diubah (unchangeable), berikut contoh kode di bawah ini:"
   ]
  },
  {
   "cell_type": "code",
   "execution_count": 7,
   "metadata": {},
   "outputs": [
    {
     "ename": "TypeError",
     "evalue": "'tuple' object does not support item assignment",
     "output_type": "error",
     "traceback": [
      "\u001b[1;31m---------------------------------------------------------------------------\u001b[0m",
      "\u001b[1;31mTypeError\u001b[0m                                 Traceback (most recent call last)",
      "\u001b[1;32m<ipython-input-7-4f0647681086>\u001b[0m in \u001b[0;36m<module>\u001b[1;34m\u001b[0m\n\u001b[0;32m      1\u001b[0m \u001b[0mb\u001b[0m \u001b[1;33m=\u001b[0m \u001b[1;33m(\u001b[0m\u001b[1;36m1\u001b[0m\u001b[1;33m,\u001b[0m \u001b[1;36m1\u001b[0m\u001b[1;33m,\u001b[0m \u001b[1;36m2\u001b[0m\u001b[1;33m,\u001b[0m \u001b[1;34m\"nilai\"\u001b[0m\u001b[1;33m,\u001b[0m \u001b[1;34m\"value\"\u001b[0m\u001b[1;33m,\u001b[0m \u001b[1;36m3\u001b[0m\u001b[1;33m,\u001b[0m \u001b[1;36m3\u001b[0m\u001b[1;33m)\u001b[0m\u001b[1;33m\u001b[0m\u001b[1;33m\u001b[0m\u001b[0m\n\u001b[1;32m----> 2\u001b[1;33m \u001b[0mb\u001b[0m\u001b[1;33m[\u001b[0m\u001b[1;36m3\u001b[0m\u001b[1;33m]\u001b[0m \u001b[1;33m=\u001b[0m \u001b[1;34m\"Cengir\"\u001b[0m\u001b[1;33m\u001b[0m\u001b[1;33m\u001b[0m\u001b[0m\n\u001b[0m",
      "\u001b[1;31mTypeError\u001b[0m: 'tuple' object does not support item assignment"
     ]
    }
   ],
   "source": [
    "b = (1, 1, 2, \"nilai\", \"value\", 3, 3)\n",
    "b[3] = \"Cengir\""
   ]
  },
  {
   "cell_type": "markdown",
   "metadata": {},
   "source": [
    "Hari ini belajar membuat kode dari perintah \"Loop through and print out all even numbers from the numbers list in the same order they are received. Don't print any numbers that come after 237 in the sequence\" = \"Ulangi dan cetak semua nomor genap dari daftar nomor dengan urutan yang sama saat diterima. Jangan mencetak angka yang muncul setelah 237 secara berurutan\". Berikut kode di bawah ini:"
   ]
  },
  {
   "cell_type": "code",
   "execution_count": 5,
   "metadata": {},
   "outputs": [
    {
     "name": "stdout",
     "output_type": "stream",
     "text": [
      "402\n",
      "984\n",
      "360\n",
      "408\n",
      "980\n",
      "544\n",
      "390\n",
      "984\n",
      "592\n",
      "236\n",
      "942\n",
      "386\n",
      "462\n",
      "418\n",
      "344\n",
      "236\n",
      "566\n",
      "978\n",
      "328\n",
      "162\n",
      "758\n",
      "918\n"
     ]
    }
   ],
   "source": [
    "numbers = [\n",
    "    951, 402, 984, 651, 360, 69, 408, 319, 601, 485, 980, 507, 725, 547, 544,\n",
    "    615, 83, 165, 141, 501, 263, 617, 865, 575, 219, 390, 984, 592, 236, 105, 942, 941,\n",
    "    386, 462, 47, 418, 907, 344, 236, 375, 823, 566, 597, 978, 328, 615, 953, 345,\n",
    "    399, 162, 758, 219, 918, 237, 412, 566, 826, 248, 866, 950, 626, 949, 687, 217,\n",
    "    815, 67, 104, 58, 512, 24, 892, 894, 767, 553, 81, 379, 843, 831, 445, 742, 717,\n",
    "    958, 609, 842, 451, 688, 753, 854, 685, 93, 857, 440, 380, 126, 721, 328, 753, 470,\n",
    "    743, 527\n",
    "]\n",
    "\n",
    "def even_number(value):\n",
    "    output = False\n",
    "    if value % 2 == 0:\n",
    "        output = True\n",
    "    return output\n",
    "\n",
    "for value in numbers:\n",
    "    if value == 237:\n",
    "        break\n",
    "    else:\n",
    "        if even_number(value):\n",
    "            print(value)"
   ]
  },
  {
   "cell_type": "markdown",
   "metadata": {},
   "source": [
    "Hari ini belajar tipe data \"dictionary\". Dictionary adalah tipe data yang bisa menampung data dalam format multi key dan value. Dictionary menggunakan kurung kurawal."
   ]
  },
  {
   "cell_type": "code",
   "execution_count": 20,
   "metadata": {},
   "outputs": [
    {
     "name": "stdout",
     "output_type": "stream",
     "text": [
      "Kunci:  1 ; Nilai:  Afiya\n",
      "Kunci:  2 ; Nilai:  Fadlan\n",
      "Kunci:  3 ; Nilai:  Ara\n",
      "Kunci:  4 ; Nilai:  Emprit\n",
      "Kunci:  21 ; Nilai:  McPout\n"
     ]
    },
    {
     "data": {
      "text/plain": [
       "dict"
      ]
     },
     "execution_count": 20,
     "metadata": {},
     "output_type": "execute_result"
    }
   ],
   "source": [
    "x = { 1 : \"Afiya\", 2 : \"Fadlan\", 3 : \"Ara\", 4 : \"Emprit\", 21 : \"McPout\" }\n",
    "for key in x:\n",
    "    print(\"Kunci: \", key, \"; Nilai: \", x[key])\n",
    "type(x)"
   ]
  },
  {
   "cell_type": "markdown",
   "metadata": {},
   "source": [
    "Key dan value bisa berupa tipe data apapun. Berikut contohnya:"
   ]
  },
  {
   "cell_type": "code",
   "execution_count": 11,
   "metadata": {},
   "outputs": [
    {
     "name": "stdout",
     "output_type": "stream",
     "text": [
      "{'a': 100, 1: 'satu satu', 8.9: 'Testing'}\n",
      "100\n",
      "satu satu\n",
      "Testing\n",
      "Kunci:  a ; Nilai:  100\n",
      "Kunci:  1 ; Nilai:  satu satu\n",
      "Kunci:  8.9 ; Nilai:  Testing\n"
     ]
    }
   ],
   "source": [
    "b = { \"a\" : 100, 1 : \"satu satu\", 8.9 : \"Testing\" }\n",
    "print(b)\n",
    "print(b[\"a\"])\n",
    "print(b[1])\n",
    "print(b[8.9])\n",
    "\n",
    "for key in b:\n",
    "    print(\"Kunci: \", key, \"; Nilai: \", b[key])"
   ]
  },
  {
   "cell_type": "markdown",
   "metadata": {},
   "source": [
    "Untuk mengetahui suatu nilai dalam list/set/tuple, gunakan fungsi index. Berikut contohnya:"
   ]
  },
  {
   "cell_type": "code",
   "execution_count": 5,
   "metadata": {},
   "outputs": [
    {
     "name": "stdout",
     "output_type": "stream",
     "text": [
      "0\n",
      "4\n",
      "1\n"
     ]
    }
   ],
   "source": [
    "b = [\"Angka\", 2, \"McPout\", 8.9, \"gunung\"]\n",
    "print(b.index(\"Angka\"))\n",
    "print(b.index(\"gunung\"))\n",
    "print(b.index(2))"
   ]
  },
  {
   "cell_type": "markdown",
   "metadata": {},
   "source": [
    "Dictionary tidak diperkenankan key yang ganda atau duplicate. Jika kita medefinisikan key yang sama, maka value yang diambil adalah value yang terakhir.  "
   ]
  },
  {
   "cell_type": "code",
   "execution_count": 22,
   "metadata": {},
   "outputs": [
    {
     "data": {
      "text/plain": [
       "{'a': 8, 'e': 'Empriti', 'c': 2, 'd': 7.5}"
      ]
     },
     "execution_count": 22,
     "metadata": {},
     "output_type": "execute_result"
    }
   ],
   "source": [
    "x = {\"a\" : 8, \"e\" : 4, \"c\" : 2, \"d\" : 7.5, \"e\" : \"Empriti\"}\n",
    "x"
   ]
  },
  {
   "cell_type": "markdown",
   "metadata": {},
   "source": [
    "Membuat dictionary kosongan dan menambahkan key dan value dalam dictionary tersebut. Berikut contoh dibawah:"
   ]
  },
  {
   "cell_type": "code",
   "execution_count": 25,
   "metadata": {},
   "outputs": [
    {
     "name": "stdout",
     "output_type": "stream",
     "text": [
      "{1: 'Belajar Python'}\n",
      "{1: 'Belajar Python', 2: 'Setip bobok'}\n",
      "{1: 'Belajar Python', 2: 'Setipi'}\n"
     ]
    }
   ],
   "source": [
    "res = {}\n",
    "res[1] = \"Belajar Python\"\n",
    "print(res)\n",
    "res[2] = \"Setip bobok\"\n",
    "print(res)\n",
    "res[2] = \"Setipi\"\n",
    "print(res)"
   ]
  },
  {
   "cell_type": "markdown",
   "metadata": {},
   "source": [
    "Operator // artinya adalah floor division. Floor division artinya nilai terkecil terdekat dari suatu pembagian"
   ]
  },
  {
   "cell_type": "code",
   "execution_count": 5,
   "metadata": {},
   "outputs": [
    {
     "name": "stdout",
     "output_type": "stream",
     "text": [
      "25.0\n",
      "25.0\n",
      "25.0\n",
      "25\n"
     ]
    }
   ],
   "source": [
    "print(127.5 // 5)   \n",
    "print(127.9 // 5)\n",
    "print(127.1 // 5)\n",
    "print(127 // 5)"
   ]
  },
  {
   "cell_type": "markdown",
   "metadata": {},
   "source": [
    "Instructions\n",
    "Your friend Chandler plans to visit exotic countries all around the world. Sadly, Chandler's math skills aren't good. He's pretty worried about being scammed by currency exchanges during his trip - and he wants you to make a currency calculator for him. Here are his specifications for the app:\n",
    "\n",
    "1. Estimate value after exchange\n",
    "Create the exchange_money() function, taking 2 parameters:\n",
    "\n",
    "budget : The amount of money you are planning to exchange.\n",
    "exchange_rate : Unit value of the foreign currency.\n",
    "This function should return the value of the exchanged currency.\n",
    "\n",
    "Note: If your currency is USD and you want to exchange USD for EUR with an exchange rate of 1.20, then 1.20 USD == 1 EUR.\n",
    "\n",
    ">>> exchange_money(127.5, 1.2)\n",
    "106.25\n",
    "2. Calculate currency left after an exchange\n",
    "Create the get_change() function, taking 2 parameters:\n",
    "\n",
    "budget : Amount of money before exchange.\n",
    "exchanging_value : Amount of money that is taken from the budget to be exchanged.\n",
    "This function should return the amount of money that is left from the budget.\n",
    "\n",
    ">>> get_change(127.5, 120)\n",
    "7.5\n",
    "3. Calculate value of bills\n",
    "Create the get_value_of_bills() function, taking 2 parameters:\n",
    "\n",
    "denomination : The value of a single bill.\n",
    "number_of_bills : Amount of bills you received.\n",
    "This function should return the total value of the given bills.\n",
    "\n",
    ">>> get_value_of_bills(5, 128)\n",
    "640\n",
    "4. Calculate number of bills\n",
    "Create the get_number_of_bills() function, taking budget and denomination.\n",
    "\n",
    "This function should return the number of bills that you can get using the budget. **Note: ** You can only receive whole bills, not fractions of bills, so remember to divide accordingly.\n",
    "\n",
    ">>> get_number_of_bills(127.5, 5)\n",
    "25\n",
    "5. Calculate value after exchange\n",
    "Create the exchangeable_value() function, taking budget, exchange_rate, spread, and denomination.\n",
    "\n",
    "Parameter spread is the percentage taken as an exchange fee. If 1.00 EUR == 1.20 USD and the spread is 10, the actual exchange will be: 1.00 EUR == 1.32 USD.\n",
    "\n",
    "This function should return the maximum value of the new currency after calculating the exchange rate plus the spread. Remember that the currency denomination is a whole number, and cannot be sub-divided.\n",
    "\n",
    "Note: Returned value should be int type.\n",
    "\n",
    ">>> exchangeable_value(127.25, 1.20, 10, 20)\n",
    "80\n",
    ">>> exchangeable_value(127.25, 1.20, 10, 5)\n",
    "95\n",
    "6. Calculate non-exchangeable value\n",
    "Create the non_exchangeable_value() function, taking budget, exchange_rate, spread, and denomination.\n",
    "\n",
    "This function should return the value that is not exchangeable due to the denomination of the bills.\n",
    "\n",
    "Note: Returned value should be int type.\n",
    "\n",
    ">>> non_exchangeable_value(127.25, 1.20, 10, 20)\n",
    "16\n",
    ">>> non_exchangeable_value(127.25, 1.20, 10, 5)\n",
    "1"
   ]
  },
  {
   "cell_type": "code",
   "execution_count": null,
   "metadata": {},
   "outputs": [],
   "source": [
    "def exchange_money(budget, exchange_rate):\n",
    "    \"\"\"\n",
    "\n",
    "    :param budget: float - amount of money you are planning to exchange.\n",
    "    :param exchange_rate: float - unit value of the foreign currency.\n",
    "    :return: float - exchanged value of the foreign currency you can receive.\n",
    "    \"\"\"\n",
    "\n",
    "    return budget / exchange_rate\n",
    "\n",
    "\n",
    "def get_change(budget, exchanging_value):\n",
    "    \"\"\"\n",
    "\n",
    "    :param budget: float - amount of money you own.\n",
    "    :param exchanging_value: int - amount of your money you want to exchange now.\n",
    "    :return: float - amount left of your starting currency after exchanging.\n",
    "    \"\"\"\n",
    "\n",
    "    return budget - exchanging_value\n",
    "\n",
    "\n",
    "def get_value_of_bills(denomination, number_of_bills):\n",
    "    \"\"\"\n",
    "\n",
    "    :param denomination: int - the value of a bill.\n",
    "    :param number_of_bills: int - amount of bills you received.\n",
    "    :return: int - total value of bills you now have.\n",
    "    \"\"\"\n",
    "\n",
    "    return denomination * number_of_bills\n",
    "\n",
    "\n",
    "def get_number_of_bills(budget, denomination):\n",
    "    \"\"\"\n",
    "\n",
    "    :param budget: float - the amount of money you are planning to exchange.\n",
    "    :param denomination: int - the value of a single bill.\n",
    "    :return: int - number of bills after exchanging all your money.\n",
    "    \"\"\"\n",
    "\n",
    "    return budget // denomination\n",
    "\n",
    "\n",
    "def exchangeable_value(budget, exchange_rate, spread, denomination):\n",
    "    \"\"\"\n",
    "\n",
    "    :param budget: float - the amount of your money you are planning to exchange.\n",
    "    :param exchange_rate: float - the unit value of the foreign currency.\n",
    "    :param spread: int - percentage that is taken as an exchange fee.\n",
    "    :param denomination: int - the value of a single bill.\n",
    "    :return: int - maximum value you can get.\n",
    "    \"\"\"\n",
    "\n",
    "    return ((budget/(exchange_rate+exchange_rate*spread/100))//denomination)*denomination\n",
    "\n",
    "def non_exchangeable_value(budget, exchange_rate, spread, denomination):\n",
    "    \"\"\"\n",
    "\n",
    "    :param budget: float - the amount of your money you are planning to exchange.\n",
    "    :param exchange_rate: float - the unit value of the foreign currency.\n",
    "    :param spread: int - percentage that is taken as an exchange fee.\n",
    "    :param denomination: int - the value of a single bill.\n",
    "    :return: int non-exchangeable value.\n",
    "    \"\"\"\n",
    "\n",
    "    return int((budget/(exchange_rate+exchange_rate*spread/100))%denomination) "
   ]
  },
  {
   "cell_type": "markdown",
   "metadata": {},
   "source": [
    "Berikut ini adalah test atas soal exchange"
   ]
  },
  {
   "cell_type": "code",
   "execution_count": null,
   "metadata": {},
   "outputs": [],
   "source": [
    "import unittest\n",
    "import pytest\n",
    "from exchange import (\n",
    "    exchange_money,\n",
    "    get_change,\n",
    "    get_value_of_bills,\n",
    "    get_number_of_bills,\n",
    "    exchangeable_value,\n",
    "    non_exchangeable_value\n",
    ")\n",
    "\n",
    "\n",
    "class CurrencyExchangeTest(unittest.TestCase):\n",
    "\n",
    "    @pytest.mark.task(taskno=1)\n",
    "    def test_exchange_money(self):\n",
    "        input_data = [(100000, 0.84), (700000, 10.1)]\n",
    "        output_data = [119047, 69306]\n",
    "        number_of_variants = range(1, len(input_data) + 1)\n",
    "\n",
    "        for variant, input, output in zip(number_of_variants, input_data, output_data):\n",
    "            with self.subTest(f\"variation #{variant}\", input=input, output=output):\n",
    "                self.assertEqual(int(exchange_money(input[0], input[1])), output)\n",
    "\n",
    "    @pytest.mark.task(taskno=2)\n",
    "    def test_get_change(self):\n",
    "        input_data = [(463000, 5000), (1250, 120), (15000, 1380)]\n",
    "        output_data = [458000, 1130, 13620]\n",
    "        number_of_variants = range(1, len(input_data) + 1)\n",
    "\n",
    "        for variant, input, output in zip(number_of_variants, input_data, output_data):\n",
    "            with self.subTest(f\"variation #{variant}\", input=input, output=output):\n",
    "                self.assertEqual(get_change(input[0], input[1]), output)\n",
    "\n",
    "    @pytest.mark.task(taskno=3)\n",
    "    def test_get_value_of_bills(self):\n",
    "        input_data = [(10000, 128), (50, 360), (200, 200)]\n",
    "        output_data = [1280000, 18000, 40000]\n",
    "        number_of_variants = range(1, len(input_data) + 1)\n",
    "\n",
    "        for variant, input, output in zip(number_of_variants, input_data, output_data):\n",
    "            with self.subTest(f\"variation #{variant}\", input=input, output=output):\n",
    "                self.assertEqual(get_value_of_bills(input[0], input[1]), output)\n",
    "\n",
    "    @pytest.mark.task(taskno=4)\n",
    "    def test_get_number_of_bills(self):\n",
    "        input_data = [(163270, 50000), (54361, 1000)]\n",
    "        output_data = [3, 54]\n",
    "        number_of_variants = range(1, len(input_data) + 1)\n",
    "\n",
    "        for variant, input, output in zip(number_of_variants, input_data, output_data):\n",
    "            with self.subTest(f\"variation #{variant}\", input=input, output=output):\n",
    "                self.assertEqual(get_number_of_bills(input[0], input[1]), output)\n",
    "\n",
    "    @pytest.mark.task(taskno=5)\n",
    "    def test_exchangeable_value(self):\n",
    "        input_data = [\n",
    "            (100000, 10.61, 10, 1),\n",
    "            (1500, 0.84, 25, 40),\n",
    "            (470000, 1050, 30, 10000000000),\n",
    "            (470000, 0.00000009, 30, 700),\n",
    "            (425.33, 0.0009, 30, 700)\n",
    "        ]\n",
    "        output_data = [8568, 1400, 0, 4017094016600, 363300]\n",
    "        number_of_variants = range(1, len(input_data) + 1)\n",
    "\n",
    "        for variant, input, output in zip(number_of_variants, input_data, output_data):\n",
    "            with self.subTest(f\"variation #{variant}\", input=input, output=output):\n",
    "                self.assertEqual(exchangeable_value(input[0], input[1], input[2], input[3]), output)\n",
    "\n",
    "    @pytest.mark.task(taskno=6)\n",
    "    def test_non_exchangeable_value(self):\n",
    "        input_data = [\n",
    "            (100000, 10.61, 10, 1),\n",
    "            (1500, 0.84, 25, 40),\n",
    "            (425.33, 0.0009, 30, 700),\n",
    "            (12000, 0.0096, 10, 50)\n",
    "        ]\n",
    "        output_data = [0, 28, 229, 13]\n",
    "        number_of_variants = range(1, len(input_data) + 1)\n",
    "\n",
    "        for variant, input, output in zip(number_of_variants, input_data, output_data):\n",
    "            with self.subTest(f\"variation #{variant}\", input=input, output=output):\n",
    "                self.assertEqual(non_exchangeable_value(input[0], input[1], input[2],\n",
    "                                                      input[3]), output)\n"
   ]
  },
  {
   "cell_type": "markdown",
   "metadata": {},
   "source": [
    "Mempelajari pembuatan parameter dengan atau tanpa default value, kalau kita memanggil nama fungsi dan nama parameter,\n",
    "maka tidak perlu berurutan"
   ]
  },
  {
   "cell_type": "markdown",
   "metadata": {},
   "source": [
    "Contoh dengan 1 parameter:"
   ]
  },
  {
   "cell_type": "code",
   "execution_count": 2,
   "metadata": {},
   "outputs": [
    {
     "name": "stdout",
     "output_type": "stream",
     "text": [
      "halo Ucrit\n",
      "halo ucrit\n",
      "halo cimot\n"
     ]
    }
   ],
   "source": [
    "def two_fer(name=\"cimot\"):\n",
    "    print(\"halo %s\"% name)\n",
    "\n",
    "two_fer(name=\"Ucrit\")\n",
    "two_fer(\"ucrit\")\n",
    "two_fer()"
   ]
  },
  {
   "cell_type": "markdown",
   "metadata": {},
   "source": [
    "Contoh dengan 3 parameter:"
   ]
  },
  {
   "cell_type": "code",
   "execution_count": 1,
   "metadata": {},
   "outputs": [
    {
     "name": "stdout",
     "output_type": "stream",
     "text": [
      "Param satu moses, param dua cingur, param tiga setip\n",
      "Param satu moses, param dua cingur, param tiga setip\n",
      "Param satu moses, param dua cingur, param tiga setip\n",
      "Param satu moses, param dua halo, param tiga hula\n"
     ]
    }
   ],
   "source": [
    "def nama_fungsi(param1, param2=\"halo\", param3=\"hula\"):\n",
    "    print(\"Param satu %s, param dua %s, param tiga %s\" % \n",
    "        (param1, param2, param3))\n",
    "\n",
    "nama_fungsi(\"moses\", \"cingur\", \"setip\")\n",
    "nama_fungsi(param1=\"moses\", param2=\"cingur\", param3=\"setip\")\n",
    "nama_fungsi(param3=\"setip\", param1=\"moses\", param2=\"cingur\")\n",
    "\n",
    "nama_fungsi(param1=\"moses\")"
   ]
  },
  {
   "cell_type": "markdown",
   "metadata": {},
   "source": [
    "Hari ini belajar menggunakan standard library datetime.py, untuk menggunakan library tersebut, kita lakukan dengan cara import datetime. Salah satu fungsi yang akan kita gunakan adalah timedelta "
   ]
  },
  {
   "cell_type": "markdown",
   "metadata": {},
   "source": [
    "A timedelta object represents a duration, the difference between two dates or times.\n",
    "\n",
    "class datetime.timedelta(days=0, seconds=0, microseconds=0, milliseconds=0, minutes=0, hours=0, weeks=0)"
   ]
  },
  {
   "cell_type": "markdown",
   "metadata": {},
   "source": [
    "class datetime.datetime(year, month, day, hour=0, minute=0, second=0, microsecond=0, tzinfo=None, *, fold=0)"
   ]
  },
  {
   "cell_type": "code",
   "execution_count": 1,
   "metadata": {},
   "outputs": [
    {
     "name": "stdout",
     "output_type": "stream",
     "text": [
      "2010-01-01 00:00:25\n"
     ]
    }
   ],
   "source": [
    "import datetime\n",
    "\n",
    "a_datetime = datetime.datetime(2010, 1, 1)\n",
    "\n",
    "added_seconds = datetime.timedelta(0, 25)\n",
    "\n",
    "new_datetime = a_datetime + added_seconds\n",
    "\n",
    "print(new_datetime)"
   ]
  },
  {
   "cell_type": "code",
   "execution_count": 7,
   "metadata": {},
   "outputs": [],
   "source": [
    "import datetime\n",
    "\n",
    "def add(moment):\n",
    "\n",
    "    return moment + datetime.timedelta(seconds = 1000000000)\n",
    "\n",
    "assert add(datetime.datetime(2011, 4, 25, 0, 0)) ==  datetime.datetime(2043, 1, 1, 1, 46, 40)"
   ]
  },
  {
   "cell_type": "markdown",
   "metadata": {},
   "source": [
    "Fungsi untuk menghilangkan akhiran \"ness\""
   ]
  },
  {
   "cell_type": "code",
   "execution_count": 2,
   "metadata": {},
   "outputs": [
    {
     "name": "stdout",
     "output_type": "stream",
     "text": [
      "heavy\n"
     ]
    }
   ],
   "source": [
    "\n",
    "def remove_suffix_ness(word):\n",
    "    \"\"\"\n",
    "\n",
    "    :param word: str of word to remove suffix from.\n",
    "    :return: str of word with suffix removed & spelling adjusted.\n",
    "\n",
    "    This function takes in a word and returns the base word with `ness` removed.\n",
    "    \"\"\"\n",
    "\n",
    "    list = word.rsplit(\"ness\")\n",
    "    output = list[0]\n",
    "\n",
    "    #output = word.rsplit(\"ness\")[0]\n",
    "    if output.endswith(\"i\"):\n",
    "        output = output.removesuffix(\"i\")\n",
    "        # output = output + \"y\"\n",
    "        output += \"y\"\n",
    "\n",
    "    return output\n",
    "\n",
    "print(remove_suffix_ness(\"heaviness\"))"
   ]
  },
  {
   "cell_type": "markdown",
   "metadata": {},
   "source": [
    "Fungsi untuk melakukan penambahan di string"
   ]
  },
  {
   "cell_type": "code",
   "execution_count": 1,
   "metadata": {},
   "outputs": [
    {
     "name": "stdout",
     "output_type": "stream",
     "text": [
      "en :: enclose :: enjoy :: enlighten\n",
      "\n",
      "pre :: preserve :: predispose :: preposition\n",
      "\n",
      "auto :: autodidactic :: autograph :: automate\n",
      "\n",
      "inter :: intertwine :: interconnected :: interdependent\n"
     ]
    }
   ],
   "source": [
    "def make_word_groups(vocab_words):\n",
    "    \"\"\"\n",
    "\n",
    "    :param vocab_words: list of vocabulary words with a prefix.\n",
    "    :return: str of prefix followed by vocabulary words with\n",
    "             prefix applied, separated by ' :: '.\n",
    "\n",
    "    This function takes a `vocab_words` list and returns a string\n",
    "    with the prefix  and the words with prefix applied, separated\n",
    "     by ' :: '.\n",
    "    \"\"\"\n",
    "\n",
    "    output_string = \"\"\n",
    "    special_space = \" :: \"\n",
    "\n",
    "    for index, data in enumerate(vocab_words):\n",
    "        if index == 0:\n",
    "            output_string = data\n",
    "        else:\n",
    "            if (len(vocab_words) - 1 != index) or (len(vocab_words) - 1 == index):\n",
    "                output_string = output_string + special_space\n",
    "            output_string = output_string + vocab_words[0] + data \n",
    "\n",
    "    return output_string\n",
    "\n",
    "print(make_word_groups(['en', 'close', 'joy', 'lighten']))\n",
    "print('')\n",
    "print(make_word_groups(['pre', 'serve', 'dispose', 'position']))\n",
    "print('')\n",
    "print(make_word_groups(['auto', 'didactic', 'graph', 'mate']))\n",
    "print('')\n",
    "print(make_word_groups(['inter', 'twine', 'connected', 'dependent']))"
   ]
  },
  {
   "cell_type": "markdown",
   "metadata": {},
   "source": [
    "Ketika ingin mengecek data terakhir dalam suatu list, maka menggunakan index ke -1"
   ]
  },
  {
   "cell_type": "code",
   "execution_count": 10,
   "metadata": {},
   "outputs": [
    {
     "name": "stdout",
     "output_type": "stream",
     "text": [
      "['Hari', 'ini', 'Setip', 'bobok', 'terus']\n",
      "terus\n"
     ]
    }
   ],
   "source": [
    "a_list = (\"Hari ini Setip bobok terus\")\n",
    "output = a_list.rsplit(\" \")\n",
    "print(output)\n",
    "output = output[-1]\n",
    "print(output)"
   ]
  },
  {
   "cell_type": "markdown",
   "metadata": {},
   "source": [
    "Fungsi untuk mengubah noun ke verb"
   ]
  },
  {
   "cell_type": "code",
   "execution_count": 1,
   "metadata": {},
   "outputs": [
    {
     "name": "stdout",
     "output_type": "stream",
     "text": [
      "brighten\n",
      "darken\n"
     ]
    }
   ],
   "source": [
    "def noun_to_verb(sentence, index):\n",
    "    \"\"\"\n",
    "\n",
    "    :param sentence: str that uses the word in sentence\n",
    "    :param index:  index of the word to remove and transform\n",
    "    :return:  str word that changes the extracted adjective to a verb.\n",
    "\n",
    "    A function takes a `sentence` using the\n",
    "    vocabulary word, and the `index` of the word once that sentence\n",
    "    is split apart.  The function should return the extracted\n",
    "    adjective as a verb.\n",
    "    \"\"\"\n",
    "\n",
    "    output = sentence.removesuffix(\".\")\n",
    "    output = output.rsplit(\" \")\n",
    "    output = output[index]\n",
    "    output = output + \"en\"\n",
    "    return output \n",
    "\n",
    "print(noun_to_verb(\"I need to make that bright\", -1))\n",
    "print(noun_to_verb('It got dark as the sun set.', 2))"
   ]
  },
  {
   "cell_type": "markdown",
   "metadata": {},
   "source": [
    "Perbedaan fungsi while dan if yaitu:\n",
    "\n",
    "While digunakan untuk memroses semua data sesuai keinginan sampai kriteria di while tidak dipenuhi\n",
    "If digunakan untuk memroses hanya 1 data"
   ]
  },
  {
   "cell_type": "markdown",
   "metadata": {},
   "source": [
    "Contoh while"
   ]
  },
  {
   "cell_type": "code",
   "execution_count": 1,
   "metadata": {},
   "outputs": [
    {
     "name": "stdout",
     "output_type": "stream",
     "text": [
      "I like to go on hikes with my dog.\n"
     ]
    }
   ],
   "source": [
    "def clean_up_spacing(sentence):\n",
    "    \"\"\"\n",
    "\n",
    "    :param sentence: str a sentence to clean of leading and trailing space characters.\n",
    "    :return: str a sentence that has been cleaned of leading and trailing space characters.\n",
    "    \"\"\"\n",
    "\n",
    "    while sentence.startswith(\" \"):\n",
    "        sentence = sentence.removeprefix(\" \")\n",
    "    \n",
    "    while sentence.endswith(\" \"):\n",
    "        sentence = sentence.removesuffix(\" \")\n",
    "    return sentence\n",
    "\n",
    "print(clean_up_spacing(\" I like to go on hikes with my dog.  \"))"
   ]
  },
  {
   "cell_type": "markdown",
   "metadata": {},
   "source": [
    "Contoh if"
   ]
  },
  {
   "cell_type": "code",
   "execution_count": 7,
   "metadata": {},
   "outputs": [
    {
     "name": "stdout",
     "output_type": "stream",
     "text": [
      "  I like to go on hikes with my dog. \n"
     ]
    }
   ],
   "source": [
    "def clean_up_spacing(sentence):\n",
    "    \"\"\"\n",
    "\n",
    "    :param sentence: str a sentence to clean of leading and trailing space characters.\n",
    "    :return: str a sentence that has been cleaned of leading and trailing space characters.\n",
    "    \"\"\"\n",
    "\n",
    "    if sentence.startswith(\" \"):\n",
    "        sentence = sentence.removeprefix(\" \")\n",
    "    \n",
    "    if sentence.endswith(\" \"):\n",
    "        sentence = sentence.removesuffix(\" \")\n",
    "    return sentence\n",
    "\n",
    "print(clean_up_spacing(\"   I like to go on hikes with my dog.  \"))"
   ]
  },
  {
   "cell_type": "markdown",
   "metadata": {},
   "source": [
    "Fungsi untuk memperbesar awal huruf di setiap kata"
   ]
  },
  {
   "cell_type": "code",
   "execution_count": 8,
   "metadata": {},
   "outputs": [
    {
     "name": "stdout",
     "output_type": "stream",
     "text": [
      "My Hobbies\n"
     ]
    }
   ],
   "source": [
    "def capitalize_title(title):\n",
    "    \"\"\"\n",
    "\n",
    "    :param title: str title string that needs title casing\n",
    "    :return:  str title string in title case (first letters capitalized)\n",
    "    \"\"\"\n",
    "\n",
    "    output = \"\"\n",
    "    process = title.rsplit(\" \")\n",
    "    for data in process:\n",
    "        output = output + data.capitalize() + \" \"\n",
    "    output = output.removesuffix(\" \")\n",
    "    return output\n",
    "\n",
    "print(capitalize_title(\"my hobbies\"))"
   ]
  },
  {
   "cell_type": "markdown",
   "metadata": {},
   "source": [
    "Fungsi untuk mengecek apakah di akhir kalimat diakhiri dengan tanda titik"
   ]
  },
  {
   "cell_type": "code",
   "execution_count": 9,
   "metadata": {},
   "outputs": [
    {
     "name": "stdout",
     "output_type": "stream",
     "text": [
      "True\n"
     ]
    }
   ],
   "source": [
    "def check_sentence_ending(sentence):\n",
    "    \"\"\"\n",
    "\n",
    "    :param sentence: str a sentence to check.\n",
    "    :return:  bool True if punctuated correctly with period, False otherwise.\n",
    "    \"\"\"\n",
    "\n",
    "    if sentence.endswith(\".\"):\n",
    "        output = True\n",
    "    else:\n",
    "        output = False\n",
    "    return output\n",
    "\n",
    "print(check_sentence_ending(\"I like to hike, bake, and read.\"))\n"
   ]
  },
  {
   "cell_type": "markdown",
   "metadata": {},
   "source": [
    "Fungsi untuk clean up spasi di awal dan akhir kalimat"
   ]
  },
  {
   "cell_type": "code",
   "execution_count": 10,
   "metadata": {},
   "outputs": [
    {
     "name": "stdout",
     "output_type": "stream",
     "text": [
      "I like to go on hikes with my dog.\n"
     ]
    }
   ],
   "source": [
    "def clean_up_spacing(sentence):\n",
    "    \"\"\"\n",
    "\n",
    "    :param sentence: str a sentence to clean of leading and trailing space characters.\n",
    "    :return: str a sentence that has been cleaned of leading and trailing space characters.\n",
    "    \"\"\"\n",
    "\n",
    "    while sentence.startswith(\" \"):\n",
    "        sentence = sentence.removeprefix(\" \")\n",
    "    \n",
    "    while sentence.endswith(\" \"):\n",
    "        sentence = sentence.removesuffix(\" \")\n",
    "    return sentence\n",
    "\n",
    "print(clean_up_spacing(\" I like to go on hikes with my dog.  \"))"
   ]
  },
  {
   "cell_type": "markdown",
   "metadata": {},
   "source": [
    "Fungsi untuk menggantikan suatu kata dalam kalimat ke kata yang baru"
   ]
  },
  {
   "cell_type": "code",
   "execution_count": 1,
   "metadata": {},
   "outputs": [
    {
     "name": "stdout",
     "output_type": "stream",
     "text": [
      "I bake good noodle.\n"
     ]
    }
   ],
   "source": [
    "def replace_word_choice(sentence, old_word, new_word):\n",
    "    \"\"\"\n",
    "\n",
    "    :param sentence: str a sentence to replace words in.\n",
    "    :param old_word: str word to replace\n",
    "    :param new_word: str replacement word\n",
    "    :return:  str input sentence with new words in place of old words\n",
    "    \"\"\"\n",
    "\n",
    "    removeperiod = False\n",
    "    if sentence.endswith(\".\"):\n",
    "        sentence = sentence.removesuffix(\".\")\n",
    "        removeperiod = True\n",
    "        \n",
    "    output = \"\"\n",
    "    x = sentence.rsplit(\" \")\n",
    "    for index, data in enumerate(x):\n",
    "        if data == old_word:\n",
    "            x[index] = new_word\n",
    "        \n",
    "    for data in x:\n",
    "        output = output + data + \" \"\n",
    "    output = output.removesuffix(\" \")\n",
    "\n",
    "    if removeperiod:\n",
    "        output = output + \".\"\n",
    "    return output\n",
    "\n",
    "print(replace_word_choice(\"I bake good cakes.\", \"cakes\", \"noodle\"))"
   ]
  },
  {
   "cell_type": "markdown",
   "metadata": {},
   "source": [
    "Hari ini belajar tentang elif. Elif yaitu digunakan untuk mengelola output yang lebih dari 2 pilihan, dan juga \n",
    " memroses data yang bukan di awal atau akhir (di antara). Contoh elif:"
   ]
  },
  {
   "cell_type": "code",
   "execution_count": 1,
   "metadata": {},
   "outputs": [
    {
     "name": "stdout",
     "output_type": "stream",
     "text": [
      "DANGER\n"
     ]
    }
   ],
   "source": [
    "def fail_safe(temperature, neutrons_produced_per_second, threshold):\n",
    "    \"\"\"Assess and return status code for the reactor.\n",
    "\n",
    "    :param temperature: value of the temperature (integer or float)\n",
    "    :param neutrons_produced_per_second: neutron flux (integer or float)\n",
    "    :param threshold: threshold (integer or float)\n",
    "    :return: str one of: 'LOW', 'NORMAL', 'DANGER'\n",
    "\n",
    "    - `temperature * neutrons per second` < 90% of `threshold` == 'LOW'\n",
    "    - `temperature * neutrons per second` +/- 10% of `threshold` == 'NORMAL'\n",
    "    - `temperature * neutrons per second` is not in the above-stated ranges ==  'DANGER'\n",
    "    \"\"\"\n",
    "\n",
    "    output = \"\"\n",
    "    check = temperature * neutrons_produced_per_second\n",
    "    if check < 0.9 * threshold:\n",
    "        output = \"LOW\"\n",
    "    elif check >= (threshold - threshold * 0.1) and check <= (threshold + threshold * 0.1):\n",
    "        output = \"NORMAL\"\n",
    "    else:\n",
    "        output = \"DANGER\"\n",
    "    return output\n",
    "\n",
    "print(fail_safe(1000, 30, 5000))"
   ]
  },
  {
   "cell_type": "markdown",
   "metadata": {},
   "source": [
    "Malam ini belajar fungsi untuk mengecek apakah temperatur (suhu) dibawah 800 derajat, \n",
    "neutron yang dipancarkan (neutrons emitted) di atas 500, dan apakah jumlah dari temperatur\n",
    "dikali neutrons emitted itu dibawah 500000"
   ]
  },
  {
   "cell_type": "code",
   "execution_count": 4,
   "metadata": {},
   "outputs": [
    {
     "name": "stdout",
     "output_type": "stream",
     "text": [
      "True\n"
     ]
    }
   ],
   "source": [
    "def is_criticality_balanced(temperature, neutrons_emitted):\n",
    "    \"\"\"Verify criticality is balanced.\n",
    "\n",
    "    :param temperature: temperature value (integer or float)\n",
    "    :param neutrons_emitted: number of neutrons emitted per second (integer or float)\n",
    "    :return:  boolean True if conditions met, False if not\n",
    "\n",
    "    A reactor is said to be critical if it satisfies the following conditions:\n",
    "    - The temperature is less than 800.\n",
    "    - The number of neutrons emitted per second is greater than 500.\n",
    "    - The product of temperature and neutrons emitted per second is less than 500000.\n",
    "    \"\"\"\n",
    "\n",
    "    output = False\n",
    "    if temperature < 800 and neutrons_emitted > 500 and (temperature * neutrons_emitted < 500000):\n",
    "        output = True\n",
    "    \n",
    "    return output\n",
    "\n",
    "print(is_criticality_balanced(499.99, 1000))"
   ]
  },
  {
   "cell_type": "markdown",
   "metadata": {},
   "source": [
    "Malam ini belajar fungsi untuk akses zona efisiensi reaktor (reactor efficiency zone access)"
   ]
  },
  {
   "cell_type": "code",
   "execution_count": 3,
   "metadata": {},
   "outputs": [
    {
     "name": "stdout",
     "output_type": "stream",
     "text": [
      "green\n"
     ]
    }
   ],
   "source": [
    "def reactor_efficiency(voltage, current, theoretical_max_power):\n",
    "    \"\"\"Assess reactor efficiency zone.\n",
    "\n",
    "    :param voltage: voltage value (integer or float)\n",
    "    :param current: current value (integer or float)\n",
    "    :param theoretical_max_power: power that corresponds to a 100% efficiency (integer or float)\n",
    "    :return: str one of 'green', 'orange', 'red', or 'black'\n",
    "\n",
    "    Efficiency can be grouped into 4 bands:\n",
    "\n",
    "    1. green -> efficiency of 80% or more,\n",
    "    2. orange -> efficiency of less than 80% but at least 60%,\n",
    "    3. red -> efficiency below 60%, but still 30% or more,\n",
    "    4. black ->  less than 30% efficient.\n",
    "\n",
    "    The percentage value is calculated as\n",
    "    (generated power/ theoretical max power)*100\n",
    "    where generated power = voltage * current\n",
    "    \"\"\"\n",
    "\n",
    "    output = \"\"\n",
    "    generated_power = voltage * current\n",
    "\n",
    "    effiency = (generated_power/theoretical_max_power) * 100 \n",
    "    if effiency >= 80:\n",
    "        output = \"green\"\n",
    "    elif effiency < 80 and effiency >= 60:\n",
    "        output = \"orange\"\n",
    "    elif effiency < 60 and effiency >= 30:\n",
    "         output = \"red\"\n",
    "    elif effiency < 30:\n",
    "        output = \"black\"\n",
    "    return output\n",
    "\n",
    "print(reactor_efficiency(250, 50, 15000))       "
   ]
  },
  {
   "cell_type": "markdown",
   "metadata": {},
   "source": [
    "Malam ini belajar fungsi untuk akses dan return kode status dari reaktor tersebut"
   ]
  },
  {
   "cell_type": "code",
   "execution_count": 2,
   "metadata": {},
   "outputs": [
    {
     "name": "stdout",
     "output_type": "stream",
     "text": [
      "DANGER\n"
     ]
    }
   ],
   "source": [
    "def fail_safe(temperature, neutrons_produced_per_second, threshold):\n",
    "    \"\"\"Assess and return status code for the reactor.\n",
    "\n",
    "    :param temperature: value of the temperature (integer or float)\n",
    "    :param neutrons_produced_per_second: neutron flux (integer or float)\n",
    "    :param threshold: threshold (integer or float)\n",
    "    :return: str one of: 'LOW', 'NORMAL', 'DANGER'\n",
    "\n",
    "    - `temperature * neutrons per second` < 90% of `threshold` == 'LOW'\n",
    "    - `temperature * neutrons per second` +/- 10% of `threshold` == 'NORMAL'\n",
    "    - `temperature * neutrons per second` is not in the above-stated ranges ==  'DANGER'\n",
    "    \"\"\"\n",
    "\n",
    "    output = \"\"\n",
    "    check = temperature * neutrons_produced_per_second\n",
    "    if check < 0.9 * threshold:\n",
    "        output = \"LOW\"\n",
    "    elif check >= (threshold - threshold * 0.1) and check <= (threshold + threshold * 0.1):\n",
    "        output = \"NORMAL\"\n",
    "    else:\n",
    "        output = \"DANGER\"\n",
    "    return output\n",
    "\n",
    "print(fail_safe(1000, 30, 5000))"
   ]
  },
  {
   "cell_type": "markdown",
   "metadata": {},
   "source": [
    "Perbedaan fungsi elif dan else, yaitu elif yaitu digunakan untuk mengelola output yang lebih dari 2 pilihan, untuk memroses data yang bukan di awal atau akhir (di antara), dan juga diberi suatu statement.\n",
    "Sedangkan else tidak diberi suatu statement"
   ]
  },
  {
   "cell_type": "markdown",
   "metadata": {},
   "source": [
    "Beberapa hari yang lalu, belajar tentang cara-cara untuk menyelesaikan task \n",
    "berkaitan dengan list angka"
   ]
  },
  {
   "cell_type": "code",
   "execution_count": 2,
   "metadata": {},
   "outputs": [
    {
     "name": "stdout",
     "output_type": "stream",
     "text": [
      "[20, 21, 22]\n",
      "[27, 28, 29, 35, 36]\n",
      "True\n",
      "6.0\n",
      "True\n",
      "[5, 9, 22]\n"
     ]
    }
   ],
   "source": [
    "def get_rounds(number):\n",
    "    \"\"\"\n",
    "\n",
    "     :param number: int - current round number.\n",
    "     :return: list - current round and the two that follow.\n",
    "    \"\"\"\n",
    "\n",
    "    list = []\n",
    "    last_number = number + 2\n",
    "    while number <= last_number:\n",
    "        list.append(number)\n",
    "        number = number + 1\n",
    "    return list\n",
    "\n",
    "print(get_rounds(20))\n",
    "\n",
    "\n",
    "def concatenate_rounds(rounds_1, rounds_2):\n",
    "    \"\"\"\n",
    "\n",
    "    :param rounds_1: list - first rounds played.\n",
    "    :param rounds_2: list - second set of rounds played.\n",
    "    :return: list - all rounds played.\n",
    "    \"\"\"\n",
    "\n",
    "    output = []\n",
    "    for data in rounds_1:\n",
    "        output.append(data)\n",
    "\n",
    "    for data in rounds_2:\n",
    "        output.append(data)\n",
    "    return output\n",
    "\n",
    "print(concatenate_rounds([27, 28, 29], [35, 36]))\n",
    "\n",
    "\n",
    "def list_contains_round(rounds, number):\n",
    "    \"\"\"\n",
    "\n",
    "    :param rounds: list - rounds played.\n",
    "    :param number: int - round number.\n",
    "    :return:  bool - was the round played?\n",
    "    \"\"\"\n",
    "    output = False\n",
    "    for data in rounds:\n",
    "        if data == number:\n",
    "            output = True\n",
    "            break\n",
    "    return output\n",
    "\n",
    "print(list_contains_round([27, 28, 29, 35, 36], 29))\n",
    "\n",
    "def card_average(hand):\n",
    "    \"\"\"\n",
    "\n",
    "    :param hand: list - cards in hand.\n",
    "    :return:  float - average value of the cards in the hand.\n",
    "    \"\"\"\n",
    "\n",
    "    output = 0.0\n",
    "    for data in hand:\n",
    "        output = output + data \n",
    "    output = output / len(hand)\n",
    "    return output\n",
    "\n",
    "print(card_average([5, 6, 7]))\n",
    "\n",
    "\n",
    "def approx_average_is_average(hand):\n",
    "    \"\"\"\n",
    "\n",
    "    :param hand: list - cards in hand.\n",
    "    :return: bool - is approximate average the same as true average?\n",
    "    \"\"\"\n",
    "\n",
    "    return card_average(hand) == hand[(len(hand) - 1) // 2] or card_average(hand) == card_average([hand[0], hand[-1]])\n",
    "\n",
    "\n",
    "def average_even_is_average_odd(hand):\n",
    "    \"\"\"\n",
    "\n",
    "    :param hand: list - cards in hand.\n",
    "    :return: bool - are even and odd averages equal?\n",
    "    \"\"\"\n",
    "\n",
    "    # return sebuah Boolean jika rata rata kartu di index genap (2) itu sama dengan \n",
    "    # rata rata kartu di index ganjil (2)\n",
    "\n",
    "    list_even = []\n",
    "    list_odd = []\n",
    "    for index, data in enumerate(hand):\n",
    "        if index % 2 == 0:\n",
    "            list_even.append(data)\n",
    "        else:\n",
    "            list_odd.append(data)\n",
    "\n",
    "    even_average = card_average(list_even)\n",
    "    odd_average = card_average(list_odd)\n",
    "    # if rata_rata_genap == rata_rata_ganjil:\n",
    "    #     output = True\n",
    "    # else:\n",
    "    #     output = False\n",
    "    # return output\n",
    "    return even_average == odd_average\n",
    "    # return card_average(list_even) == card_average(list_odd)\n",
    "\n",
    "print(average_even_is_average_odd([1, 2, 3]))\n",
    "\n",
    "\n",
    "def maybe_double_last(hand):\n",
    "    \"\"\"\n",
    "\n",
    "    :param hand: list - cards in hand.\n",
    "    :return: list - hand with Jacks (if present) value doubled.\n",
    "    \"\"\"\n",
    "\n",
    "    output_list = []\n",
    "    for data in (hand):\n",
    "        if data == 11:\n",
    "            data = data * 2\n",
    "        output_list.append(data) \n",
    "    return output_list\n",
    "\n",
    "print(maybe_double_last([5, 9, 11]))"
   ]
  },
  {
   "cell_type": "markdown",
   "metadata": {},
   "source": [
    "Hari ini belajar task Chaitana's Colossal Coaster yaitu copy, count, sort, dan sebagainya"
   ]
  },
  {
   "cell_type": "code",
   "execution_count": 1,
   "metadata": {},
   "outputs": [
    {
     "name": "stdout",
     "output_type": "stream",
     "text": [
      "['RobotGuy', 'WW', 'RichieRich']\n",
      "1\n",
      "4\n",
      "['Natasha', 'Steve', \"T'challa\", 'Wanda', 'Rocket', 'Bucky']\n",
      "['Natasha', 'Steve', 'Wanda', 'Rocket']\n",
      "2\n",
      "Rocket\n",
      "['Eltran', 'Natasha', 'Natasha', 'Rocket', 'Steve']\n"
     ]
    }
   ],
   "source": [
    "def add_me_to_the_queue(express_queue, normal_queue, ticket_type, person_name):\n",
    "    \"\"\"\n",
    "\n",
    "    :param express_queue: list - names in the Fast-track queue.\n",
    "    :param normal_queue:  list - names in the normal queue.\n",
    "    :param ticket_type:  int - type of ticket. 1 = express, 0 = normal.\n",
    "    :param person_name: str - name of person to add to a queue.\n",
    "    :return: list - the (updated) queue the name was added to.\n",
    "    \"\"\"\n",
    "\n",
    "    output_list = []\n",
    "    if ticket_type == 1:\n",
    "        for data in express_queue:\n",
    "            output_list.append(data)\n",
    "\n",
    "    if ticket_type == 0:\n",
    "        for data in normal_queue:\n",
    "            output_list.append(data)\n",
    "\n",
    "    output_list.append(person_name)\n",
    "    return output_list\n",
    "\n",
    "print(add_me_to_the_queue([\"Tony\", \"Bruce\"], [\"RobotGuy\", \"WW\"], 0, \"RichieRich\"))\n",
    "\n",
    "    \n",
    "\n",
    "\n",
    "def find_my_friend(queue, friend_name):\n",
    "    \"\"\"\n",
    "\n",
    "    :param queue: list - names in the queue.\n",
    "    :param friend_name: str - name of friend to find.\n",
    "    :return: int - index at which the friends name was found.\n",
    "    \"\"\"\n",
    "    \n",
    "    for index, data in enumerate(queue):\n",
    "        if data == friend_name:\n",
    "            return index\n",
    "\n",
    "print(find_my_friend([\"Natasha\", \"Steve\", \"T'challa\", \"Wanda\", \"Rocket\"], \"Steve\"))\n",
    "print(find_my_friend(['Natasha', 'Steve', 'Tchalla', 'Wanda', 'Rocket'], 'Rocket')) \n",
    "\n",
    "\n",
    "\n",
    "def add_me_with_my_friends(queue, index, person_name):\n",
    "    \"\"\"\n",
    "\n",
    "    :param queue: list - names in the queue.\n",
    "    :param index: int - the index at which to add the new name.\n",
    "    :param person_name: str - the name to add.\n",
    "    :return: list - queue updated with new name.\n",
    "    \"\"\"\n",
    "    \n",
    "    output_list = []\n",
    "    found = False\n",
    "    for idx, data in enumerate(queue):\n",
    "        if idx == index:\n",
    "            found = True\n",
    "            output_list.append(person_name)\n",
    "        output_list.append(data)\n",
    "    if not found:\n",
    "        output_list.append(person_name)\n",
    "    return output_list\n",
    "               \n",
    "print(add_me_with_my_friends([\"Natasha\", \"Steve\", \"T'challa\", \"Wanda\", \"Rocket\"], 5, \"Bucky\"))\n",
    "        \n",
    "\n",
    "\n",
    "def remove_the_mean_person(queue, person_name):\n",
    "    \"\"\"\n",
    "\n",
    "    :param queue: list - names in the queue.\n",
    "    :param person_name: str - name of mean person.\n",
    "    :return:  list - queue update with the mean persons name removed.\n",
    "    \"\"\"\n",
    "    \n",
    "    for index, data in enumerate(queue):\n",
    "        if data == person_name:\n",
    "            queue.pop(index)\n",
    "    return queue\n",
    "\n",
    "print(remove_the_mean_person([\"Natasha\", \"Steve\", \"Eltran\", \"Wanda\", \"Rocket\"], \"Eltran\"))\n",
    "\n",
    "\n",
    "def how_many_namefellows(queue, person_name):\n",
    "    \"\"\"\n",
    "\n",
    "    :param queue: list - names in the queue.\n",
    "    :param person_name: str - name you wish to count or track.\n",
    "    :return:  int - the number of times the name appears in the queue.\n",
    "    \"\"\"\n",
    "\n",
    "    return queue.count(person_name)\n",
    "\n",
    "print(how_many_namefellows([\"Natasha\", \"Steve\", \"Eltran\", \"Natasha\", \"Rocket\"], \"Natasha\"))\n",
    "\n",
    "def remove_the_last_person(queue):\n",
    "    \"\"\"\n",
    "\n",
    "    :param queue: list - names in the queue.\n",
    "    :return: str - name that has been removed from the end of the queue.\n",
    "    \"\"\"\n",
    "    \n",
    "    for index, data in enumerate(queue):\n",
    "        if index == 4:\n",
    "            return data\n",
    "\n",
    "print(remove_the_last_person([\"Natasha\", \"Steve\", \"Eltran\", \"Natasha\", \"Rocket\"]))\n",
    "\n",
    "\n",
    "def sorted_names(queue):\n",
    "    \"\"\"\n",
    "\n",
    "    :param queue: list - names in the queue.\n",
    "    :return: list - copy of the queue in alphabetical order.\n",
    "    \"\"\"\n",
    "    \n",
    "    output = queue.copy()\n",
    "    output.sort()\n",
    "    return output\n",
    "\n",
    "print(sorted_names(queue=[\"Natasha\", \"Steve\", \"Eltran\", \"Natasha\", \"Rocket\"]))"
   ]
  },
  {
   "cell_type": "markdown",
   "metadata": {},
   "source": [
    "Salah satu cara berpikir secara computational thinking:\n",
    "Jadi dalam suatu kotak, ada 8 key dan 3 key diantaranya sudah diketahui jumlahnya, \n",
    "berarti untuk mengetehui jumlah sisa 5 keynya hanya perlu sum dari dictionary (255) dikurangi jumlah dari 3 key yang sudah diketahui "
   ]
  },
  {
   "cell_type": "code",
   "execution_count": 2,
   "metadata": {},
   "outputs": [
    {
     "name": "stdout",
     "output_type": "stream",
     "text": [
      "[21, 234]\n"
     ]
    }
   ],
   "source": [
    "some_dict = {1: 'eggs', 2: 'peanuts', \n",
    "             4: 'shellfish', 8: 'strawberries', \n",
    "             16: 'tomatoes', 32: 'chocolate', \n",
    "             64: 'pollen', 128: 'cats'}\n",
    "\n",
    "def check(a_list, dict):\n",
    "    jumlah_1, jumlah_2 = 0, 0\n",
    "    for data in a_list:\n",
    "        for key in dict:\n",
    "            if data == dict[key]:\n",
    "                jumlah_1 += key\n",
    "                break \n",
    "    jumlah_2 = sum(dict) - jumlah_1\n",
    "    return [jumlah_1, jumlah_2]\n",
    "\n",
    "print(check([\"tomatoes\", \"shellfish\", \"eggs\"], some_dict)) "
   ]
  },
  {
   "cell_type": "markdown",
   "metadata": {},
   "source": [
    "Cara mengonversikan dictionary dari key, value ke value, key"
   ]
  },
  {
   "cell_type": "code",
   "execution_count": 1,
   "metadata": {},
   "outputs": [
    {
     "name": "stdout",
     "output_type": "stream",
     "text": [
      "Dictionary sebelum dibalikkan: \n",
      "{1: 'eggs', 2: 'peanuts', 4: 'shellfish', 8: 'strawberries', 16: 'tomatoes', 32: 'chocolate', 64: 'pollen', 128: 'cats'}\n",
      " \n",
      "Dictionary setelah dibalikkan: \n",
      "{'eggs': 1, 'peanuts': 2, 'shellfish': 4, 'strawberries': 8, 'tomatoes': 16, 'chocolate': 32, 'pollen': 64, 'cats': 128}\n"
     ]
    }
   ],
   "source": [
    "some_dict = {1: 'eggs', 2: 'peanuts', \n",
    "             4: 'shellfish', 8: 'strawberries', \n",
    "             16: 'tomatoes', 32: 'chocolate', \n",
    "             64: 'pollen', 128: 'cats'}\n",
    "print(\"Dictionary sebelum dibalikkan: \")\n",
    "print(some_dict) \n",
    "print(\" \")\n",
    "\n",
    "reversed_dict = dict((value, key) for key, value in some_dict.items())\n",
    "print(\"Dictionary setelah dibalikkan: \")\n",
    "print(reversed_dict)"
   ]
  },
  {
   "cell_type": "markdown",
   "metadata": {},
   "source": [
    "Ada 3 set, yaitu:\n",
    "a = {1,2,3}\n",
    "b = {4,5}\n",
    "c = {7,9}\n",
    "\n",
    "Lalu, kita hanya ingin mengeluarkan {2} saja yaitu dengan cara:\n",
    "1. Menggabungkan set a dan b, lalu dimasukkan dalam suatu variabel (ab)\n",
    "2. Variabel ab di-intersection dengan c"
   ]
  },
  {
   "cell_type": "code",
   "execution_count": 8,
   "metadata": {},
   "outputs": [
    {
     "data": {
      "text/plain": [
       "{2}"
      ]
     },
     "execution_count": 8,
     "metadata": {},
     "output_type": "execute_result"
    }
   ],
   "source": [
    "a = {1,2,3}\n",
    "b = {4,5}\n",
    "c = {2,7,9}\n",
    "ab = a.union(b)\n",
    "c.intersection(ab)"
   ]
  },
  {
   "cell_type": "markdown",
   "metadata": {},
   "source": [
    "Lambda adalah fungsi anonim (anonymous function)"
   ]
  },
  {
   "cell_type": "markdown",
   "metadata": {},
   "source": [
    "Contoh fungsi dengan nama tambah:"
   ]
  },
  {
   "cell_type": "code",
   "execution_count": 1,
   "metadata": {},
   "outputs": [
    {
     "name": "stdout",
     "output_type": "stream",
     "text": [
      "10\n"
     ]
    }
   ],
   "source": [
    "def tambah(a, b):\n",
    "    return a + b\n",
    "\n",
    "print(tambah(4, 6))"
   ]
  },
  {
   "cell_type": "markdown",
   "metadata": {},
   "source": [
    "Contoh lambda atas fungsi tambah diatas:"
   ]
  },
  {
   "cell_type": "code",
   "execution_count": 2,
   "metadata": {},
   "outputs": [
    {
     "name": "stdout",
     "output_type": "stream",
     "text": [
      "10\n"
     ]
    }
   ],
   "source": [
    "x = lambda a,b : a + b\n",
    "print(x(4, 6))"
   ]
  },
  {
   "cell_type": "markdown",
   "metadata": {},
   "source": [
    "Lambda bisa dibuat dengan catatan bahwa fungsi hanya terdapat 1 baris isi fungsi "
   ]
  },
  {
   "cell_type": "markdown",
   "metadata": {},
   "source": [
    "Hari ini mempelajari cara menulis kembali manual testing tanpa assert equal\n",
    "\n",
    "Di bawah ini merupakan contoh assert equalnya:"
   ]
  },
  {
   "cell_type": "code",
   "execution_count": null,
   "metadata": {},
   "outputs": [],
   "source": [
    "def test_student_is_added_to_the_roster(self):\n",
    "        school = School()\n",
    "        school.add_student(name=\"Aimee\", grade=2) \n",
    "        expected = [\"Aimee\"] \n",
    "\n",
    "        self.assertEqual(school.roster(), expected)"
   ]
  },
  {
   "cell_type": "markdown",
   "metadata": {},
   "source": [
    "Cara menulis kembali manual testing tanpa assert equal:"
   ]
  },
  {
   "cell_type": "code",
   "execution_count": null,
   "metadata": {},
   "outputs": [],
   "source": [
    "i = School({})\n",
    "i.add_student(name=\"Aimee\", grade=2)\n",
    "expected = [True] \n",
    "print(i.added == expected) \n",
    "print(i.added) "
   ]
  },
  {
   "cell_type": "markdown",
   "metadata": {},
   "source": [
    "Hari ini mempelajari sorted lambda dengan adanya parameter key"
   ]
  },
  {
   "cell_type": "code",
   "execution_count": 3,
   "metadata": {},
   "outputs": [
    {
     "data": {
      "text/plain": [
       "[[6, 7], [4, 5], [4, 6], [2, 3], [1, 1]]"
      ]
     },
     "execution_count": 3,
     "metadata": {},
     "output_type": "execute_result"
    }
   ],
   "source": [
    "ax = [[4, 5], [4, 6], [6, 7], [2, 3], [1, 1]]\n",
    "sorted(ax, key=lambda data:(-data[0], data[1]))"
   ]
  },
  {
   "cell_type": "markdown",
   "metadata": {},
   "source": [
    "Pada kode di atas, data[0] di variabel ax lebih diutamakan, \n",
    "dan jika nilai (dalam data[0]) nya sama maka dibandingkan dengan -data[1]"
   ]
  },
  {
   "cell_type": "markdown",
   "metadata": {},
   "source": [
    "Untuk hasil sorted = [[1, 1], [2, 3], [4, 6], [4, 5], [6, 7]], \n",
    "terdapat 2 data dengan index 0 nya sama yaitu 4, ([4, 6] dan [4, 5])\n",
    "\n",
    "[4, 6] [4, 5] sama aja dengan [4, -6] [4, -5], bilangan -6 lebih kecil dari -5, maka \n",
    "hasil nya [4, 6] [4, 5] dan bukan [4, 5] [4, 6] "
   ]
  },
  {
   "cell_type": "markdown",
   "metadata": {},
   "source": [
    "Hari ini mempelajari untuk mengetahui nilai dari x\n",
    "Jadi, saya memiliki variabel teams dengan data seperti berikut:"
   ]
  },
  {
   "cell_type": "code",
   "execution_count": 2,
   "metadata": {},
   "outputs": [],
   "source": [
    "teams = {'Devastating Donkeys': [12, 5, 4, 0, 1], 'Blithering Badgers': [3, 5, 1, 0, 4]}"
   ]
  },
  {
   "cell_type": "markdown",
   "metadata": {},
   "source": [
    "Maka untuk melakukan sorted atau mengurutkan berdasarkan poin dan nama, maka yang dilakukan adalah\n",
    "kode sebagai berikut:"
   ]
  },
  {
   "cell_type": "code",
   "execution_count": 10,
   "metadata": {},
   "outputs": [
    {
     "name": "stdout",
     "output_type": "stream",
     "text": [
      "Data sebelum proses: \n",
      "[[12, 'Devastating Donkeys', 5, 4, 0, 1], [3, 'Blithering Badgers', 5, 1, 0, 4]]\n",
      " \n",
      "Data setelah proses dengan negasi x index 0 dan x index 1: \n",
      "[12, 'Devastating Donkeys', 5, 4, 0, 1] -12 Devastating Donkeys\n",
      "[3, 'Blithering Badgers', 5, 1, 0, 4] -3 Blithering Badgers\n"
     ]
    }
   ],
   "source": [
    "data = [[p, name, mp, w, d, l] for name, (p, mp, w, d, l) in teams.items()]\n",
    "print(\"Data sebelum proses: \")\n",
    "print(data)\n",
    "print(\" \")\n",
    "print(\"Data setelah proses dengan negasi x index 0 dan x index 1: \")\n",
    "for x in data:\n",
    "    print(x, -x[0], x[1])"
   ]
  },
  {
   "cell_type": "markdown",
   "metadata": {},
   "source": [
    "Proses ini sama dengan kode sebagai berikut:"
   ]
  },
  {
   "cell_type": "code",
   "execution_count": 4,
   "metadata": {},
   "outputs": [
    {
     "data": {
      "text/plain": [
       "[[12, 'Devastating Donkeys', 5, 4, 0, 1],\n",
       " [3, 'Blithering Badgers', 5, 1, 0, 4]]"
      ]
     },
     "execution_count": 4,
     "metadata": {},
     "output_type": "execute_result"
    }
   ],
   "source": [
    "sorted([[p, name, mp, w, d, l] for name, (p, mp, w, d, l) in teams.items()], key=lambda x: (-x[0], x[1]))"
   ]
  },
  {
   "cell_type": "markdown",
   "metadata": {},
   "source": [
    "Hari ini mempelajari cara mengurutkan nilai suatu ulangan dari tertinggi\n",
    "dan menambah dict dengan data dari list"
   ]
  },
  {
   "cell_type": "code",
   "execution_count": 1,
   "metadata": {},
   "outputs": [
    {
     "name": "stdout",
     "output_type": "stream",
     "text": [
      "results dengan reverse True\n",
      "[['Ambo', 17, 17, 13], ['Abah', 17, 16, 15], ['Amoy', 16, 15, 17]]\n"
     ]
    }
   ],
   "source": [
    "x = [\"Amoy,9,7,9\",\n",
    "     \"Abah,9,8,8\",\n",
    "     \"Ambo,8,7,7\",\n",
    "     \"Amoy,7,8,8\",\n",
    "     \"Abah,8,8,7\",\n",
    "     \"Ambo,9,10,6\" \n",
    "  ]\n",
    "\n",
    "def ulangan(input):\n",
    "   c = {}\n",
    "   i = [data.split(\",\") for data in x]\n",
    "   for (name, math, science, english) in i:\n",
    "      if name not in c:\n",
    "         c[name] = [0,0,0] # math, science, english\n",
    "      c[name][0] += int(math)\n",
    "      c[name][1] += int(science)\n",
    "      c[name][2] += int(english)\n",
    "   print(\"results dengan reverse True\")\n",
    "   results = sorted([[name, math, science, english] for name, (math, science, english) in c.items()], key=lambda x: (x[1], x[2]), reverse=True)\n",
    "   return results\n",
    "\n",
    "print(ulangan(x)) "
   ]
  },
  {
   "cell_type": "markdown",
   "metadata": {},
   "source": [
    "Hari ini mempelajari cara membuat list berisi\n",
    "string a sampai z tanpa secara manual, yakni sebagai berikut:"
   ]
  },
  {
   "cell_type": "code",
   "execution_count": 2,
   "metadata": {},
   "outputs": [
    {
     "name": "stdout",
     "output_type": "stream",
     "text": [
      "['a', 'b', 'c', 'd', 'e', 'f', 'g', 'h', 'i', 'j', 'k', 'l', 'm', 'n', 'o', 'p', 'q', 'r', 's', 't', 'u', 'v', 'w', 'x', 'y', 'z']\n"
     ]
    }
   ],
   "source": [
    "import string\n",
    "a = list(string.ascii_lowercase)\n",
    "print(a)"
   ]
  },
  {
   "cell_type": "markdown",
   "metadata": {},
   "source": [
    "Pada kode dibawah, ada \"if a.count(data) > 0:\" karena kalau\n",
    "datanya ada maka akan dieksekusi, tapi jka tidak ada, maka tidak akan dieksekusi "
   ]
  },
  {
   "cell_type": "code",
   "execution_count": 2,
   "metadata": {},
   "outputs": [
    {
     "name": "stdout",
     "output_type": "stream",
     "text": [
      "False\n"
     ]
    }
   ],
   "source": [
    "import string\n",
    "a = list(string.ascii_lowercase)\n",
    "\n",
    "def is_pangram(sentence):\n",
    "    for data in sentence:\n",
    "        if a.count(data) > 0:\n",
    "            a.remove(data)\n",
    "    return a == []\n",
    "\n",
    "print(is_pangram(\"bcdefghijklmnopqrstuvwxyz\"))"
   ]
  },
  {
   "cell_type": "markdown",
   "metadata": {},
   "source": [
    "Hari ini menjalani tugas dari Bapak"
   ]
  },
  {
   "cell_type": "code",
   "execution_count": 2,
   "metadata": {},
   "outputs": [
    {
     "name": "stdout",
     "output_type": "stream",
     "text": [
      "{'a': 6, 'b': 2, 'c': 1, 'd': 5, 'r': 1, 'i': 2, 'u': 1}\n",
      "AbAcA DaBrA DiDi DaDu \n",
      "dadu didi dabra abaca \n"
     ]
    }
   ],
   "source": [
    "def testing(input):\n",
    "    x = {}\n",
    "    y = input.lower()\n",
    "    for data in y:\n",
    "        if data != \" \":\n",
    "            x[data] = y.count(data)\n",
    "    return x\n",
    "\n",
    "print(testing(\"abaca dabra didi DADU\"))\n",
    "\n",
    "def testing_1(info):\n",
    "    info_1 = info.lower()\n",
    "    info_2 = info_1.split(\" \")\n",
    "    x = \"\"\n",
    "    for i in info_2:\n",
    "        for index, data in enumerate(i):\n",
    "            if index % 2 == 0:\n",
    "                x += data.upper()\n",
    "            else:\n",
    "                x += data\n",
    "        x += \" \"\n",
    "    return x\n",
    "\n",
    "print(testing_1(\"abaca dabra didi DADU\"))\n",
    "\n",
    "def testing_2(data):\n",
    "    data_1 = data.lower()\n",
    "    data_2 = data_1.split(\" \")\n",
    "    data_2.reverse()\n",
    "    x = \"\"\n",
    "    for data in data_2:\n",
    "        for i in data:\n",
    "            x += i\n",
    "        x += \" \"\n",
    "    return x \n",
    "\n",
    "print(testing_2(\"abaca dabra didi DADU\"))"
   ]
  },
  {
   "cell_type": "markdown",
   "metadata": {},
   "source": [
    "Hari ini menjalani tugas dari Bapak"
   ]
  },
  {
   "cell_type": "code",
   "execution_count": 1,
   "metadata": {},
   "outputs": [
    {
     "name": "stdout",
     "output_type": "stream",
     "text": [
      "{'acong': [10, 8, 8], 'badu': [7, 9, 7], 'amoy': [9, 8, 9]}\n"
     ]
    }
   ],
   "source": [
    "def daftar_nilai(inputt):\n",
    "    x = {}\n",
    "    for data in inputt:\n",
    "        if data[0] not in x:\n",
    "            x[data[0]] = [0,0,0]\n",
    "        if data[1] == \"math\":\n",
    "            x[data[0]][0] = data[2]\n",
    "        if data[1] == \"english\":\n",
    "            x[data[0]][1] = data[2]\n",
    "        if data[1] == \"science\":\n",
    "            x[data[0]][2] = data[2]\n",
    "    return x\n",
    "\n",
    "print(daftar_nilai([[\"acong\", \"math\", 10],\n",
    "            [\"badu\", \"english\", 9],\n",
    "            [\"amoy\", \"science\", 9],\n",
    "            [\"acong\", \"english\", 8],\n",
    "            [\"badu\", \"science\", 7],\n",
    "            [\"amoy\", \"english\", 8],\n",
    "            [\"acong\", \"science\", 8],\n",
    "            [\"badu\", \"math\", 7],\n",
    "            [\"amoy\", \"math\", 9]]\n",
    "        ))"
   ]
  },
  {
   "cell_type": "markdown",
   "metadata": {},
   "source": [
    "Hari ini mempelajari cara meng-eksekusi suatu code \n",
    "yang menggunakan Class (tipe data baru). Ada 2 cara yaitu:"
   ]
  },
  {
   "cell_type": "markdown",
   "metadata": {},
   "source": [
    "1. Jika di dalam def __init__ tidak ada parameter (selain \"self\"),\n",
    "    maka menggunakan contoh dibawah:"
   ]
  },
  {
   "cell_type": "code",
   "execution_count": null,
   "metadata": {},
   "outputs": [],
   "source": [
    "a = ShowRanking() # *\n",
    "print(a.ranking(\"1\", \"2\")) # **\n",
    "\n",
    "* \"Ketik sesuai nama Classnya\"\n",
    "** \"Pilih def yang akan dieksekusi\" \n"
   ]
  },
  {
   "cell_type": "markdown",
   "metadata": {},
   "source": [
    "2. Jika di dalam def __init__ ada parameter (selain 'self'),\n",
    "    maka menggunakan contoh dibawah:"
   ]
  },
  {
   "cell_type": "code",
   "execution_count": null,
   "metadata": {},
   "outputs": [],
   "source": [
    "input = \"9 8 7\\n5 3 2\\n6 6 7\"\n",
    "matrix = Matrix(input) \n",
    "print(matrix.column(1))\n",
    "print(matrix.row(1)) "
   ]
  }
 ],
 "metadata": {
  "kernelspec": {
   "display_name": "Python 3.9.6 ('belajar')",
   "language": "python",
   "name": "python3"
  },
  "language_info": {
   "codemirror_mode": {
    "name": "ipython",
    "version": 3
   },
   "file_extension": ".py",
   "mimetype": "text/x-python",
   "name": "python",
   "nbconvert_exporter": "python",
   "pygments_lexer": "ipython3",
   "version": "3.9.6"
  },
  "orig_nbformat": 4,
  "vscode": {
   "interpreter": {
    "hash": "2a275f07e19ad1be55f10a745d8cfd6418c97c9841a50c9b65bbaa4051109888"
   }
  }
 },
 "nbformat": 4,
 "nbformat_minor": 2
}
