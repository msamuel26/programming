{
 "cells": [
  {
   "cell_type": "markdown",
   "source": [
    "malam ini belajar tipe data list. List adalah tipe data yang menampung multi atau banyak data dengan tipe data yang beragam (bisa semuanya itu float, bisa semuanya itu int, bisa perpaduan antara float dengan int, dan sebagainya). Untuk mengakses nilai dalam list, gunakan index. Dimana index dimulai dari 0."
   ],
   "metadata": {}
  },
  {
   "cell_type": "code",
   "execution_count": 1,
   "source": [
    "b = [23, False, 'Emprit']\r\n",
    "b[2]"
   ],
   "outputs": [
    {
     "output_type": "execute_result",
     "data": {
      "text/plain": [
       "'Emprit'"
      ]
     },
     "metadata": {},
     "execution_count": 1
    }
   ],
   "metadata": {}
  },
  {
   "cell_type": "code",
   "execution_count": 2,
   "source": [
    "for value in b:\r\n",
    "    print(value)\r\n",
    "    "
   ],
   "outputs": [
    {
     "output_type": "stream",
     "name": "stdout",
     "text": [
      "23\n",
      "False\n",
      "Emprit\n"
     ]
    }
   ],
   "metadata": {}
  },
  {
   "cell_type": "markdown",
   "source": [
    "mengambil nilai list dari index tertentu. info: index dimulai dari 0"
   ],
   "metadata": {}
  },
  {
   "cell_type": "code",
   "execution_count": 1,
   "source": [
    "z = [20, 'Cinguri', 29.5, True]\r\n",
    "print(z[3])\r\n",
    "print(z[0])"
   ],
   "outputs": [
    {
     "output_type": "stream",
     "name": "stdout",
     "text": [
      "True\n",
      "20\n"
     ]
    }
   ],
   "metadata": {}
  },
  {
   "cell_type": "markdown",
   "source": [
    "untuk mengganti dalam list, bisa dengan melakukan assignment ke index suatu list"
   ],
   "metadata": {}
  },
  {
   "cell_type": "code",
   "execution_count": 3,
   "source": [
    "z[0] = 100\r\n",
    "z"
   ],
   "outputs": [
    {
     "output_type": "execute_result",
     "data": {
      "text/plain": [
       "[100, 'Cinguri', 29.5, True]"
      ]
     },
     "metadata": {},
     "execution_count": 3
    }
   ],
   "metadata": {}
  },
  {
   "cell_type": "markdown",
   "source": [
    "proses menambahkan data di list, bisa menggunakan append (data akan ditaruh dalam posisi belakang), atau insert (membutuhkan parameter yang pertama adalah index dimana data akan di insert, parameter ke 2 merupakan data yang akan di insert)"
   ],
   "metadata": {}
  },
  {
   "cell_type": "code",
   "execution_count": 8,
   "source": [
    "z = [100, 'Cinguri', 29.5, True]\r\n",
    "print(z)\r\n",
    "z.insert(0, 'Moses')\r\n",
    "print(z)\r\n",
    "z.insert(1, 'Samuel')\r\n",
    "z"
   ],
   "outputs": [
    {
     "output_type": "stream",
     "name": "stdout",
     "text": [
      "[100, 'Cinguri', 29.5, True]\n",
      "['Moses', 100, 'Cinguri', 29.5, True]\n"
     ]
    },
    {
     "output_type": "execute_result",
     "data": {
      "text/plain": [
       "['Moses', 'Samuel', 100, 'Cinguri', 29.5, True]"
      ]
     },
     "metadata": {},
     "execution_count": 8
    }
   ],
   "metadata": {}
  },
  {
   "cell_type": "markdown",
   "source": [
    "fungsi pop adalah untuk mengambil suatu data dari list, pop ada yang menggunakan parameter dan ada yang tidak menggunakan parameter, yang tidak menggunakan parameter: maka akan diambil data terakhir, yang menggunakan parameter : maka akan diambil data yang diiinginkan"
   ],
   "metadata": {}
  },
  {
   "cell_type": "code",
   "execution_count": 14,
   "source": [
    "z = [100, 'Cinguri', 29.5, True]\r\n",
    "z.pop()\r\n",
    "print(z)\r\n",
    "z.pop(1)\r\n",
    "print(z)"
   ],
   "outputs": [
    {
     "output_type": "stream",
     "name": "stdout",
     "text": [
      "[100, 'Cinguri', 29.5]\n",
      "[100, 29.5]\n"
     ]
    }
   ],
   "metadata": {}
  },
  {
   "cell_type": "markdown",
   "source": [
    "remove list itu hanya menghapus 1 data yang ada di list, berikut ini, kita buatkan fungsi remove_all dengan parameter pertama adalah list dan parameter ke 2 adalah data yang akan dihapus"
   ],
   "metadata": {}
  },
  {
   "cell_type": "code",
   "execution_count": 1,
   "source": [
    "def remove_all(list, value):\r\n",
    "    total_data = list.count(value)\r\n",
    "    print(\"jumlah \", value, \" adalah \", total_data)\r\n",
    "    while total_data > 0:\r\n",
    "        list.remove(value)\r\n",
    "        print(list)\r\n",
    "        total_data = total_data - 1\r\n",
    "    return list\r\n",
    "\r\n",
    "a = [4, 4, 5, 6, 7, 9, 4, 4]\r\n",
    "\r\n",
    "remove_all(a, 4)"
   ],
   "outputs": [
    {
     "output_type": "stream",
     "name": "stdout",
     "text": [
      "jumlah  4  adalah  4\n",
      "[4, 5, 6, 7, 9, 4, 4]\n",
      "[5, 6, 7, 9, 4, 4]\n",
      "[5, 6, 7, 9, 4]\n",
      "[5, 6, 7, 9]\n"
     ]
    },
    {
     "output_type": "execute_result",
     "data": {
      "text/plain": [
       "[5, 6, 7, 9]"
      ]
     },
     "metadata": {},
     "execution_count": 1
    }
   ],
   "metadata": {}
  },
  {
   "cell_type": "code",
   "execution_count": 3,
   "source": [
    "def remove_all(data, value):\r\n",
    "    total_data = data.count(value)\r\n",
    "    print(\"jumlah \", value, \" adalah \", total_data)\r\n",
    "    while total_data > 0:\r\n",
    "        data.remove(value)\r\n",
    "        print(\"isi list saat ini adalah \", data)\r\n",
    "        total_data = total_data - 1\r\n",
    "        print('total data saat ini adalah', total_data)\r\n",
    "    return data\r\n",
    "\r\n",
    "# a = [4, 4, 5, 6, 7, 9, 4, 4]\r\n",
    "\r\n",
    "# remove_all(a, 4)\r\n",
    "\r\n",
    "x = [2, 4, 3, 5, 7, 2, 2, 3]\r\n",
    "remove_all(x, 2)"
   ],
   "outputs": [
    {
     "output_type": "stream",
     "name": "stdout",
     "text": [
      "jumlah  2  adalah  3\n",
      "isi list saat ini adalah  [4, 3, 5, 7, 2, 2, 3]\n",
      "total data saat ini adalah 2\n",
      "isi list saat ini adalah  [4, 3, 5, 7, 2, 3]\n",
      "total data saat ini adalah 1\n",
      "isi list saat ini adalah  [4, 3, 5, 7, 3]\n",
      "total data saat ini adalah 0\n"
     ]
    },
    {
     "output_type": "execute_result",
     "data": {
      "text/plain": [
       "[4, 3, 5, 7, 3]"
      ]
     },
     "metadata": {},
     "execution_count": 3
    }
   ],
   "metadata": {}
  },
  {
   "cell_type": "markdown",
   "source": [
    "Hari ini belajar set. Set adalah tipe data yang diawali dan diakhiri dengan kurung kurawal: {} dengan banyak tipe data dan tidak dapat berisi nilai yang duplicate/ganda"
   ],
   "metadata": {}
  },
  {
   "cell_type": "code",
   "execution_count": 2,
   "source": [
    "x = {1, 1, 3, 3, \"a\", \"a\", 4}\r\n",
    "print(x)"
   ],
   "outputs": [
    {
     "output_type": "stream",
     "name": "stdout",
     "text": [
      "{1, 'a', 3, 4}\n"
     ]
    }
   ],
   "metadata": {}
  },
  {
   "cell_type": "markdown",
   "source": [
    "Hari ini belajar tentang tuple. Tuple adalah tipe data yang dapat diurutkan, tidak dapat diubah, dan diperbolehkan men-duplicate atau men-gandakan suatu nilai dalam tipe data tersebut. Dapat diakses dengan index."
   ],
   "metadata": {}
  },
  {
   "cell_type": "code",
   "execution_count": 5,
   "source": [
    "b = (1, 1, 2, \"nilai\", \"value\", 3, 3)\r\n",
    "type(b)"
   ],
   "outputs": [
    {
     "output_type": "execute_result",
     "data": {
      "text/plain": [
       "tuple"
      ]
     },
     "metadata": {},
     "execution_count": 5
    }
   ],
   "metadata": {}
  },
  {
   "cell_type": "code",
   "execution_count": 6,
   "source": [
    "b = (1, 1, 2, \"nilai\", \"value\", 3, 3)\r\n",
    "b[3]"
   ],
   "outputs": [
    {
     "output_type": "execute_result",
     "data": {
      "text/plain": [
       "'nilai'"
      ]
     },
     "metadata": {},
     "execution_count": 6
    }
   ],
   "metadata": {}
  },
  {
   "cell_type": "markdown",
   "source": [
    "Isi dari tuple tidak dapat diubah (unchangeable), berikut contoh kode di bawah ini:"
   ],
   "metadata": {}
  },
  {
   "cell_type": "code",
   "execution_count": 7,
   "source": [
    "b = (1, 1, 2, \"nilai\", \"value\", 3, 3)\r\n",
    "b[3] = \"Cengir\""
   ],
   "outputs": [
    {
     "output_type": "error",
     "ename": "TypeError",
     "evalue": "'tuple' object does not support item assignment",
     "traceback": [
      "\u001b[1;31m---------------------------------------------------------------------------\u001b[0m",
      "\u001b[1;31mTypeError\u001b[0m                                 Traceback (most recent call last)",
      "\u001b[1;32m<ipython-input-7-4f0647681086>\u001b[0m in \u001b[0;36m<module>\u001b[1;34m\u001b[0m\n\u001b[0;32m      1\u001b[0m \u001b[0mb\u001b[0m \u001b[1;33m=\u001b[0m \u001b[1;33m(\u001b[0m\u001b[1;36m1\u001b[0m\u001b[1;33m,\u001b[0m \u001b[1;36m1\u001b[0m\u001b[1;33m,\u001b[0m \u001b[1;36m2\u001b[0m\u001b[1;33m,\u001b[0m \u001b[1;34m\"nilai\"\u001b[0m\u001b[1;33m,\u001b[0m \u001b[1;34m\"value\"\u001b[0m\u001b[1;33m,\u001b[0m \u001b[1;36m3\u001b[0m\u001b[1;33m,\u001b[0m \u001b[1;36m3\u001b[0m\u001b[1;33m)\u001b[0m\u001b[1;33m\u001b[0m\u001b[1;33m\u001b[0m\u001b[0m\n\u001b[1;32m----> 2\u001b[1;33m \u001b[0mb\u001b[0m\u001b[1;33m[\u001b[0m\u001b[1;36m3\u001b[0m\u001b[1;33m]\u001b[0m \u001b[1;33m=\u001b[0m \u001b[1;34m\"Cengir\"\u001b[0m\u001b[1;33m\u001b[0m\u001b[1;33m\u001b[0m\u001b[0m\n\u001b[0m",
      "\u001b[1;31mTypeError\u001b[0m: 'tuple' object does not support item assignment"
     ]
    }
   ],
   "metadata": {}
  },
  {
   "cell_type": "markdown",
   "source": [
    "Hari ini belajar membuat kode dari perintah \"Loop through and print out all even numbers from the numbers list in the same order they are received. Don't print any numbers that come after 237 in the sequence\" = \"Ulangi dan cetak semua nomor genap dari daftar nomor dengan urutan yang sama saat diterima. Jangan mencetak angka yang muncul setelah 237 secara berurutan\". Berikut kode di bawah ini:"
   ],
   "metadata": {}
  },
  {
   "cell_type": "code",
   "execution_count": 5,
   "source": [
    "numbers = [\r\n",
    "    951, 402, 984, 651, 360, 69, 408, 319, 601, 485, 980, 507, 725, 547, 544,\r\n",
    "    615, 83, 165, 141, 501, 263, 617, 865, 575, 219, 390, 984, 592, 236, 105, 942, 941,\r\n",
    "    386, 462, 47, 418, 907, 344, 236, 375, 823, 566, 597, 978, 328, 615, 953, 345,\r\n",
    "    399, 162, 758, 219, 918, 237, 412, 566, 826, 248, 866, 950, 626, 949, 687, 217,\r\n",
    "    815, 67, 104, 58, 512, 24, 892, 894, 767, 553, 81, 379, 843, 831, 445, 742, 717,\r\n",
    "    958, 609, 842, 451, 688, 753, 854, 685, 93, 857, 440, 380, 126, 721, 328, 753, 470,\r\n",
    "    743, 527\r\n",
    "]\r\n",
    "\r\n",
    "def even_number(value):\r\n",
    "    output = False\r\n",
    "    if value % 2 == 0:\r\n",
    "        output = True\r\n",
    "    return output\r\n",
    "\r\n",
    "for value in numbers:\r\n",
    "    if value == 237:\r\n",
    "        break\r\n",
    "    else:\r\n",
    "        if even_number(value):\r\n",
    "            print(value)"
   ],
   "outputs": [
    {
     "output_type": "stream",
     "name": "stdout",
     "text": [
      "402\n",
      "984\n",
      "360\n",
      "408\n",
      "980\n",
      "544\n",
      "390\n",
      "984\n",
      "592\n",
      "236\n",
      "942\n",
      "386\n",
      "462\n",
      "418\n",
      "344\n",
      "236\n",
      "566\n",
      "978\n",
      "328\n",
      "162\n",
      "758\n",
      "918\n"
     ]
    }
   ],
   "metadata": {}
  },
  {
   "cell_type": "markdown",
   "source": [
    "Hari ini belajar tipe data \"dictionary\". Dictionary adalah tipe data yang bisa menampung data dalam format multi key dan value. "
   ],
   "metadata": {}
  },
  {
   "cell_type": "code",
   "execution_count": 7,
   "source": [
    "x = { 1 : \"Afiya\", 2 : \"Fadlan\", 3 : \"Ara\", 4 : \"Emprit\", 21 : \"McPout\" }\r\n",
    "for key in x:\r\n",
    "    print(\"Kunci: \", key, \"; Nilai: \", x[key])\r\n",
    "type(x)"
   ],
   "outputs": [
    {
     "output_type": "stream",
     "name": "stdout",
     "text": [
      "Kunci:  1 ; Nilai:  Afiya\n",
      "Kunci:  2 ; Nilai:  Fadlan\n",
      "Kunci:  3 ; Nilai:  Ara\n",
      "Kunci:  4 ; Nilai:  Emprit\n",
      "Kunci:  21 ; Nilai:  McPout\n"
     ]
    },
    {
     "output_type": "execute_result",
     "data": {
      "text/plain": [
       "dict"
      ]
     },
     "metadata": {},
     "execution_count": 7
    }
   ],
   "metadata": {}
  },
  {
   "cell_type": "markdown",
   "source": [
    "Key dan value bisa berupa tipe data apapun. Berikut contohnya:"
   ],
   "metadata": {}
  },
  {
   "cell_type": "code",
   "execution_count": 11,
   "source": [
    "b = { \"a\" : 100, 1 : \"satu satu\", 8.9 : \"Testing\" }\r\n",
    "print(b)\r\n",
    "print(b[\"a\"])\r\n",
    "print(b[1])\r\n",
    "print(b[8.9])\r\n",
    "\r\n",
    "for key in b:\r\n",
    "    print(\"Kunci: \", key, \"; Nilai: \", b[key])"
   ],
   "outputs": [
    {
     "output_type": "stream",
     "name": "stdout",
     "text": [
      "{'a': 100, 1: 'satu satu', 8.9: 'Testing'}\n",
      "100\n",
      "satu satu\n",
      "Testing\n",
      "Kunci:  a ; Nilai:  100\n",
      "Kunci:  1 ; Nilai:  satu satu\n",
      "Kunci:  8.9 ; Nilai:  Testing\n"
     ]
    }
   ],
   "metadata": {}
  }
 ],
 "metadata": {
  "orig_nbformat": 4,
  "language_info": {
   "name": "python",
   "version": "3.8.8",
   "mimetype": "text/x-python",
   "codemirror_mode": {
    "name": "ipython",
    "version": 3
   },
   "pygments_lexer": "ipython3",
   "nbconvert_exporter": "python",
   "file_extension": ".py"
  },
  "kernelspec": {
   "name": "python3",
   "display_name": "Python 3.8.8 64-bit ('base': conda)"
  },
  "interpreter": {
   "hash": "dbb356785411bb90f51a39a98b4eeb0e18a4f0bf1eae5e246faed5d4bd7da4d6"
  }
 },
 "nbformat": 4,
 "nbformat_minor": 2
}