{
 "cells": [
  {
   "cell_type": "markdown",
   "metadata": {},
   "source": [
    "malam ini belajar tipe data list. List adalah tipe data yang menampung multi atau banyak data dengan tipe data yang beragam (bisa semuanya itu float, bisa semuanya itu int, bisa perpaduan antara float dengan int, dan sebagainya). Untuk mengakses nilai dalam list, gunakan index. Dimana index dimulai dari 0."
   ]
  },
  {
   "cell_type": "code",
   "execution_count": 1,
   "metadata": {},
   "outputs": [
    {
     "data": {
      "text/plain": [
       "'Emprit'"
      ]
     },
     "execution_count": 1,
     "metadata": {},
     "output_type": "execute_result"
    }
   ],
   "source": [
    "b = [23, False, 'Emprit']\n",
    "b[2]"
   ]
  },
  {
   "cell_type": "code",
   "execution_count": 2,
   "metadata": {},
   "outputs": [
    {
     "name": "stdout",
     "output_type": "stream",
     "text": [
      "23\n",
      "False\n",
      "Emprit\n"
     ]
    }
   ],
   "source": [
    "for value in b:\n",
    "    print(value)\n",
    "    "
   ]
  },
  {
   "cell_type": "markdown",
   "metadata": {},
   "source": [
    "mengambil nilai list dari index tertentu. Info: index dimulai dari 0"
   ]
  },
  {
   "cell_type": "code",
   "execution_count": 1,
   "metadata": {},
   "outputs": [
    {
     "name": "stdout",
     "output_type": "stream",
     "text": [
      "True\n",
      "20\n"
     ]
    }
   ],
   "source": [
    "z = [20, 'Cinguri', 29.5, True]\n",
    "print(z[3])\n",
    "print(z[0])"
   ]
  },
  {
   "cell_type": "markdown",
   "metadata": {},
   "source": [
    "untuk mengganti dalam list, bisa dengan melakukan assignment ke index suatu list"
   ]
  },
  {
   "cell_type": "code",
   "execution_count": 3,
   "metadata": {},
   "outputs": [
    {
     "data": {
      "text/plain": [
       "[100, 'Cinguri', 29.5, True]"
      ]
     },
     "execution_count": 3,
     "metadata": {},
     "output_type": "execute_result"
    }
   ],
   "source": [
    "z[0] = 100\n",
    "z"
   ]
  },
  {
   "cell_type": "markdown",
   "metadata": {},
   "source": [
    "proses menambahkan data di list, bisa menggunakan append (data akan ditaruh dalam posisi belakang), atau insert (membutuhkan parameter yang pertama adalah index dimana data akan di insert, parameter ke 2 merupakan data yang akan di insert)"
   ]
  },
  {
   "cell_type": "code",
   "execution_count": 8,
   "metadata": {},
   "outputs": [
    {
     "name": "stdout",
     "output_type": "stream",
     "text": [
      "[100, 'Cinguri', 29.5, True]\n",
      "['Moses', 100, 'Cinguri', 29.5, True]\n"
     ]
    },
    {
     "data": {
      "text/plain": [
       "['Moses', 'Samuel', 100, 'Cinguri', 29.5, True]"
      ]
     },
     "execution_count": 8,
     "metadata": {},
     "output_type": "execute_result"
    }
   ],
   "source": [
    "z = [100, 'Cinguri', 29.5, True]\n",
    "print(z)\n",
    "z.insert(0, 'Moses')\n",
    "print(z)\n",
    "z.insert(1, 'Samuel')\n",
    "z"
   ]
  },
  {
   "cell_type": "markdown",
   "metadata": {},
   "source": [
    "fungsi pop adalah untuk mengambil suatu data dari list, pop ada yang menggunakan parameter dan ada yang tidak menggunakan parameter, yang tidak menggunakan parameter: maka akan diambil data terakhir, yang menggunakan parameter : maka akan diambil data yang diiinginkan"
   ]
  },
  {
   "cell_type": "code",
   "execution_count": 14,
   "metadata": {},
   "outputs": [
    {
     "name": "stdout",
     "output_type": "stream",
     "text": [
      "[100, 'Cinguri', 29.5]\n",
      "[100, 29.5]\n"
     ]
    }
   ],
   "source": [
    "z = [100, 'Cinguri', 29.5, True]\n",
    "z.pop()\n",
    "print(z)\n",
    "z.pop(1)\n",
    "print(z)"
   ]
  },
  {
   "cell_type": "markdown",
   "metadata": {},
   "source": [
    "remove list itu hanya menghapus 1 data yang ada di list, berikut ini, kita buatkan fungsi remove_all dengan parameter pertama adalah list dan parameter ke 2 adalah data yang akan dihapus"
   ]
  },
  {
   "cell_type": "code",
   "execution_count": 1,
   "metadata": {},
   "outputs": [
    {
     "name": "stdout",
     "output_type": "stream",
     "text": [
      "jumlah  4  adalah  4\n",
      "[4, 5, 6, 7, 9, 4, 4]\n",
      "[5, 6, 7, 9, 4, 4]\n",
      "[5, 6, 7, 9, 4]\n",
      "[5, 6, 7, 9]\n"
     ]
    },
    {
     "data": {
      "text/plain": [
       "[5, 6, 7, 9]"
      ]
     },
     "execution_count": 1,
     "metadata": {},
     "output_type": "execute_result"
    }
   ],
   "source": [
    "def remove_all(list, value):\n",
    "    total_data = list.count(value)\n",
    "    print(\"jumlah \", value, \" adalah \", total_data)\n",
    "    while total_data > 0:\n",
    "        list.remove(value)\n",
    "        print(list)\n",
    "        total_data = total_data - 1\n",
    "    return list\n",
    "\n",
    "a = [4, 4, 5, 6, 7, 9, 4, 4]\n",
    "\n",
    "remove_all(a, 4)"
   ]
  },
  {
   "cell_type": "code",
   "execution_count": 21,
   "metadata": {},
   "outputs": [
    {
     "name": "stdout",
     "output_type": "stream",
     "text": [
      "jumlah  2  adalah  3\n",
      "isi list saat ini adalah  [4, 3, 5, 7, 2, 2, 3]\n",
      "total data saat ini adalah 2\n",
      "isi list saat ini adalah  [4, 3, 5, 7, 2, 3]\n",
      "total data saat ini adalah 1\n",
      "isi list saat ini adalah  [4, 3, 5, 7, 3]\n",
      "total data saat ini adalah 0\n"
     ]
    },
    {
     "data": {
      "text/plain": [
       "[4, 3, 5, 7, 3]"
      ]
     },
     "execution_count": 21,
     "metadata": {},
     "output_type": "execute_result"
    }
   ],
   "source": [
    "def remove_all(data, value):\n",
    "    total_data = data.count(value)\n",
    "    print(\"jumlah \", value, \" adalah \", total_data)\n",
    "    while total_data > 0:\n",
    "        data.remove(value)\n",
    "        print(\"isi list saat ini adalah \", data)\n",
    "        total_data = total_data - 1\n",
    "        print('total data saat ini adalah', total_data)\n",
    "    return data\n",
    "\n",
    "# a = [4, 4, 5, 6, 7, 9, 4, 4]\n",
    "\n",
    "# remove_all(a, 4)\n",
    "\n",
    "x = [2, 4, 3, 5, 7, 2, 2, 3]\n",
    "remove_all(x, 2)"
   ]
  },
  {
   "cell_type": "markdown",
   "metadata": {},
   "source": [
    "Hari ini belajar set. Set adalah tipe data yang diawali dan diakhiri dengan kurung kurawal: {} dengan banyak tipe data dan tidak dapat berisi nilai yang duplicate/ganda"
   ]
  },
  {
   "cell_type": "code",
   "execution_count": 2,
   "metadata": {},
   "outputs": [
    {
     "name": "stdout",
     "output_type": "stream",
     "text": [
      "{1, 'a', 3, 4}\n"
     ]
    }
   ],
   "source": [
    "x = {1, 1, 3, 3, \"a\", \"a\", 4}\n",
    "print(x)"
   ]
  },
  {
   "cell_type": "markdown",
   "metadata": {},
   "source": [
    "Hari ini belajar tentang tuple. Tuple adalah tipe data yang dapat diurutkan, tidak dapat diubah, dan diperbolehkan men-duplicate atau men-gandakan suatu nilai dalam tipe data tersebut. Dapat diakses dengan index."
   ]
  },
  {
   "cell_type": "code",
   "execution_count": 5,
   "metadata": {},
   "outputs": [
    {
     "data": {
      "text/plain": [
       "tuple"
      ]
     },
     "execution_count": 5,
     "metadata": {},
     "output_type": "execute_result"
    }
   ],
   "source": [
    "b = (1, 1, 2, \"nilai\", \"value\", 3, 3)\n",
    "type(b)"
   ]
  },
  {
   "cell_type": "code",
   "execution_count": 6,
   "metadata": {},
   "outputs": [
    {
     "data": {
      "text/plain": [
       "'nilai'"
      ]
     },
     "execution_count": 6,
     "metadata": {},
     "output_type": "execute_result"
    }
   ],
   "source": [
    "b = (1, 1, 2, \"nilai\", \"value\", 3, 3)\n",
    "b[3]"
   ]
  },
  {
   "cell_type": "markdown",
   "metadata": {},
   "source": [
    "Isi dari tuple tidak dapat diubah (unchangeable), berikut contoh kode di bawah ini:"
   ]
  },
  {
   "cell_type": "code",
   "execution_count": 7,
   "metadata": {},
   "outputs": [
    {
     "ename": "TypeError",
     "evalue": "'tuple' object does not support item assignment",
     "output_type": "error",
     "traceback": [
      "\u001b[1;31m---------------------------------------------------------------------------\u001b[0m",
      "\u001b[1;31mTypeError\u001b[0m                                 Traceback (most recent call last)",
      "\u001b[1;32m<ipython-input-7-4f0647681086>\u001b[0m in \u001b[0;36m<module>\u001b[1;34m\u001b[0m\n\u001b[0;32m      1\u001b[0m \u001b[0mb\u001b[0m \u001b[1;33m=\u001b[0m \u001b[1;33m(\u001b[0m\u001b[1;36m1\u001b[0m\u001b[1;33m,\u001b[0m \u001b[1;36m1\u001b[0m\u001b[1;33m,\u001b[0m \u001b[1;36m2\u001b[0m\u001b[1;33m,\u001b[0m \u001b[1;34m\"nilai\"\u001b[0m\u001b[1;33m,\u001b[0m \u001b[1;34m\"value\"\u001b[0m\u001b[1;33m,\u001b[0m \u001b[1;36m3\u001b[0m\u001b[1;33m,\u001b[0m \u001b[1;36m3\u001b[0m\u001b[1;33m)\u001b[0m\u001b[1;33m\u001b[0m\u001b[1;33m\u001b[0m\u001b[0m\n\u001b[1;32m----> 2\u001b[1;33m \u001b[0mb\u001b[0m\u001b[1;33m[\u001b[0m\u001b[1;36m3\u001b[0m\u001b[1;33m]\u001b[0m \u001b[1;33m=\u001b[0m \u001b[1;34m\"Cengir\"\u001b[0m\u001b[1;33m\u001b[0m\u001b[1;33m\u001b[0m\u001b[0m\n\u001b[0m",
      "\u001b[1;31mTypeError\u001b[0m: 'tuple' object does not support item assignment"
     ]
    }
   ],
   "source": [
    "b = (1, 1, 2, \"nilai\", \"value\", 3, 3)\n",
    "b[3] = \"Cengir\""
   ]
  },
  {
   "cell_type": "markdown",
   "metadata": {},
   "source": [
    "Hari ini belajar membuat kode dari perintah \"Loop through and print out all even numbers from the numbers list in the same order they are received. Don't print any numbers that come after 237 in the sequence\" = \"Ulangi dan cetak semua nomor genap dari daftar nomor dengan urutan yang sama saat diterima. Jangan mencetak angka yang muncul setelah 237 secara berurutan\". Berikut kode di bawah ini:"
   ]
  },
  {
   "cell_type": "code",
   "execution_count": 5,
   "metadata": {},
   "outputs": [
    {
     "name": "stdout",
     "output_type": "stream",
     "text": [
      "402\n",
      "984\n",
      "360\n",
      "408\n",
      "980\n",
      "544\n",
      "390\n",
      "984\n",
      "592\n",
      "236\n",
      "942\n",
      "386\n",
      "462\n",
      "418\n",
      "344\n",
      "236\n",
      "566\n",
      "978\n",
      "328\n",
      "162\n",
      "758\n",
      "918\n"
     ]
    }
   ],
   "source": [
    "numbers = [\n",
    "    951, 402, 984, 651, 360, 69, 408, 319, 601, 485, 980, 507, 725, 547, 544,\n",
    "    615, 83, 165, 141, 501, 263, 617, 865, 575, 219, 390, 984, 592, 236, 105, 942, 941,\n",
    "    386, 462, 47, 418, 907, 344, 236, 375, 823, 566, 597, 978, 328, 615, 953, 345,\n",
    "    399, 162, 758, 219, 918, 237, 412, 566, 826, 248, 866, 950, 626, 949, 687, 217,\n",
    "    815, 67, 104, 58, 512, 24, 892, 894, 767, 553, 81, 379, 843, 831, 445, 742, 717,\n",
    "    958, 609, 842, 451, 688, 753, 854, 685, 93, 857, 440, 380, 126, 721, 328, 753, 470,\n",
    "    743, 527\n",
    "]\n",
    "\n",
    "def even_number(value):\n",
    "    output = False\n",
    "    if value % 2 == 0:\n",
    "        output = True\n",
    "    return output\n",
    "\n",
    "for value in numbers:\n",
    "    if value == 237:\n",
    "        break\n",
    "    else:\n",
    "        if even_number(value):\n",
    "            print(value)"
   ]
  },
  {
   "cell_type": "markdown",
   "metadata": {},
   "source": [
    "Hari ini belajar tipe data \"dictionary\". Dictionary adalah tipe data yang bisa menampung data dalam format multi key dan value. Dictionary menggunakan kurung kurawal."
   ]
  },
  {
   "cell_type": "code",
   "execution_count": 20,
   "metadata": {},
   "outputs": [
    {
     "name": "stdout",
     "output_type": "stream",
     "text": [
      "Kunci:  1 ; Nilai:  Afiya\n",
      "Kunci:  2 ; Nilai:  Fadlan\n",
      "Kunci:  3 ; Nilai:  Ara\n",
      "Kunci:  4 ; Nilai:  Emprit\n",
      "Kunci:  21 ; Nilai:  McPout\n"
     ]
    },
    {
     "data": {
      "text/plain": [
       "dict"
      ]
     },
     "execution_count": 20,
     "metadata": {},
     "output_type": "execute_result"
    }
   ],
   "source": [
    "x = { 1 : \"Afiya\", 2 : \"Fadlan\", 3 : \"Ara\", 4 : \"Emprit\", 21 : \"McPout\" }\n",
    "for key in x:\n",
    "    print(\"Kunci: \", key, \"; Nilai: \", x[key])\n",
    "type(x)"
   ]
  },
  {
   "cell_type": "markdown",
   "metadata": {},
   "source": [
    "Key dan value bisa berupa tipe data apapun. Berikut contohnya:"
   ]
  },
  {
   "cell_type": "code",
   "execution_count": 11,
   "metadata": {},
   "outputs": [
    {
     "name": "stdout",
     "output_type": "stream",
     "text": [
      "{'a': 100, 1: 'satu satu', 8.9: 'Testing'}\n",
      "100\n",
      "satu satu\n",
      "Testing\n",
      "Kunci:  a ; Nilai:  100\n",
      "Kunci:  1 ; Nilai:  satu satu\n",
      "Kunci:  8.9 ; Nilai:  Testing\n"
     ]
    }
   ],
   "source": [
    "b = { \"a\" : 100, 1 : \"satu satu\", 8.9 : \"Testing\" }\n",
    "print(b)\n",
    "print(b[\"a\"])\n",
    "print(b[1])\n",
    "print(b[8.9])\n",
    "\n",
    "for key in b:\n",
    "    print(\"Kunci: \", key, \"; Nilai: \", b[key])"
   ]
  },
  {
   "cell_type": "markdown",
   "metadata": {},
   "source": [
    "Untuk mengetahui suatu nilai dalam list/set/tuple, gunakan fungsi index. Berikut contohnya:"
   ]
  },
  {
   "cell_type": "code",
   "execution_count": 5,
   "metadata": {},
   "outputs": [
    {
     "name": "stdout",
     "output_type": "stream",
     "text": [
      "0\n",
      "4\n",
      "1\n"
     ]
    }
   ],
   "source": [
    "b = [\"Angka\", 2, \"McPout\", 8.9, \"gunung\"]\n",
    "print(b.index(\"Angka\"))\n",
    "print(b.index(\"gunung\"))\n",
    "print(b.index(2))"
   ]
  },
  {
   "cell_type": "markdown",
   "metadata": {},
   "source": [
    "Dictionary tidak diperkenankan key yang ganda atau duplicate. Jika kita medefinisikan key yang sama, maka value yang diambil adalah value yang terakhir.  "
   ]
  },
  {
   "cell_type": "code",
   "execution_count": 22,
   "metadata": {},
   "outputs": [
    {
     "data": {
      "text/plain": [
       "{'a': 8, 'e': 'Empriti', 'c': 2, 'd': 7.5}"
      ]
     },
     "execution_count": 22,
     "metadata": {},
     "output_type": "execute_result"
    }
   ],
   "source": [
    "x = {\"a\" : 8, \"e\" : 4, \"c\" : 2, \"d\" : 7.5, \"e\" : \"Empriti\"}\n",
    "x"
   ]
  },
  {
   "cell_type": "markdown",
   "metadata": {},
   "source": [
    "Membuat dictionary kosongan dan menambahkan key dan value dalam dictionary tersebut. Berikut contoh dibawah:"
   ]
  },
  {
   "cell_type": "code",
   "execution_count": 25,
   "metadata": {},
   "outputs": [
    {
     "name": "stdout",
     "output_type": "stream",
     "text": [
      "{1: 'Belajar Python'}\n",
      "{1: 'Belajar Python', 2: 'Setip bobok'}\n",
      "{1: 'Belajar Python', 2: 'Setipi'}\n"
     ]
    }
   ],
   "source": [
    "res = {}\n",
    "res[1] = \"Belajar Python\"\n",
    "print(res)\n",
    "res[2] = \"Setip bobok\"\n",
    "print(res)\n",
    "res[2] = \"Setipi\"\n",
    "print(res)"
   ]
  },
  {
   "cell_type": "markdown",
   "metadata": {},
   "source": [
    "Operator // artinya adalah floor division. Floor division artinya nilai terkecil terdekat dari suatu pembagian"
   ]
  },
  {
   "cell_type": "code",
   "execution_count": 5,
   "metadata": {},
   "outputs": [
    {
     "name": "stdout",
     "output_type": "stream",
     "text": [
      "25.0\n",
      "25.0\n",
      "25.0\n",
      "25\n"
     ]
    }
   ],
   "source": [
    "print(127.5 // 5)   \n",
    "print(127.9 // 5)\n",
    "print(127.1 // 5)\n",
    "print(127 // 5)"
   ]
  },
  {
   "cell_type": "markdown",
   "metadata": {},
   "source": [
    "Instructions\n",
    "Your friend Chandler plans to visit exotic countries all around the world. Sadly, Chandler's math skills aren't good. He's pretty worried about being scammed by currency exchanges during his trip - and he wants you to make a currency calculator for him. Here are his specifications for the app:\n",
    "\n",
    "1. Estimate value after exchange\n",
    "Create the exchange_money() function, taking 2 parameters:\n",
    "\n",
    "budget : The amount of money you are planning to exchange.\n",
    "exchange_rate : Unit value of the foreign currency.\n",
    "This function should return the value of the exchanged currency.\n",
    "\n",
    "Note: If your currency is USD and you want to exchange USD for EUR with an exchange rate of 1.20, then 1.20 USD == 1 EUR.\n",
    "\n",
    ">>> exchange_money(127.5, 1.2)\n",
    "106.25\n",
    "2. Calculate currency left after an exchange\n",
    "Create the get_change() function, taking 2 parameters:\n",
    "\n",
    "budget : Amount of money before exchange.\n",
    "exchanging_value : Amount of money that is taken from the budget to be exchanged.\n",
    "This function should return the amount of money that is left from the budget.\n",
    "\n",
    ">>> get_change(127.5, 120)\n",
    "7.5\n",
    "3. Calculate value of bills\n",
    "Create the get_value_of_bills() function, taking 2 parameters:\n",
    "\n",
    "denomination : The value of a single bill.\n",
    "number_of_bills : Amount of bills you received.\n",
    "This function should return the total value of the given bills.\n",
    "\n",
    ">>> get_value_of_bills(5, 128)\n",
    "640\n",
    "4. Calculate number of bills\n",
    "Create the get_number_of_bills() function, taking budget and denomination.\n",
    "\n",
    "This function should return the number of bills that you can get using the budget. **Note: ** You can only receive whole bills, not fractions of bills, so remember to divide accordingly.\n",
    "\n",
    ">>> get_number_of_bills(127.5, 5)\n",
    "25\n",
    "5. Calculate value after exchange\n",
    "Create the exchangeable_value() function, taking budget, exchange_rate, spread, and denomination.\n",
    "\n",
    "Parameter spread is the percentage taken as an exchange fee. If 1.00 EUR == 1.20 USD and the spread is 10, the actual exchange will be: 1.00 EUR == 1.32 USD.\n",
    "\n",
    "This function should return the maximum value of the new currency after calculating the exchange rate plus the spread. Remember that the currency denomination is a whole number, and cannot be sub-divided.\n",
    "\n",
    "Note: Returned value should be int type.\n",
    "\n",
    ">>> exchangeable_value(127.25, 1.20, 10, 20)\n",
    "80\n",
    ">>> exchangeable_value(127.25, 1.20, 10, 5)\n",
    "95\n",
    "6. Calculate non-exchangeable value\n",
    "Create the non_exchangeable_value() function, taking budget, exchange_rate, spread, and denomination.\n",
    "\n",
    "This function should return the value that is not exchangeable due to the denomination of the bills.\n",
    "\n",
    "Note: Returned value should be int type.\n",
    "\n",
    ">>> non_exchangeable_value(127.25, 1.20, 10, 20)\n",
    "16\n",
    ">>> non_exchangeable_value(127.25, 1.20, 10, 5)\n",
    "1"
   ]
  },
  {
   "cell_type": "code",
   "execution_count": null,
   "metadata": {},
   "outputs": [],
   "source": [
    "def exchange_money(budget, exchange_rate):\n",
    "    \"\"\"\n",
    "\n",
    "    :param budget: float - amount of money you are planning to exchange.\n",
    "    :param exchange_rate: float - unit value of the foreign currency.\n",
    "    :return: float - exchanged value of the foreign currency you can receive.\n",
    "    \"\"\"\n",
    "\n",
    "    return budget / exchange_rate\n",
    "\n",
    "\n",
    "def get_change(budget, exchanging_value):\n",
    "    \"\"\"\n",
    "\n",
    "    :param budget: float - amount of money you own.\n",
    "    :param exchanging_value: int - amount of your money you want to exchange now.\n",
    "    :return: float - amount left of your starting currency after exchanging.\n",
    "    \"\"\"\n",
    "\n",
    "    return budget - exchanging_value\n",
    "\n",
    "\n",
    "def get_value_of_bills(denomination, number_of_bills):\n",
    "    \"\"\"\n",
    "\n",
    "    :param denomination: int - the value of a bill.\n",
    "    :param number_of_bills: int - amount of bills you received.\n",
    "    :return: int - total value of bills you now have.\n",
    "    \"\"\"\n",
    "\n",
    "    return denomination * number_of_bills\n",
    "\n",
    "\n",
    "def get_number_of_bills(budget, denomination):\n",
    "    \"\"\"\n",
    "\n",
    "    :param budget: float - the amount of money you are planning to exchange.\n",
    "    :param denomination: int - the value of a single bill.\n",
    "    :return: int - number of bills after exchanging all your money.\n",
    "    \"\"\"\n",
    "\n",
    "    return budget // denomination\n",
    "\n",
    "\n",
    "def exchangeable_value(budget, exchange_rate, spread, denomination):\n",
    "    \"\"\"\n",
    "\n",
    "    :param budget: float - the amount of your money you are planning to exchange.\n",
    "    :param exchange_rate: float - the unit value of the foreign currency.\n",
    "    :param spread: int - percentage that is taken as an exchange fee.\n",
    "    :param denomination: int - the value of a single bill.\n",
    "    :return: int - maximum value you can get.\n",
    "    \"\"\"\n",
    "\n",
    "    return ((budget/(exchange_rate+exchange_rate*spread/100))//denomination)*denomination\n",
    "\n",
    "def non_exchangeable_value(budget, exchange_rate, spread, denomination):\n",
    "    \"\"\"\n",
    "\n",
    "    :param budget: float - the amount of your money you are planning to exchange.\n",
    "    :param exchange_rate: float - the unit value of the foreign currency.\n",
    "    :param spread: int - percentage that is taken as an exchange fee.\n",
    "    :param denomination: int - the value of a single bill.\n",
    "    :return: int non-exchangeable value.\n",
    "    \"\"\"\n",
    "\n",
    "    return int((budget/(exchange_rate+exchange_rate*spread/100))%denomination) "
   ]
  },
  {
   "cell_type": "markdown",
   "metadata": {},
   "source": [
    "Berikut ini adalah test atas soal exchange"
   ]
  },
  {
   "cell_type": "code",
   "execution_count": null,
   "metadata": {},
   "outputs": [],
   "source": [
    "import unittest\n",
    "import pytest\n",
    "from exchange import (\n",
    "    exchange_money,\n",
    "    get_change,\n",
    "    get_value_of_bills,\n",
    "    get_number_of_bills,\n",
    "    exchangeable_value,\n",
    "    non_exchangeable_value\n",
    ")\n",
    "\n",
    "\n",
    "class CurrencyExchangeTest(unittest.TestCase):\n",
    "\n",
    "    @pytest.mark.task(taskno=1)\n",
    "    def test_exchange_money(self):\n",
    "        input_data = [(100000, 0.84), (700000, 10.1)]\n",
    "        output_data = [119047, 69306]\n",
    "        number_of_variants = range(1, len(input_data) + 1)\n",
    "\n",
    "        for variant, input, output in zip(number_of_variants, input_data, output_data):\n",
    "            with self.subTest(f\"variation #{variant}\", input=input, output=output):\n",
    "                self.assertEqual(int(exchange_money(input[0], input[1])), output)\n",
    "\n",
    "    @pytest.mark.task(taskno=2)\n",
    "    def test_get_change(self):\n",
    "        input_data = [(463000, 5000), (1250, 120), (15000, 1380)]\n",
    "        output_data = [458000, 1130, 13620]\n",
    "        number_of_variants = range(1, len(input_data) + 1)\n",
    "\n",
    "        for variant, input, output in zip(number_of_variants, input_data, output_data):\n",
    "            with self.subTest(f\"variation #{variant}\", input=input, output=output):\n",
    "                self.assertEqual(get_change(input[0], input[1]), output)\n",
    "\n",
    "    @pytest.mark.task(taskno=3)\n",
    "    def test_get_value_of_bills(self):\n",
    "        input_data = [(10000, 128), (50, 360), (200, 200)]\n",
    "        output_data = [1280000, 18000, 40000]\n",
    "        number_of_variants = range(1, len(input_data) + 1)\n",
    "\n",
    "        for variant, input, output in zip(number_of_variants, input_data, output_data):\n",
    "            with self.subTest(f\"variation #{variant}\", input=input, output=output):\n",
    "                self.assertEqual(get_value_of_bills(input[0], input[1]), output)\n",
    "\n",
    "    @pytest.mark.task(taskno=4)\n",
    "    def test_get_number_of_bills(self):\n",
    "        input_data = [(163270, 50000), (54361, 1000)]\n",
    "        output_data = [3, 54]\n",
    "        number_of_variants = range(1, len(input_data) + 1)\n",
    "\n",
    "        for variant, input, output in zip(number_of_variants, input_data, output_data):\n",
    "            with self.subTest(f\"variation #{variant}\", input=input, output=output):\n",
    "                self.assertEqual(get_number_of_bills(input[0], input[1]), output)\n",
    "\n",
    "    @pytest.mark.task(taskno=5)\n",
    "    def test_exchangeable_value(self):\n",
    "        input_data = [\n",
    "            (100000, 10.61, 10, 1),\n",
    "            (1500, 0.84, 25, 40),\n",
    "            (470000, 1050, 30, 10000000000),\n",
    "            (470000, 0.00000009, 30, 700),\n",
    "            (425.33, 0.0009, 30, 700)\n",
    "        ]\n",
    "        output_data = [8568, 1400, 0, 4017094016600, 363300]\n",
    "        number_of_variants = range(1, len(input_data) + 1)\n",
    "\n",
    "        for variant, input, output in zip(number_of_variants, input_data, output_data):\n",
    "            with self.subTest(f\"variation #{variant}\", input=input, output=output):\n",
    "                self.assertEqual(exchangeable_value(input[0], input[1], input[2], input[3]), output)\n",
    "\n",
    "    @pytest.mark.task(taskno=6)\n",
    "    def test_non_exchangeable_value(self):\n",
    "        input_data = [\n",
    "            (100000, 10.61, 10, 1),\n",
    "            (1500, 0.84, 25, 40),\n",
    "            (425.33, 0.0009, 30, 700),\n",
    "            (12000, 0.0096, 10, 50)\n",
    "        ]\n",
    "        output_data = [0, 28, 229, 13]\n",
    "        number_of_variants = range(1, len(input_data) + 1)\n",
    "\n",
    "        for variant, input, output in zip(number_of_variants, input_data, output_data):\n",
    "            with self.subTest(f\"variation #{variant}\", input=input, output=output):\n",
    "                self.assertEqual(non_exchangeable_value(input[0], input[1], input[2],\n",
    "                                                      input[3]), output)\n"
   ]
  }
 ],
 "metadata": {
  "interpreter": {
   "hash": "dbb356785411bb90f51a39a98b4eeb0e18a4f0bf1eae5e246faed5d4bd7da4d6"
  },
  "kernelspec": {
   "display_name": "Python 3.8.8 64-bit ('base': conda)",
   "name": "python3"
  },
  "language_info": {
   "codemirror_mode": {
    "name": "ipython",
    "version": 3
   },
   "file_extension": ".py",
   "mimetype": "text/x-python",
   "name": "python",
   "nbconvert_exporter": "python",
   "pygments_lexer": "ipython3",
   "version": "3.8.8"
  },
  "orig_nbformat": 4
 },
 "nbformat": 4,
 "nbformat_minor": 2
}
