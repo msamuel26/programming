{
 "cells": [
  {
   "cell_type": "markdown",
   "source": [
    "malam ini belajar tipe data list. List adalah tipe data yang menampung multi atau banyak data dengan tipe data yang beragam (bisa semuanya itu float, bisa semuanya itu int, bisa perpaduan antara float dengan int, dan sebagainya). Untuk mengakses nilai dalam list, gunakan index. Dimana index dimulai dari 0."
   ],
   "metadata": {}
  },
  {
   "cell_type": "code",
   "execution_count": 1,
   "source": [
    "b = [23, False, 'Emprit']\r\n",
    "b[2]"
   ],
   "outputs": [
    {
     "output_type": "execute_result",
     "data": {
      "text/plain": [
       "'Emprit'"
      ]
     },
     "metadata": {},
     "execution_count": 1
    }
   ],
   "metadata": {}
  },
  {
   "cell_type": "code",
   "execution_count": 2,
   "source": [
    "for value in b:\r\n",
    "    print(value)\r\n",
    "    "
   ],
   "outputs": [
    {
     "output_type": "stream",
     "name": "stdout",
     "text": [
      "23\n",
      "False\n",
      "Emprit\n"
     ]
    }
   ],
   "metadata": {}
  },
  {
   "cell_type": "markdown",
   "source": [
    "mengambil nilai list dari index tertentu. info: index dimulai dari 0"
   ],
   "metadata": {}
  },
  {
   "cell_type": "code",
   "execution_count": 1,
   "source": [
    "z = [20, 'Cinguri', 29.5, True]\r\n",
    "print(z[3])\r\n",
    "print(z[0])"
   ],
   "outputs": [
    {
     "output_type": "stream",
     "name": "stdout",
     "text": [
      "True\n",
      "20\n"
     ]
    }
   ],
   "metadata": {}
  },
  {
   "cell_type": "markdown",
   "source": [
    "untuk mengganti dalam list, bisa dengan melakukan assignment ke index suatu list"
   ],
   "metadata": {}
  },
  {
   "cell_type": "code",
   "execution_count": 3,
   "source": [
    "z[0] = 100\r\n",
    "z"
   ],
   "outputs": [
    {
     "output_type": "execute_result",
     "data": {
      "text/plain": [
       "[100, 'Cinguri', 29.5, True]"
      ]
     },
     "metadata": {},
     "execution_count": 3
    }
   ],
   "metadata": {}
  },
  {
   "cell_type": "markdown",
   "source": [
    "proses menambahkan data di list, bisa menggunakan append (data akan ditaruh dalam posisi belakang), atau insert (membutuhkan parameter yang pertama adalah index dimana data akan di insert, parameter ke 2 merupakan data yang akan di insert)"
   ],
   "metadata": {}
  },
  {
   "cell_type": "code",
   "execution_count": 8,
   "source": [
    "z = [100, 'Cinguri', 29.5, True]\r\n",
    "print(z)\r\n",
    "z.insert(0, 'Moses')\r\n",
    "print(z)\r\n",
    "z.insert(1, 'Samuel')\r\n",
    "z"
   ],
   "outputs": [
    {
     "output_type": "stream",
     "name": "stdout",
     "text": [
      "[100, 'Cinguri', 29.5, True]\n",
      "['Moses', 100, 'Cinguri', 29.5, True]\n"
     ]
    },
    {
     "output_type": "execute_result",
     "data": {
      "text/plain": [
       "['Moses', 'Samuel', 100, 'Cinguri', 29.5, True]"
      ]
     },
     "metadata": {},
     "execution_count": 8
    }
   ],
   "metadata": {}
  },
  {
   "cell_type": "markdown",
   "source": [
    "fungsi pop adalah untuk mengambil suatu data dari list, pop ada yang menggunakan parameter dan ada yang tidak menggunakan parameter, yang tidak menggunakan parameter: maka akan diambil data terakhir, yang menggunakan parameter : maka akan diambil data yang diiinginkan"
   ],
   "metadata": {}
  },
  {
   "cell_type": "code",
   "execution_count": 14,
   "source": [
    "z = [100, 'Cinguri', 29.5, True]\r\n",
    "z.pop()\r\n",
    "print(z)\r\n",
    "z.pop(1)\r\n",
    "print(z)"
   ],
   "outputs": [
    {
     "output_type": "stream",
     "name": "stdout",
     "text": [
      "[100, 'Cinguri', 29.5]\n",
      "[100, 29.5]\n"
     ]
    }
   ],
   "metadata": {}
  },
  {
   "cell_type": "markdown",
   "source": [
    "remove list itu hanya menghapus 1 data yang ada di list, berikut ini, kita buatkan fungsi remove_all dengan parameter pertama adalah list dan parameter ke 2 adalah data yang akan dihapus"
   ],
   "metadata": {}
  },
  {
   "cell_type": "code",
   "execution_count": 1,
   "source": [
    "def remove_all(list, value):\r\n",
    "    total_data = list.count(value)\r\n",
    "    print(\"jumlah \", value, \" adalah \", total_data)\r\n",
    "    while total_data > 0:\r\n",
    "        list.remove(value)\r\n",
    "        print(list)\r\n",
    "        total_data = total_data - 1\r\n",
    "    return list\r\n",
    "\r\n",
    "a = [4, 4, 5, 6, 7, 9, 4, 4]\r\n",
    "\r\n",
    "remove_all(a, 4)"
   ],
   "outputs": [
    {
     "output_type": "stream",
     "name": "stdout",
     "text": [
      "jumlah  4  adalah  4\n",
      "[4, 5, 6, 7, 9, 4, 4]\n",
      "[5, 6, 7, 9, 4, 4]\n",
      "[5, 6, 7, 9, 4]\n",
      "[5, 6, 7, 9]\n"
     ]
    },
    {
     "output_type": "execute_result",
     "data": {
      "text/plain": [
       "[5, 6, 7, 9]"
      ]
     },
     "metadata": {},
     "execution_count": 1
    }
   ],
   "metadata": {}
  },
  {
   "cell_type": "code",
   "execution_count": 3,
   "source": [
    "def remove_all(data, value):\r\n",
    "    total_data = data.count(value)\r\n",
    "    print(\"jumlah \", value, \" adalah \", total_data)\r\n",
    "    while total_data > 0:\r\n",
    "        data.remove(value)\r\n",
    "        print(\"isi list saat ini adalah \", data)\r\n",
    "        total_data = total_data - 1\r\n",
    "        print('total data saat ini adalah', total_data)\r\n",
    "    return data\r\n",
    "\r\n",
    "# a = [4, 4, 5, 6, 7, 9, 4, 4]\r\n",
    "\r\n",
    "# remove_all(a, 4)\r\n",
    "\r\n",
    "x = [2, 4, 3, 5, 7, 2, 2, 3]\r\n",
    "remove_all(x, 2)"
   ],
   "outputs": [
    {
     "output_type": "stream",
     "name": "stdout",
     "text": [
      "jumlah  2  adalah  3\n",
      "isi list saat ini adalah  [4, 3, 5, 7, 2, 2, 3]\n",
      "total data saat ini adalah 2\n",
      "isi list saat ini adalah  [4, 3, 5, 7, 2, 3]\n",
      "total data saat ini adalah 1\n",
      "isi list saat ini adalah  [4, 3, 5, 7, 3]\n",
      "total data saat ini adalah 0\n"
     ]
    },
    {
     "output_type": "execute_result",
     "data": {
      "text/plain": [
       "[4, 3, 5, 7, 3]"
      ]
     },
     "metadata": {},
     "execution_count": 3
    }
   ],
   "metadata": {}
  }
 ],
 "metadata": {
  "orig_nbformat": 4,
  "language_info": {
   "name": "python",
   "version": "3.8.8",
   "mimetype": "text/x-python",
   "codemirror_mode": {
    "name": "ipython",
    "version": 3
   },
   "pygments_lexer": "ipython3",
   "nbconvert_exporter": "python",
   "file_extension": ".py"
  },
  "kernelspec": {
   "name": "python3",
   "display_name": "Python 3.8.8 64-bit ('base': conda)"
  },
  "interpreter": {
   "hash": "dbb356785411bb90f51a39a98b4eeb0e18a4f0bf1eae5e246faed5d4bd7da4d6"
  }
 },
 "nbformat": 4,
 "nbformat_minor": 2
}