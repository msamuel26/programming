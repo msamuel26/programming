{
 "cells": [
  {
   "cell_type": "markdown",
   "source": [
    "malam ini belajar tipe data list. List adalah tipe data yang menampung multi atau banyak data dengan tipe data yang beragam (bisa semuanya itu float, bisa semuanya itu int, bisa perpaduan antara float dengan int, dan sebagainya). Untuk mengakses nilai dalam list, gunakan index. Dimana index dimulai dari 0."
   ],
   "metadata": {}
  },
  {
   "cell_type": "code",
   "execution_count": 1,
   "source": [
    "b = [23, False, 'Emprit']\r\n",
    "b[2]"
   ],
   "outputs": [
    {
     "output_type": "execute_result",
     "data": {
      "text/plain": [
       "'Emprit'"
      ]
     },
     "metadata": {},
     "execution_count": 1
    }
   ],
   "metadata": {}
  },
  {
   "cell_type": "code",
   "execution_count": 2,
   "source": [
    "for value in b:\r\n",
    "    print(value)\r\n",
    "    "
   ],
   "outputs": [
    {
     "output_type": "stream",
     "name": "stdout",
     "text": [
      "23\n",
      "False\n",
      "Emprit\n"
     ]
    }
   ],
   "metadata": {}
  },
  {
   "cell_type": "markdown",
   "source": [
    "mengambil nilai list dari index tertentu. info: index dimulai dari 0"
   ],
   "metadata": {}
  },
  {
   "cell_type": "code",
   "execution_count": 1,
   "source": [
    "z = [20, 'Cinguri', 29.5, True]\r\n",
    "print(z[3])\r\n",
    "print(z[0])"
   ],
   "outputs": [
    {
     "output_type": "stream",
     "name": "stdout",
     "text": [
      "True\n",
      "20\n"
     ]
    }
   ],
   "metadata": {}
  },
  {
   "cell_type": "markdown",
   "source": [
    "untuk mengganti dalam list, bisa dengan melakukan assignment ke index suatu list"
   ],
   "metadata": {}
  },
  {
   "cell_type": "code",
   "execution_count": 3,
   "source": [
    "z[0] = 100\r\n",
    "z"
   ],
   "outputs": [
    {
     "output_type": "execute_result",
     "data": {
      "text/plain": [
       "[100, 'Cinguri', 29.5, True]"
      ]
     },
     "metadata": {},
     "execution_count": 3
    }
   ],
   "metadata": {}
  },
  {
   "cell_type": "markdown",
   "source": [
    "proses menambahkan data di list, bisa menggunakan append (data akan ditaruh dalam posisi belakang), atau insert (membutuhkan parameter yang pertama adalah index dimana data akan di insert, parameter ke 2 merupakan data yang akan di insert)"
   ],
   "metadata": {}
  },
  {
   "cell_type": "code",
   "execution_count": 8,
   "source": [
    "z = [100, 'Cinguri', 29.5, True]\r\n",
    "print(z)\r\n",
    "z.insert(0, 'Moses')\r\n",
    "print(z)\r\n",
    "z.insert(1, 'Samuel')\r\n",
    "z"
   ],
   "outputs": [
    {
     "output_type": "stream",
     "name": "stdout",
     "text": [
      "[100, 'Cinguri', 29.5, True]\n",
      "['Moses', 100, 'Cinguri', 29.5, True]\n"
     ]
    },
    {
     "output_type": "execute_result",
     "data": {
      "text/plain": [
       "['Moses', 'Samuel', 100, 'Cinguri', 29.5, True]"
      ]
     },
     "metadata": {},
     "execution_count": 8
    }
   ],
   "metadata": {}
  },
  {
   "cell_type": "markdown",
   "source": [
    "fungsi pop adalah untuk mengambil suatu data dari list, pop ada yang menggunakan parameter dan ada yang tidak menggunakan parameter, yang tidak menggunakan parameter: maka akan diambil data terakhir, yang menggunakan parameter : maka akan diambil data yang diiinginkan"
   ],
   "metadata": {}
  },
  {
   "cell_type": "code",
   "execution_count": 14,
   "source": [
    "z = [100, 'Cinguri', 29.5, True]\r\n",
    "z.pop()\r\n",
    "print(z)\r\n",
    "z.pop(1)\r\n",
    "print(z)"
   ],
   "outputs": [
    {
     "output_type": "stream",
     "name": "stdout",
     "text": [
      "[100, 'Cinguri', 29.5]\n",
      "[100, 29.5]\n"
     ]
    }
   ],
   "metadata": {}
  }
 ],
 "metadata": {
  "orig_nbformat": 4,
  "language_info": {
   "name": "python",
   "version": "3.8.8",
   "mimetype": "text/x-python",
   "codemirror_mode": {
    "name": "ipython",
    "version": 3
   },
   "pygments_lexer": "ipython3",
   "nbconvert_exporter": "python",
   "file_extension": ".py"
  },
  "kernelspec": {
   "name": "python3",
   "display_name": "Python 3.8.8 64-bit ('base': conda)"
  },
  "interpreter": {
   "hash": "dbb356785411bb90f51a39a98b4eeb0e18a4f0bf1eae5e246faed5d4bd7da4d6"
  }
 },
 "nbformat": 4,
 "nbformat_minor": 2
}