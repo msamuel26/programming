{
 "cells": [
  {
   "cell_type": "markdown",
   "metadata": {},
   "source": [
    "malam ini belajar tipe data list. List adalah tipe data yang menampung multi atau banyak data dengan tipe data yang beragam (bisa semuanya itu float, bisa semuanya itu int, bisa perpaduan antara float dengan int, dan sebagainya). Untuk mengakses nilai dalam list, gunakan index. Dimana index dimulai dari 0."
   ]
  },
  {
   "cell_type": "code",
   "execution_count": 1,
   "metadata": {},
   "outputs": [
    {
     "data": {
      "text/plain": [
       "'Emprit'"
      ]
     },
     "execution_count": 1,
     "metadata": {},
     "output_type": "execute_result"
    }
   ],
   "source": [
    "b = [23, False, 'Emprit']\n",
    "b[2]"
   ]
  },
  {
   "cell_type": "code",
   "execution_count": 2,
   "metadata": {},
   "outputs": [
    {
     "name": "stdout",
     "output_type": "stream",
     "text": [
      "23\n",
      "False\n",
      "Emprit\n"
     ]
    }
   ],
   "source": [
    "for value in b:\n",
    "    print(value)\n",
    "    "
   ]
  },
  {
   "cell_type": "markdown",
   "metadata": {},
   "source": [
    "mengambil nilai list dari index tertentu. Info: index dimulai dari 0"
   ]
  },
  {
   "cell_type": "code",
   "execution_count": 1,
   "metadata": {},
   "outputs": [
    {
     "name": "stdout",
     "output_type": "stream",
     "text": [
      "True\n",
      "20\n"
     ]
    }
   ],
   "source": [
    "z = [20, 'Cinguri', 29.5, True]\n",
    "print(z[3])\n",
    "print(z[0])"
   ]
  },
  {
   "cell_type": "markdown",
   "metadata": {},
   "source": [
    "untuk mengganti dalam list, bisa dengan melakukan assignment ke index suatu list"
   ]
  },
  {
   "cell_type": "code",
   "execution_count": 3,
   "metadata": {},
   "outputs": [
    {
     "data": {
      "text/plain": [
       "[100, 'Cinguri', 29.5, True]"
      ]
     },
     "execution_count": 3,
     "metadata": {},
     "output_type": "execute_result"
    }
   ],
   "source": [
    "z[0] = 100\n",
    "z"
   ]
  },
  {
   "cell_type": "markdown",
   "metadata": {},
   "source": [
    "proses menambahkan data di list, bisa menggunakan append (data akan ditaruh dalam posisi belakang), atau insert (membutuhkan parameter yang pertama adalah index dimana data akan di insert, parameter ke 2 merupakan data yang akan di insert)"
   ]
  },
  {
   "cell_type": "code",
   "execution_count": 8,
   "metadata": {},
   "outputs": [
    {
     "name": "stdout",
     "output_type": "stream",
     "text": [
      "[100, 'Cinguri', 29.5, True]\n",
      "['Moses', 100, 'Cinguri', 29.5, True]\n"
     ]
    },
    {
     "data": {
      "text/plain": [
       "['Moses', 'Samuel', 100, 'Cinguri', 29.5, True]"
      ]
     },
     "execution_count": 8,
     "metadata": {},
     "output_type": "execute_result"
    }
   ],
   "source": [
    "z = [100, 'Cinguri', 29.5, True]\n",
    "print(z)\n",
    "z.insert(0, 'Moses')\n",
    "print(z)\n",
    "z.insert(1, 'Samuel')\n",
    "z"
   ]
  },
  {
   "cell_type": "markdown",
   "metadata": {},
   "source": [
    "fungsi pop adalah untuk mengambil suatu data dari list, pop ada yang menggunakan parameter dan ada yang tidak menggunakan parameter, yang tidak menggunakan parameter: maka akan diambil data terakhir, yang menggunakan parameter : maka akan diambil data yang diiinginkan"
   ]
  },
  {
   "cell_type": "code",
   "execution_count": 14,
   "metadata": {},
   "outputs": [
    {
     "name": "stdout",
     "output_type": "stream",
     "text": [
      "[100, 'Cinguri', 29.5]\n",
      "[100, 29.5]\n"
     ]
    }
   ],
   "source": [
    "z = [100, 'Cinguri', 29.5, True]\n",
    "z.pop()\n",
    "print(z)\n",
    "z.pop(1)\n",
    "print(z)"
   ]
  },
  {
   "cell_type": "markdown",
   "metadata": {},
   "source": [
    "remove list itu hanya menghapus 1 data yang ada di list, berikut ini, kita buatkan fungsi remove_all dengan parameter pertama adalah list dan parameter ke 2 adalah data yang akan dihapus"
   ]
  },
  {
   "cell_type": "code",
   "execution_count": 1,
   "metadata": {},
   "outputs": [
    {
     "name": "stdout",
     "output_type": "stream",
     "text": [
      "jumlah  4  adalah  4\n",
      "[4, 5, 6, 7, 9, 4, 4]\n",
      "[5, 6, 7, 9, 4, 4]\n",
      "[5, 6, 7, 9, 4]\n",
      "[5, 6, 7, 9]\n"
     ]
    },
    {
     "data": {
      "text/plain": [
       "[5, 6, 7, 9]"
      ]
     },
     "execution_count": 1,
     "metadata": {},
     "output_type": "execute_result"
    }
   ],
   "source": [
    "def remove_all(list, value):\n",
    "    total_data = list.count(value)\n",
    "    print(\"jumlah \", value, \" adalah \", total_data)\n",
    "    while total_data > 0:\n",
    "        list.remove(value)\n",
    "        print(list)\n",
    "        total_data = total_data - 1\n",
    "    return list\n",
    "\n",
    "a = [4, 4, 5, 6, 7, 9, 4, 4]\n",
    "\n",
    "remove_all(a, 4)"
   ]
  },
  {
   "cell_type": "code",
   "execution_count": 21,
   "metadata": {},
   "outputs": [
    {
     "name": "stdout",
     "output_type": "stream",
     "text": [
      "jumlah  2  adalah  3\n",
      "isi list saat ini adalah  [4, 3, 5, 7, 2, 2, 3]\n",
      "total data saat ini adalah 2\n",
      "isi list saat ini adalah  [4, 3, 5, 7, 2, 3]\n",
      "total data saat ini adalah 1\n",
      "isi list saat ini adalah  [4, 3, 5, 7, 3]\n",
      "total data saat ini adalah 0\n"
     ]
    },
    {
     "data": {
      "text/plain": [
       "[4, 3, 5, 7, 3]"
      ]
     },
     "execution_count": 21,
     "metadata": {},
     "output_type": "execute_result"
    }
   ],
   "source": [
    "def remove_all(data, value):\n",
    "    total_data = data.count(value)\n",
    "    print(\"jumlah \", value, \" adalah \", total_data)\n",
    "    while total_data > 0:\n",
    "        data.remove(value)\n",
    "        print(\"isi list saat ini adalah \", data)\n",
    "        total_data = total_data - 1\n",
    "        print('total data saat ini adalah', total_data)\n",
    "    return data\n",
    "\n",
    "# a = [4, 4, 5, 6, 7, 9, 4, 4]\n",
    "\n",
    "# remove_all(a, 4)\n",
    "\n",
    "x = [2, 4, 3, 5, 7, 2, 2, 3]\n",
    "remove_all(x, 2)"
   ]
  },
  {
   "cell_type": "markdown",
   "metadata": {},
   "source": [
    "Hari ini belajar set. Set adalah tipe data yang diawali dan diakhiri dengan kurung kurawal: {} dengan banyak tipe data dan tidak dapat berisi nilai yang duplicate/ganda"
   ]
  },
  {
   "cell_type": "code",
   "execution_count": 2,
   "metadata": {},
   "outputs": [
    {
     "name": "stdout",
     "output_type": "stream",
     "text": [
      "{1, 'a', 3, 4}\n"
     ]
    }
   ],
   "source": [
    "x = {1, 1, 3, 3, \"a\", \"a\", 4}\n",
    "print(x)"
   ]
  },
  {
   "cell_type": "markdown",
   "metadata": {},
   "source": [
    "Hari ini belajar tentang tuple. Tuple adalah tipe data yang dapat diurutkan, tidak dapat diubah, dan diperbolehkan men-duplicate atau men-gandakan suatu nilai dalam tipe data tersebut. Dapat diakses dengan index."
   ]
  },
  {
   "cell_type": "code",
   "execution_count": 5,
   "metadata": {},
   "outputs": [
    {
     "data": {
      "text/plain": [
       "tuple"
      ]
     },
     "execution_count": 5,
     "metadata": {},
     "output_type": "execute_result"
    }
   ],
   "source": [
    "b = (1, 1, 2, \"nilai\", \"value\", 3, 3)\n",
    "type(b)"
   ]
  },
  {
   "cell_type": "code",
   "execution_count": 6,
   "metadata": {},
   "outputs": [
    {
     "data": {
      "text/plain": [
       "'nilai'"
      ]
     },
     "execution_count": 6,
     "metadata": {},
     "output_type": "execute_result"
    }
   ],
   "source": [
    "b = (1, 1, 2, \"nilai\", \"value\", 3, 3)\n",
    "b[3]"
   ]
  },
  {
   "cell_type": "markdown",
   "metadata": {},
   "source": [
    "Isi dari tuple tidak dapat diubah (unchangeable), berikut contoh kode di bawah ini:"
   ]
  },
  {
   "cell_type": "code",
   "execution_count": 7,
   "metadata": {},
   "outputs": [
    {
     "ename": "TypeError",
     "evalue": "'tuple' object does not support item assignment",
     "output_type": "error",
     "traceback": [
      "\u001b[1;31m---------------------------------------------------------------------------\u001b[0m",
      "\u001b[1;31mTypeError\u001b[0m                                 Traceback (most recent call last)",
      "\u001b[1;32m<ipython-input-7-4f0647681086>\u001b[0m in \u001b[0;36m<module>\u001b[1;34m\u001b[0m\n\u001b[0;32m      1\u001b[0m \u001b[0mb\u001b[0m \u001b[1;33m=\u001b[0m \u001b[1;33m(\u001b[0m\u001b[1;36m1\u001b[0m\u001b[1;33m,\u001b[0m \u001b[1;36m1\u001b[0m\u001b[1;33m,\u001b[0m \u001b[1;36m2\u001b[0m\u001b[1;33m,\u001b[0m \u001b[1;34m\"nilai\"\u001b[0m\u001b[1;33m,\u001b[0m \u001b[1;34m\"value\"\u001b[0m\u001b[1;33m,\u001b[0m \u001b[1;36m3\u001b[0m\u001b[1;33m,\u001b[0m \u001b[1;36m3\u001b[0m\u001b[1;33m)\u001b[0m\u001b[1;33m\u001b[0m\u001b[1;33m\u001b[0m\u001b[0m\n\u001b[1;32m----> 2\u001b[1;33m \u001b[0mb\u001b[0m\u001b[1;33m[\u001b[0m\u001b[1;36m3\u001b[0m\u001b[1;33m]\u001b[0m \u001b[1;33m=\u001b[0m \u001b[1;34m\"Cengir\"\u001b[0m\u001b[1;33m\u001b[0m\u001b[1;33m\u001b[0m\u001b[0m\n\u001b[0m",
      "\u001b[1;31mTypeError\u001b[0m: 'tuple' object does not support item assignment"
     ]
    }
   ],
   "source": [
    "b = (1, 1, 2, \"nilai\", \"value\", 3, 3)\n",
    "b[3] = \"Cengir\""
   ]
  },
  {
   "cell_type": "markdown",
   "metadata": {},
   "source": [
    "Hari ini belajar membuat kode dari perintah \"Loop through and print out all even numbers from the numbers list in the same order they are received. Don't print any numbers that come after 237 in the sequence\" = \"Ulangi dan cetak semua nomor genap dari daftar nomor dengan urutan yang sama saat diterima. Jangan mencetak angka yang muncul setelah 237 secara berurutan\". Berikut kode di bawah ini:"
   ]
  },
  {
   "cell_type": "code",
   "execution_count": 5,
   "metadata": {},
   "outputs": [
    {
     "name": "stdout",
     "output_type": "stream",
     "text": [
      "402\n",
      "984\n",
      "360\n",
      "408\n",
      "980\n",
      "544\n",
      "390\n",
      "984\n",
      "592\n",
      "236\n",
      "942\n",
      "386\n",
      "462\n",
      "418\n",
      "344\n",
      "236\n",
      "566\n",
      "978\n",
      "328\n",
      "162\n",
      "758\n",
      "918\n"
     ]
    }
   ],
   "source": [
    "numbers = [\n",
    "    951, 402, 984, 651, 360, 69, 408, 319, 601, 485, 980, 507, 725, 547, 544,\n",
    "    615, 83, 165, 141, 501, 263, 617, 865, 575, 219, 390, 984, 592, 236, 105, 942, 941,\n",
    "    386, 462, 47, 418, 907, 344, 236, 375, 823, 566, 597, 978, 328, 615, 953, 345,\n",
    "    399, 162, 758, 219, 918, 237, 412, 566, 826, 248, 866, 950, 626, 949, 687, 217,\n",
    "    815, 67, 104, 58, 512, 24, 892, 894, 767, 553, 81, 379, 843, 831, 445, 742, 717,\n",
    "    958, 609, 842, 451, 688, 753, 854, 685, 93, 857, 440, 380, 126, 721, 328, 753, 470,\n",
    "    743, 527\n",
    "]\n",
    "\n",
    "def even_number(value):\n",
    "    output = False\n",
    "    if value % 2 == 0:\n",
    "        output = True\n",
    "    return output\n",
    "\n",
    "for value in numbers:\n",
    "    if value == 237:\n",
    "        break\n",
    "    else:\n",
    "        if even_number(value):\n",
    "            print(value)"
   ]
  },
  {
   "cell_type": "markdown",
   "metadata": {},
   "source": [
    "Hari ini belajar tipe data \"dictionary\". Dictionary adalah tipe data yang bisa menampung data dalam format multi key dan value. Dictionary menggunakan kurung kurawal."
   ]
  },
  {
   "cell_type": "code",
   "execution_count": 20,
   "metadata": {},
   "outputs": [
    {
     "name": "stdout",
     "output_type": "stream",
     "text": [
      "Kunci:  1 ; Nilai:  Afiya\n",
      "Kunci:  2 ; Nilai:  Fadlan\n",
      "Kunci:  3 ; Nilai:  Ara\n",
      "Kunci:  4 ; Nilai:  Emprit\n",
      "Kunci:  21 ; Nilai:  McPout\n"
     ]
    },
    {
     "data": {
      "text/plain": [
       "dict"
      ]
     },
     "execution_count": 20,
     "metadata": {},
     "output_type": "execute_result"
    }
   ],
   "source": [
    "x = { 1 : \"Afiya\", 2 : \"Fadlan\", 3 : \"Ara\", 4 : \"Emprit\", 21 : \"McPout\" }\n",
    "for key in x:\n",
    "    print(\"Kunci: \", key, \"; Nilai: \", x[key])\n",
    "type(x)"
   ]
  },
  {
   "cell_type": "markdown",
   "metadata": {},
   "source": [
    "Key dan value bisa berupa tipe data apapun. Berikut contohnya:"
   ]
  },
  {
   "cell_type": "code",
   "execution_count": 11,
   "metadata": {},
   "outputs": [
    {
     "name": "stdout",
     "output_type": "stream",
     "text": [
      "{'a': 100, 1: 'satu satu', 8.9: 'Testing'}\n",
      "100\n",
      "satu satu\n",
      "Testing\n",
      "Kunci:  a ; Nilai:  100\n",
      "Kunci:  1 ; Nilai:  satu satu\n",
      "Kunci:  8.9 ; Nilai:  Testing\n"
     ]
    }
   ],
   "source": [
    "b = { \"a\" : 100, 1 : \"satu satu\", 8.9 : \"Testing\" }\n",
    "print(b)\n",
    "print(b[\"a\"])\n",
    "print(b[1])\n",
    "print(b[8.9])\n",
    "\n",
    "for key in b:\n",
    "    print(\"Kunci: \", key, \"; Nilai: \", b[key])"
   ]
  },
  {
   "cell_type": "markdown",
   "metadata": {},
   "source": [
    "Untuk mengetahui suatu nilai dalam list/set/tuple, gunakan fungsi index. Berikut contohnya:"
   ]
  },
  {
   "cell_type": "code",
   "execution_count": 5,
   "metadata": {},
   "outputs": [
    {
     "name": "stdout",
     "output_type": "stream",
     "text": [
      "0\n",
      "4\n",
      "1\n"
     ]
    }
   ],
   "source": [
    "b = [\"Angka\", 2, \"McPout\", 8.9, \"gunung\"]\n",
    "print(b.index(\"Angka\"))\n",
    "print(b.index(\"gunung\"))\n",
    "print(b.index(2))"
   ]
  },
  {
   "cell_type": "markdown",
   "metadata": {},
   "source": [
    "Dictionary tidak diperkenankan key yang ganda atau duplicate. Jika kita medefinisikan key yang sama, maka value yang diambil adalah value yang terakhir.  "
   ]
  },
  {
   "cell_type": "code",
   "execution_count": 22,
   "metadata": {},
   "outputs": [
    {
     "data": {
      "text/plain": [
       "{'a': 8, 'e': 'Empriti', 'c': 2, 'd': 7.5}"
      ]
     },
     "execution_count": 22,
     "metadata": {},
     "output_type": "execute_result"
    }
   ],
   "source": [
    "x = {\"a\" : 8, \"e\" : 4, \"c\" : 2, \"d\" : 7.5, \"e\" : \"Empriti\"}\n",
    "x"
   ]
  },
  {
   "cell_type": "markdown",
   "metadata": {},
   "source": [
    "Membuat dictionary kosongan dan menambahkan key dan value dalam dictionary tersebut. Berikut contoh dibawah:"
   ]
  },
  {
   "cell_type": "code",
   "execution_count": 25,
   "metadata": {},
   "outputs": [
    {
     "name": "stdout",
     "output_type": "stream",
     "text": [
      "{1: 'Belajar Python'}\n",
      "{1: 'Belajar Python', 2: 'Setip bobok'}\n",
      "{1: 'Belajar Python', 2: 'Setipi'}\n"
     ]
    }
   ],
   "source": [
    "res = {}\n",
    "res[1] = \"Belajar Python\"\n",
    "print(res)\n",
    "res[2] = \"Setip bobok\"\n",
    "print(res)\n",
    "res[2] = \"Setipi\"\n",
    "print(res)"
   ]
  },
  {
   "cell_type": "markdown",
   "metadata": {},
   "source": [
    "Operator // artinya adalah floor division. Floor division artinya nilai terkecil terdekat dari suatu pembagian"
   ]
  },
  {
   "cell_type": "code",
   "execution_count": 5,
   "metadata": {},
   "outputs": [
    {
     "name": "stdout",
     "output_type": "stream",
     "text": [
      "25.0\n",
      "25.0\n",
      "25.0\n",
      "25\n"
     ]
    }
   ],
   "source": [
    "print(127.5 // 5)   \n",
    "print(127.9 // 5)\n",
    "print(127.1 // 5)\n",
    "print(127 // 5)"
   ]
  }
 ],
 "metadata": {
  "interpreter": {
   "hash": "dbb356785411bb90f51a39a98b4eeb0e18a4f0bf1eae5e246faed5d4bd7da4d6"
  },
  "kernelspec": {
   "display_name": "Python 3.8.8 64-bit ('base': conda)",
   "name": "python3"
  },
  "language_info": {
   "codemirror_mode": {
    "name": "ipython",
    "version": 3
   },
   "file_extension": ".py",
   "mimetype": "text/x-python",
   "name": "python",
   "nbconvert_exporter": "python",
   "pygments_lexer": "ipython3",
   "version": "3.8.8"
  },
  "orig_nbformat": 4
 },
 "nbformat": 4,
 "nbformat_minor": 2
}
