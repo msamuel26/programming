{
 "cells": [
  {
   "cell_type": "markdown",
   "source": [
    "malam ini belajar tipe data list. List adalah tipe data yang menampung multi atau banyak data dengan tipe data yang beragam (bisa semuanya itu float, bisa semuanya itu int, bisa perpaduan antara float dengan int, dan sebagainya). Untuk mengakses nilai dalam list, gunakan index. Dimana index dimulai dari 0."
   ],
   "metadata": {}
  },
  {
   "cell_type": "code",
   "execution_count": 1,
   "source": [
    "b = [23, False, 'Emprit']\r\n",
    "b[2]"
   ],
   "outputs": [
    {
     "output_type": "execute_result",
     "data": {
      "text/plain": [
       "'Emprit'"
      ]
     },
     "metadata": {},
     "execution_count": 1
    }
   ],
   "metadata": {}
  },
  {
   "cell_type": "code",
   "execution_count": 2,
   "source": [
    "for value in b:\r\n",
    "    print(value)\r\n",
    "    "
   ],
   "outputs": [
    {
     "output_type": "stream",
     "name": "stdout",
     "text": [
      "23\n",
      "False\n",
      "Emprit\n"
     ]
    }
   ],
   "metadata": {}
  }
 ],
 "metadata": {
  "orig_nbformat": 4,
  "language_info": {
   "name": "python",
   "version": "3.8.8",
   "mimetype": "text/x-python",
   "codemirror_mode": {
    "name": "ipython",
    "version": 3
   },
   "pygments_lexer": "ipython3",
   "nbconvert_exporter": "python",
   "file_extension": ".py"
  },
  "kernelspec": {
   "name": "python3",
   "display_name": "Python 3.8.8 64-bit ('base': conda)"
  },
  "interpreter": {
   "hash": "dbb356785411bb90f51a39a98b4eeb0e18a4f0bf1eae5e246faed5d4bd7da4d6"
  }
 },
 "nbformat": 4,
 "nbformat_minor": 2
}